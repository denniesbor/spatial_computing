{
  "nbformat": 4,
  "nbformat_minor": 0,
  "metadata": {
    "colab": {
      "provenance": [],
      "authorship_tag": "ABX9TyNuI5FDm3XXDUZ3bgiK7O/a",
      "include_colab_link": true
    },
    "kernelspec": {
      "name": "python3",
      "display_name": "Python 3"
    },
    "language_info": {
      "name": "python"
    }
  },
  "cells": [
    {
      "cell_type": "markdown",
      "metadata": {
        "id": "view-in-github",
        "colab_type": "text"
      },
      "source": [
        "<a href=\"https://colab.research.google.com/github/edwardoughton/spatial_computing/blob/main/3_02_Iteration.ipynb\" target=\"_parent\"><img src=\"https://colab.research.google.com/assets/colab-badge.svg\" alt=\"Open In Colab\"/></a>"
      ]
    },
    {
      "cell_type": "markdown",
      "source": [
        "# Iteration\n",
        "\n",
        "Iteration refers to the use of loops in computer programming.\n",
        "\n",
        "By \"iteration\", we are referring to the repeated use of a process in a systematic way. So we could define a set of processing instructions for our data, and then via iteration, we could use a Python loop to feed each row in our dataset one-by-one through these steps. Sometimes we might specify that we want the iteration process to continue until a pre-defined condition is met (at which point the loop ceases).  \n",
        "\n",
        "There are multiple different types of loops that we will cover here, including `for` loops, `while` loops etc. Additionally, time will be spent covering some basic looping logic e.g., `continue`, `break` etc."
      ],
      "metadata": {
        "id": "hVVDgL7Ns1AQ"
      }
    },
    {
      "cell_type": "markdown",
      "source": [
        "## **Iteration - For Loop**\n",
        "\n",
        "We have already used these types of iterative structures briefly in the class, e.g., for looping over some form of data structure in Python.\n",
        "\n",
        "This data structure could be a range, string, list, tuple, dictionary etc.\n",
        "\n",
        "* When we begin with the term `for`, Python knows we want to start a `for` loop (see that this is indicated by `for` being a protected word in Python, because it is a different color).\n",
        "* We then specify our iterator. Python allows this to be user-defined (e.g., `i`).\n",
        "* Next, we need to specify that this iterator will be iterating `in` the following object.\n",
        "* Finally, we specify the data structure or function we want to iterate with.\n",
        "\n",
        "To iterate over a range of numbers, we use the built-in function `.range()`.\n",
        "\n",
        "\n",
        "\n",
        "\n"
      ],
      "metadata": {
        "id": "eePPHumwtyEC"
      }
    },
    {
      "cell_type": "code",
      "source": [
        "# Example: Iterating over a range\n",
        "for i in range(1,5):\n",
        "  print(i)"
      ],
      "metadata": {
        "colab": {
          "base_uri": "https://localhost:8080/"
        },
        "id": "WXIUro5EuUC1",
        "outputId": "c01ef2b7-9d56-4785-c1b3-25c5154e0a6d"
      },
      "execution_count": null,
      "outputs": [
        {
          "output_type": "stream",
          "name": "stdout",
          "text": [
            "1\n",
            "2\n",
            "3\n",
            "4\n"
          ]
        }
      ]
    },
    {
      "cell_type": "markdown",
      "source": [
        "The `.range()` function will also allow you to increment your iterator.\n",
        "\n",
        "The function follows this pattern `.range(start, stop, step=1)`, as follows."
      ],
      "metadata": {
        "id": "AZ6hFTr9NnHC"
      }
    },
    {
      "cell_type": "code",
      "source": [
        "# Example: Iterating over a range via an increment\n",
        "for i in range(1,10,2):\n",
        "  print(i)"
      ],
      "metadata": {
        "colab": {
          "base_uri": "https://localhost:8080/"
        },
        "id": "OBQGvMbXNsIn",
        "outputId": "27bfe422-4f68-49fb-cd96-df8a5d529b8f"
      },
      "execution_count": null,
      "outputs": [
        {
          "output_type": "stream",
          "name": "stdout",
          "text": [
            "1\n",
            "3\n",
            "5\n",
            "7\n",
            "9\n"
          ]
        }
      ]
    },
    {
      "cell_type": "markdown",
      "source": [
        "We can also iterate over a list sequence, each element at a time."
      ],
      "metadata": {
        "id": "3FLBt3SF50C0"
      }
    },
    {
      "cell_type": "code",
      "source": [
        "# Example: Iterating over a list\n",
        "my_list = [1,2,3,4]\n",
        "for i in my_list:\n",
        "  print(i)"
      ],
      "metadata": {
        "colab": {
          "base_uri": "https://localhost:8080/"
        },
        "id": "UCNkWfk1ukQh",
        "outputId": "4e051798-03ac-4466-bf01-1bf5442495b1"
      },
      "execution_count": null,
      "outputs": [
        {
          "output_type": "stream",
          "name": "stdout",
          "text": [
            "1\n",
            "2\n",
            "3\n",
            "4\n"
          ]
        }
      ]
    },
    {
      "cell_type": "markdown",
      "source": [
        "Or we could iterate over a tuple, if we desire."
      ],
      "metadata": {
        "id": "15tdVY7057IV"
      }
    },
    {
      "cell_type": "code",
      "execution_count": null,
      "metadata": {
        "colab": {
          "base_uri": "https://localhost:8080/"
        },
        "id": "qumB7rmgnILa",
        "outputId": "15bc9e16-834b-4616-de8d-39f445f4ab34"
      },
      "outputs": [
        {
          "output_type": "stream",
          "name": "stdout",
          "text": [
            "1\n",
            "2\n",
            "3\n",
            "4\n"
          ]
        }
      ],
      "source": [
        "# Example: Iterating over a tuple\n",
        "my_tuple = (1,2,3,4)\n",
        "for i in my_tuple:\n",
        "  print(i)"
      ]
    },
    {
      "cell_type": "markdown",
      "source": [
        "However, to iterate over a list, as we have key-value pairs, we must do something slightly different via the `items()` function.\n",
        "\n",
        "Note, we also have two iterators here, one of the key and one for the value. But we still iterate one key-value pair at a time."
      ],
      "metadata": {
        "id": "68B8O1Vq5_OE"
      }
    },
    {
      "cell_type": "code",
      "source": [
        "# Example: Iterating over a dict key-value pairs\n",
        "my_dict = {\n",
        "    'a': 1,\n",
        "    'b': 2,\n",
        "    'c': 3,\n",
        "    'd': 4\n",
        "}\n",
        "for key, value in my_dict.items():\n",
        "  print(key, value)"
      ],
      "metadata": {
        "colab": {
          "base_uri": "https://localhost:8080/"
        },
        "id": "dPzWSIcAu5d0",
        "outputId": "8f7653d8-ff8d-4758-e52c-d14c7fd1f9df"
      },
      "execution_count": null,
      "outputs": [
        {
          "output_type": "stream",
          "name": "stdout",
          "text": [
            "a 1\n",
            "b 2\n",
            "c 3\n",
            "d 4\n"
          ]
        }
      ]
    },
    {
      "cell_type": "markdown",
      "source": [
        "If you like, you could just print the keys, using the `.keys()` function."
      ],
      "metadata": {
        "id": "QTJHPG6k6ztx"
      }
    },
    {
      "cell_type": "code",
      "source": [
        "# Example: Iterating over dict keys\n",
        "my_dict = {\n",
        "    'a': 1,\n",
        "    'b': 2,\n",
        "    'c': 3,\n",
        "    'd': 4\n",
        "}\n",
        "for key in my_dict.keys():\n",
        "  print(key)"
      ],
      "metadata": {
        "colab": {
          "base_uri": "https://localhost:8080/"
        },
        "id": "4_VclsOm60EJ",
        "outputId": "37eeb323-095e-49dd-956c-29837c1c0637"
      },
      "execution_count": null,
      "outputs": [
        {
          "output_type": "stream",
          "name": "stdout",
          "text": [
            "a\n",
            "b\n",
            "c\n",
            "d\n"
          ]
        }
      ]
    },
    {
      "cell_type": "markdown",
      "source": [
        "And equally, you could do the same just for the values, using the `.values()` function."
      ],
      "metadata": {
        "id": "biIdIEP37SWn"
      }
    },
    {
      "cell_type": "code",
      "source": [
        "# Example: Iterating over dict values\n",
        "my_dict = {\n",
        "    'a': 1,\n",
        "    'b': 2,\n",
        "    'c': 3,\n",
        "    'd': 4\n",
        "}\n",
        "for key in my_dict.values():\n",
        "  print(key)"
      ],
      "metadata": {
        "colab": {
          "base_uri": "https://localhost:8080/"
        },
        "id": "WciSlwwx7ZgI",
        "outputId": "64fcb1ce-6137-4a9e-be18-a0bfe4c40544"
      },
      "execution_count": null,
      "outputs": [
        {
          "output_type": "stream",
          "name": "stdout",
          "text": [
            "1\n",
            "2\n",
            "3\n",
            "4\n"
          ]
        }
      ]
    },
    {
      "cell_type": "markdown",
      "source": [
        "It is also possible to iterate over a string, if we want to, iterating over one character at a time (although we will use this less frequently, than the iteration approach for lists and dicts)."
      ],
      "metadata": {
        "id": "lduGJwUn6YyA"
      }
    },
    {
      "cell_type": "code",
      "source": [
        "# Example: Iterating over a string\n",
        "my_string ='abcde'\n",
        "for i in my_string:\n",
        "  print(i)"
      ],
      "metadata": {
        "colab": {
          "base_uri": "https://localhost:8080/"
        },
        "id": "usNiJrwxxDpR",
        "outputId": "76450bc2-3c42-47cc-f1f9-219c66189a46"
      },
      "execution_count": null,
      "outputs": [
        {
          "output_type": "stream",
          "name": "stdout",
          "text": [
            "a\n",
            "b\n",
            "c\n",
            "d\n",
            "e\n"
          ]
        }
      ]
    },
    {
      "cell_type": "markdown",
      "source": [
        "Finally, we might want to iterate over a data structure and also use an index at the same time, via the `.enumerate()` function. So the first element, at index position zero, will be present here with the value of 0 (and so on, and so forth)."
      ],
      "metadata": {
        "id": "bQqRNZSV6hyK"
      }
    },
    {
      "cell_type": "code",
      "source": [
        "# Example: Iterating over a list with an index\n",
        "my_list = [1,2,3,4]\n",
        "for index, i in enumerate(my_list):\n",
        "  print(\"My index value is : {}\".format(index))\n",
        "  print(\"My iterator value is : {}\".format(i))\n",
        "  print('')"
      ],
      "metadata": {
        "colab": {
          "base_uri": "https://localhost:8080/"
        },
        "id": "gWmadOPQxUys",
        "outputId": "08532c1d-c8b0-49b9-a8a9-ea47d779d232"
      },
      "execution_count": null,
      "outputs": [
        {
          "output_type": "stream",
          "name": "stdout",
          "text": [
            "My index value is : 0\n",
            "My iterator value is : 1\n",
            "\n",
            "My index value is : 1\n",
            "My iterator value is : 2\n",
            "\n",
            "My index value is : 2\n",
            "My iterator value is : 3\n",
            "\n",
            "My index value is : 3\n",
            "My iterator value is : 4\n",
            "\n"
          ]
        }
      ]
    },
    {
      "cell_type": "markdown",
      "source": [
        "Task 1\n",
        "\n",
        "* Print all numbers from 5 to 12 via a `for` loop. Hint: Check the Python documentation for guidance on how to use all available function capabilities. Once complete, write another example but this time incrementing in values of 3.\n"
      ],
      "metadata": {
        "id": "-TUe5uZaK1di"
      }
    },
    {
      "cell_type": "code",
      "source": [
        "# Enter your attempt here\n"
      ],
      "metadata": {
        "id": "EdAIeD0yf7YZ"
      },
      "execution_count": null,
      "outputs": []
    },
    {
      "cell_type": "markdown",
      "source": [
        "Task 2\n",
        "* Create a list of the days of the week and print each element via a `for` loop.\n"
      ],
      "metadata": {
        "id": "kFBjiMnKf9dz"
      }
    },
    {
      "cell_type": "code",
      "source": [
        "# Enter your attempt here\n"
      ],
      "metadata": {
        "id": "D58j1kqFL7o0"
      },
      "execution_count": null,
      "outputs": []
    },
    {
      "cell_type": "markdown",
      "source": [
        "Task 3\n",
        "* Create a tuple containing your name, age and birth month/year. Print each element via a `for` loop.\n"
      ],
      "metadata": {
        "id": "qt7dqt4Sf-jG"
      }
    },
    {
      "cell_type": "code",
      "source": [
        "# Enter your attempt here\n"
      ],
      "metadata": {
        "id": "OPQM34Rpf_J2"
      },
      "execution_count": null,
      "outputs": []
    },
    {
      "cell_type": "markdown",
      "source": [
        "Task 4\n",
        "* Create a dictionary with your PoI information from the previous class exercise. Iterate over all key, value pairs."
      ],
      "metadata": {
        "id": "_UMRpsvGf_93"
      }
    },
    {
      "cell_type": "code",
      "source": [
        "# Enter your attempt here\n"
      ],
      "metadata": {
        "id": "eUhjdd4ugAzm"
      },
      "execution_count": null,
      "outputs": []
    },
    {
      "cell_type": "markdown",
      "source": [
        "Task 5\n",
        "* First, make a list of the values under 5. Via a `for` loop, sum all the numbers and print a running total to the console."
      ],
      "metadata": {
        "id": "C6kA2ImpgQyF"
      }
    },
    {
      "cell_type": "code",
      "source": [
        "# Enter your attempt here\n"
      ],
      "metadata": {
        "id": "qH1AeE6fgR9H"
      },
      "execution_count": null,
      "outputs": []
    },
    {
      "cell_type": "markdown",
      "source": [
        "## **Iteration - While loop**\n",
        "\n",
        "A useful capability is iterating over a data structure until some user-defined condition is true, by using a `while` loop.\n",
        "\n",
        "When the condition is met, the loop ceases to function.\n",
        "\n",
        "This is an important control flow structure to understand.\n"
      ],
      "metadata": {
        "id": "u4M2lsiWvVgS"
      }
    },
    {
      "cell_type": "code",
      "source": [
        "# Example: Iterating via a while loop\n",
        "quantity = 0\n",
        "while quantity < 3:\n",
        "    print(\"Quantity is currently {}\".format(quantity))\n",
        "    quantity += 1"
      ],
      "metadata": {
        "colab": {
          "base_uri": "https://localhost:8080/"
        },
        "id": "KK_i31H6vnbR",
        "outputId": "e19fa3e3-9f2f-4408-a78e-7a26139e956b"
      },
      "execution_count": null,
      "outputs": [
        {
          "output_type": "stream",
          "name": "stdout",
          "text": [
            "Quantity is currently 0\n",
            "Quantity is currently 1\n",
            "Quantity is currently 2\n"
          ]
        }
      ]
    },
    {
      "cell_type": "markdown",
      "source": [
        "In the example below, we will import the `random` package (which should come shipped with a base Python installation).\n",
        "\n",
        "* We will then create an empty list, which we will add desired values to.\n",
        "* After generating a random value between zero and 1, we append any value below 0.3 to our list, via the `append()` function.\n",
        "* Finally, each time we loop, we check the length of the list. The `while` loop will cease once we have 3 values in the list (thus, `len(my_list) < 3`)."
      ],
      "metadata": {
        "id": "M6ZoO2wT7WiF"
      }
    },
    {
      "cell_type": "code",
      "source": [
        "# Example: Generating a list of random numbers with a specific length\n",
        "import random\n",
        "\n",
        "my_list = []\n",
        "\n",
        "while len(my_list) < 3:\n",
        "    print(\"Length of my_list is currently: {}\".format(len(my_list)))\n",
        "    random_number = random.random()\n",
        "    print(\"Random number is: {}\".format(random_number))\n",
        "    if random_number < 0.3:\n",
        "      my_list.append(random_number)"
      ],
      "metadata": {
        "colab": {
          "base_uri": "https://localhost:8080/"
        },
        "id": "YbheHUmyv6IS",
        "outputId": "3148eab7-2b94-48a0-df9c-9a1064b7be61"
      },
      "execution_count": null,
      "outputs": [
        {
          "output_type": "stream",
          "name": "stdout",
          "text": [
            "Length of my_list is currently: 0\n",
            "Random number is: 0.034433024956103786\n",
            "Length of my_list is currently: 1\n",
            "Random number is: 0.43398020230728973\n",
            "Length of my_list is currently: 1\n",
            "Random number is: 0.01357791221201854\n",
            "Length of my_list is currently: 2\n",
            "Random number is: 0.9724451693371731\n",
            "Length of my_list is currently: 2\n",
            "Random number is: 0.06809687553404953\n"
          ]
        }
      ]
    },
    {
      "cell_type": "markdown",
      "source": [
        "Task 6\n",
        "\n",
        "* Create a while loop that prints all numbers from 0 to 4.\n"
      ],
      "metadata": {
        "id": "CXBPEIc5MBXH"
      }
    },
    {
      "cell_type": "code",
      "source": [
        "# Enter your attempt here\n"
      ],
      "metadata": {
        "id": "rQj3jMpmMBXI"
      },
      "execution_count": null,
      "outputs": []
    },
    {
      "cell_type": "markdown",
      "source": [
        "Task 7\n",
        "\n",
        "* Create a while loop that cubes all even numbers from 4 to 20. Hint: Check the Python documentation for functionality associated with the `range()` function."
      ],
      "metadata": {
        "id": "bP43qy1PhyCG"
      }
    },
    {
      "cell_type": "code",
      "source": [
        "# Enter your attempt here\n"
      ],
      "metadata": {
        "id": "GxfKPQU8hyvo"
      },
      "execution_count": null,
      "outputs": []
    },
    {
      "cell_type": "markdown",
      "source": [
        "## **Iteration - Loop control**\n",
        "\n",
        "We have a few options to help us control a loop, including using `continue`, `break`, etc.\n",
        "\n",
        "*   `continue` indicates that if some condition is met, the loop should skip to the next iteration.\n",
        "*   `break` indicates that if some condition is met, we want to stop iterating.\n",
        "\n",
        "In the example below, we can see that when our iterator `i` matches either 1 or 3 (thus, matches our condition `if i == 1` or `if i == 3`), the loop continues to the next number without printing."
      ],
      "metadata": {
        "id": "AoBaKMVmyC-9"
      }
    },
    {
      "cell_type": "code",
      "source": [
        "# Example: Loop control via continue\n",
        "my_list = [1,2,3,4]\n",
        "for i in my_list:\n",
        "  if i == 1:\n",
        "    continue\n",
        "  if i == 3:\n",
        "    continue\n",
        "  print(i)"
      ],
      "metadata": {
        "colab": {
          "base_uri": "https://localhost:8080/"
        },
        "id": "80onAyR6yfx2",
        "outputId": "f7c12bf7-c46f-4323-d32d-b060258bfc03"
      },
      "execution_count": null,
      "outputs": [
        {
          "output_type": "stream",
          "name": "stdout",
          "text": [
            "2\n",
            "4\n"
          ]
        }
      ]
    },
    {
      "cell_type": "markdown",
      "source": [
        "Whereas, in the example below the loop breaks once the condition is met (e.g., the condition being `i == 3`), and thus does not continue looping to print beyond 3."
      ],
      "metadata": {
        "id": "7HA7vYXy0HEC"
      }
    },
    {
      "cell_type": "code",
      "source": [
        "# Example: Loop control via break\n",
        "my_list = [1,2,3,4]\n",
        "for i in my_list:\n",
        "  print(i)\n",
        "  if i == 3:\n",
        "    break"
      ],
      "metadata": {
        "colab": {
          "base_uri": "https://localhost:8080/"
        },
        "id": "PA-pKJQDy2dj",
        "outputId": "63012990-b594-45ec-cf31-58c52c25d5ad"
      },
      "execution_count": null,
      "outputs": [
        {
          "output_type": "stream",
          "name": "stdout",
          "text": [
            "1\n",
            "2\n",
            "3\n"
          ]
        }
      ]
    },
    {
      "cell_type": "markdown",
      "source": [
        "Task 8\n",
        "\n",
        "* Create a `for` loop that prints each number between 1 to 5. Do not print even numbers."
      ],
      "metadata": {
        "id": "ja2kPgBHM5Iz"
      }
    },
    {
      "cell_type": "code",
      "source": [
        "# Enter your attempt here\n"
      ],
      "metadata": {
        "id": "mruSbs6GM5I7"
      },
      "execution_count": null,
      "outputs": []
    },
    {
      "cell_type": "markdown",
      "source": [
        "Task 9\n",
        "\n",
        "* Create a `for` loop that attempts to print each number between 1 to 10. Exit the `for` loop if the iterator equals 4."
      ],
      "metadata": {
        "id": "ixN7cz3riIgT"
      }
    },
    {
      "cell_type": "code",
      "source": [
        "# Enter your attempt here\n"
      ],
      "metadata": {
        "id": "zCMqZK6IiJJl"
      },
      "execution_count": null,
      "outputs": []
    },
    {
      "cell_type": "markdown",
      "source": [
        "Task 10\n",
        "\n",
        "* Create a list of numbers between 1 and 6. Now use a `for` loop to iterate over each element. Print only even numbers.\n"
      ],
      "metadata": {
        "id": "KXRV0ZhdiJbU"
      }
    },
    {
      "cell_type": "code",
      "source": [
        "# Enter your attempt here\n"
      ],
      "metadata": {
        "id": "E9bBgUFwiJ27"
      },
      "execution_count": null,
      "outputs": []
    }
  ]
}