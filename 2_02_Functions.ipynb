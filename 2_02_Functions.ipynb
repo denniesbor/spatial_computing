{
  "nbformat": 4,
  "nbformat_minor": 0,
  "metadata": {
    "colab": {
      "provenance": [],
      "authorship_tag": "ABX9TyP9DdDNR5pb/x5Z00Rw7Ql0",
      "include_colab_link": true
    },
    "kernelspec": {
      "name": "python3",
      "display_name": "Python 3"
    },
    "language_info": {
      "name": "python"
    }
  },
  "cells": [
    {
      "cell_type": "markdown",
      "metadata": {
        "id": "view-in-github",
        "colab_type": "text"
      },
      "source": [
        "<a href=\"https://colab.research.google.com/github/edwardoughton/spatial_computing/blob/main/2_02_Functions.ipynb\" target=\"_parent\"><img src=\"https://colab.research.google.com/assets/colab-badge.svg\" alt=\"Open In Colab\"/></a>"
      ]
    },
    {
      "cell_type": "markdown",
      "source": [
        "### Functions\n",
        "\n",
        "A function breaks down a set of processing steps into a single re-usable block of code.\n",
        "\n",
        "By taking this modular approach, there are many advantages for the user:\n",
        "\n",
        "*   Simplicity - Less code to manage in your workspace.\n",
        "*   Ease of adaptation - Fewer lines to edit if you wish to change something.\n",
        "*   Ease of testing - Allows you to easily validate your processing steps.\n",
        "\n",
        "A function essentially takes a set of key inputs, undertakes the processing steps defined, and then returns the finished result.\n",
        "\n",
        "There are both built-in functions within Python (e.g., `sum()`), as well as user-defined functions.\n",
        "\n",
        "\n"
      ],
      "metadata": {
        "id": "DdU4yFd2sEcw"
      }
    },
    {
      "cell_type": "markdown",
      "source": [
        "### Built-in functions\n",
        "\n",
        "Built-in functions may display as a different color depending on the palette you are using (e.g., in a code cell).\n",
        "\n",
        "You can view built-in function examples [here](https://docs.python.org/3/library/functions.html):  \n"
      ],
      "metadata": {
        "id": "cwE3iGx8ubOi"
      }
    },
    {
      "cell_type": "code",
      "execution_count": 4,
      "metadata": {
        "colab": {
          "base_uri": "https://localhost:8080/"
        },
        "id": "de6_kqPrr3gX",
        "outputId": "b376ab7f-d094-4bf9-bdce-152ea204c0bb"
      },
      "outputs": [
        {
          "output_type": "stream",
          "name": "stdout",
          "text": [
            "<class 'int'>\n",
            "<class 'str'>\n",
            "<class 'float'>\n"
          ]
        }
      ],
      "source": [
        "# Example: In-built function\n",
        "a = 4\n",
        "b = \"I am a string\"\n",
        "c = 7.8\n",
        "\n",
        "print(type(a))\n",
        "print(type(b))\n",
        "print(type(c))"
      ]
    },
    {
      "cell_type": "markdown",
      "source": [
        "### User-defined functions with parameters\n",
        "\n",
        "User-defined functions are identified by starting with the term `def`.\n",
        "\n",
        "You can see an example structure below:"
      ],
      "metadata": {
        "id": "0UubyhHLhgHB"
      }
    },
    {
      "cell_type": "code",
      "source": [
        "# Example: User-defined function structure\n",
        "def my_function():\n",
        "\n",
        "    # User-defined code inserted here\n",
        "\n",
        "    return"
      ],
      "metadata": {
        "id": "mK-SFcQrun9i"
      },
      "execution_count": 7,
      "outputs": []
    },
    {
      "cell_type": "markdown",
      "source": [
        "Each user defined-function will have a set of declared parameters which are inserted into the parentheses on the first line.\n",
        "\n",
        "These function parameters are locally-defined variables for certain values that we want to utilize within the function.\n",
        "\n",
        "For example:"
      ],
      "metadata": {
        "id": "KPh2FPdWu2Ua"
      }
    },
    {
      "cell_type": "code",
      "source": [
        "# Example: User-defined parameters\n",
        "def sum_function(a, b):\n",
        "\n",
        "    # User-defined code inserted here\n",
        "\n",
        "    return"
      ],
      "metadata": {
        "id": "1VBZJO0hu3Dq"
      },
      "execution_count": 8,
      "outputs": []
    },
    {
      "cell_type": "markdown",
      "source": [
        "The function body holds the actual code for the processing you wish to define.\n",
        "\n",
        "So if we wish to sum two numbers via our `sum_function`, we would do the following.\n",
        "\n",
        "Note: While the `return` statement is optional, we will use it here for clarity."
      ],
      "metadata": {
        "id": "af5DGygrvuga"
      }
    },
    {
      "cell_type": "code",
      "source": [
        "# Example: User-defined function body\n",
        "def sum_function(a, b):\n",
        "\n",
        "    sum_of_numbers = a + b\n",
        "\n",
        "    return sum_of_numbers"
      ],
      "metadata": {
        "colab": {
          "base_uri": "https://localhost:8080/"
        },
        "id": "IgBr3pSmvt3r",
        "outputId": "f6895d53-1f56-4c00-ea7f-15c8f76e179b"
      },
      "execution_count": 9,
      "outputs": [
        {
          "output_type": "stream",
          "name": "stdout",
          "text": [
            "4\n"
          ]
        }
      ]
    },
    {
      "cell_type": "markdown",
      "source": [
        "Finally, we want to execute this function.\n",
        "\n",
        "For example, we would need to use the name of the function followed by parentheses, and provide any necessary arguments."
      ],
      "metadata": {
        "id": "kvEgMZYTvtbL"
      }
    },
    {
      "cell_type": "code",
      "source": [
        "# Example: User-defined function body\n",
        "# Function call:\n",
        "sum_of_numbers = sum_function(2, 2)\n",
        "\n",
        "print(sum_of_numbers)"
      ],
      "metadata": {
        "id": "b_tblYcPwpsy"
      },
      "execution_count": null,
      "outputs": []
    },
    {
      "cell_type": "markdown",
      "source": [
        "**Task**\n",
        "\n",
        "Have a go at creating your own user-defined function, with the following requirements:\n",
        "\n",
        "*   Call the function `division_function`.   \n",
        "*   Declare two arguments.\n",
        "*   Divide the first argument by the second.\n",
        "*   Return the result.\n",
        "*   Execute the function.\n",
        "\n",
        "Annotate this function with in-line comments explaining what each step does.\n",
        "\n"
      ],
      "metadata": {
        "id": "hNhMGvoPw3_y"
      }
    },
    {
      "cell_type": "code",
      "source": [
        "# Enter your attempt here\n"
      ],
      "metadata": {
        "id": "QS7hIP-ww3DH"
      },
      "execution_count": null,
      "outputs": []
    },
    {
      "cell_type": "markdown",
      "source": [
        "**Task**\n",
        "\n",
        "Next, try define your own function for converting from square feet to square meters.\n",
        "\n",
        "Again, annotate this function with in-line comments explaining what each step does.\n"
      ],
      "metadata": {
        "id": "29jqprBD0qVz"
      }
    },
    {
      "cell_type": "code",
      "source": [
        "# Enter your attempt here\n"
      ],
      "metadata": {
        "id": "QGKXP9sT1Hu0"
      },
      "execution_count": null,
      "outputs": []
    },
    {
      "cell_type": "markdown",
      "source": [
        "**Task**\n",
        "\n",
        "Create a user-defined function with four parameters, which returns the mean value.\n",
        "\n",
        "Annotate your example."
      ],
      "metadata": {
        "id": "Gvu-4P_C8v88"
      }
    },
    {
      "cell_type": "code",
      "source": [
        "# Enter your attempt here\n"
      ],
      "metadata": {
        "id": "25iiYA7N8yFt"
      },
      "execution_count": null,
      "outputs": []
    },
    {
      "cell_type": "markdown",
      "source": [
        "**Task**\n",
        "\n",
        "Define a function which finds the area of a rectangular polygon.\n",
        "\n",
        "Provide in-line comments of your processing steps."
      ],
      "metadata": {
        "id": "dNCerUG496lg"
      }
    },
    {
      "cell_type": "code",
      "source": [
        "# Enter your attempt here\n"
      ],
      "metadata": {
        "id": "9MX0V6fX97H9"
      },
      "execution_count": null,
      "outputs": []
    },
    {
      "cell_type": "markdown",
      "source": [
        "**Task**\n",
        "\n",
        "Create a string concatenator function, which accepts 3 different string arguments (e.g., parts of a sentence), and returns them within a sentence format (e.g., appropriate spacing, ends with a period etc.).\n",
        "\n",
        "Provide in-line comments for your processing steps."
      ],
      "metadata": {
        "id": "jHR7ibXi86Ob"
      }
    },
    {
      "cell_type": "code",
      "source": [
        "# Enter your attempt here\n"
      ],
      "metadata": {
        "id": "RYkVuUlS9Xg8"
      },
      "execution_count": null,
      "outputs": []
    },
    {
      "cell_type": "markdown",
      "source": [
        "### User-defined functions with default parameters\n",
        "\n",
        "While functions are essentially so flexible we could specify pretty much whatever statements we want, there are some basic aspects we should learn.\n",
        "\n",
        "In some coding problems, you might want to specify a default parameter.\n",
        "\n",
        "For example, in the case below, we provide a default user name if none is provided.  "
      ],
      "metadata": {
        "id": "kJu1X1-PjspA"
      }
    },
    {
      "cell_type": "code",
      "source": [
        "# Example: User-defined functions with default parameters\n",
        "def greeting_ggs366_student(name=\"Guest\"):\n",
        "    print(\"Hello, {}\".format(name))\n",
        "\n",
        "# Execute the function\n",
        "greeting_ggs366_student()       # Here, we use the default 'Guest' value\n",
        "greeting_ggs366_student(\"Sam\")  # Here, we use the user-defined name 'Sam'"
      ],
      "metadata": {
        "id": "LSB_nPKuwkGb",
        "colab": {
          "base_uri": "https://localhost:8080/"
        },
        "outputId": "03fc268d-a81a-43a3-f186-6bdccb66f534"
      },
      "execution_count": 19,
      "outputs": [
        {
          "output_type": "stream",
          "name": "stdout",
          "text": [
            "Hello, Guest\n",
            "Hello, Sam\n"
          ]
        }
      ]
    },
    {
      "cell_type": "markdown",
      "source": [
        "**Task**\n",
        "\n",
        "Create a user-defined function which contains a default parameter, with the following requirements:\n",
        "\n",
        "*   Call the function `power_function`.   \n",
        "*   Argument 1 should be entirely user-defined.\n",
        "*   Argument 2 should have a default of 2.\n",
        "*   Raise argument 1 to the power of argument 2 (e.g., using a double asterisk, so 3**3 = 27).\n",
        "*   Return the result.\n",
        "*   Execute the function.\n"
      ],
      "metadata": {
        "id": "f2KJ0xZEyp3Y"
      }
    },
    {
      "cell_type": "code",
      "source": [
        "# Enter your attempt here\n"
      ],
      "metadata": {
        "id": "rktM7BFAwkLg"
      },
      "execution_count": 15,
      "outputs": []
    },
    {
      "cell_type": "markdown",
      "source": [
        "### Common spatial computing functions - Distance calculation\n",
        "\n",
        "In the coming weeks we will cover a range of relevant spatial computing functions.\n",
        "\n",
        "One common one, is simply calculating the relevant distance between two points.\n",
        "\n",
        "For example, given two sets of point coordinates (in a projected coordinate reference system using meters), we can use Pythagoras to estimate the geographic distance."
      ],
      "metadata": {
        "id": "xHPCFQIZ1dhy"
      }
    },
    {
      "cell_type": "code",
      "source": [
        "# Example: Distance calculation\n",
        "import math\n",
        "\n",
        "def calculate_distance(x1, y1, x2, y2):\n",
        "    distance = math.sqrt((x2 - x1)**2 + (y2 - y1)**2)\n",
        "    return distance\n",
        "\n",
        "# Test the function\n",
        "point1 = (1, 2)\n",
        "point2 = (4, 6)\n",
        "distance_result = calculate_distance(*point1, *point2)\n",
        "\n",
        "print(f\"The distance between {point1} and {point2} is {distance_result:.2f} meters.\")\n"
      ],
      "metadata": {
        "colab": {
          "base_uri": "https://localhost:8080/"
        },
        "id": "e-y7X2F41Ydi",
        "outputId": "9704db13-0ca6-4d8e-b8aa-fce6d646bc39"
      },
      "execution_count": 18,
      "outputs": [
        {
          "output_type": "stream",
          "name": "stdout",
          "text": [
            "The distance between (1, 2) and (4, 6) is 5.00 meters.\n"
          ]
        }
      ]
    }
  ]
}