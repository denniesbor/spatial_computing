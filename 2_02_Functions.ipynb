{
  "nbformat": 4,
  "nbformat_minor": 0,
  "metadata": {
    "colab": {
      "provenance": [],
      "authorship_tag": "ABX9TyPdCTMv38ohauPXJFXvpMfW",
      "include_colab_link": true
    },
    "kernelspec": {
      "name": "python3",
      "display_name": "Python 3"
    },
    "language_info": {
      "name": "python"
    }
  },
  "cells": [
    {
      "cell_type": "markdown",
      "metadata": {
        "id": "view-in-github",
        "colab_type": "text"
      },
      "source": [
        "<a href=\"https://colab.research.google.com/github/edwardoughton/spatial_computing/blob/main/2_02_Functions.ipynb\" target=\"_parent\"><img src=\"https://colab.research.google.com/assets/colab-badge.svg\" alt=\"Open In Colab\"/></a>"
      ]
    },
    {
      "cell_type": "markdown",
      "source": [
        "### Functions\n",
        "\n",
        "A function breaks down a set of processing steps into a single re-usable block of code.\n",
        "\n",
        "By taking this modular approach, there are many advantages for the user:\n",
        "\n",
        "*   Simplicity - Less code to manage in your workspace.\n",
        "*   Ease of adaptation - Fewer lines to edit if you wish to change something.\n",
        "*   Ease of testing - Allows you to easily validate your processing steps.\n",
        "\n",
        "A function essentially takes a set of key inputs, undertakes the processing steps defined, and then returns the finished result.\n",
        "\n",
        "There are both built-in functions within Python (e.g., `sum()`), as well as user-defined functions.\n",
        "\n",
        "\n"
      ],
      "metadata": {
        "id": "DdU4yFd2sEcw"
      }
    },
    {
      "cell_type": "markdown",
      "source": [
        "### Built-in functions\n",
        "\n",
        "Built-in functions may display as a different color depending on the palette you are using (e.g., in a code cell).\n",
        "\n",
        "You can view built-in function examples [here](https://docs.python.org/3/library/functions.html):  \n"
      ],
      "metadata": {
        "id": "cwE3iGx8ubOi"
      }
    },
    {
      "cell_type": "code",
      "execution_count": 1,
      "metadata": {
        "colab": {
          "base_uri": "https://localhost:8080/"
        },
        "id": "de6_kqPrr3gX",
        "outputId": "20243e99-ddd8-4b9f-ee57-2025949aa375"
      },
      "outputs": [
        {
          "output_type": "stream",
          "name": "stdout",
          "text": [
            "<class 'int'>\n",
            "<class 'str'>\n",
            "<class 'float'>\n"
          ]
        }
      ],
      "source": [
        "# Example: In-built function\n",
        "a = 4\n",
        "b = \"I am a string\"\n",
        "c = 7.8\n",
        "\n",
        "print(type(a))\n",
        "print(type(b))\n",
        "print(type(c))"
      ]
    },
    {
      "cell_type": "markdown",
      "source": [
        "### User-defined functions with parameters\n",
        "\n",
        "User-defined functions are identified by starting with the term `def`.\n",
        "\n",
        "You can see an example structure below:"
      ],
      "metadata": {
        "id": "0UubyhHLhgHB"
      }
    },
    {
      "cell_type": "code",
      "source": [
        "# Example: User-defined function structure\n",
        "def my_function():\n",
        "\n",
        "    # User-defined code inserted here\n",
        "\n",
        "    return"
      ],
      "metadata": {
        "id": "mK-SFcQrun9i"
      },
      "execution_count": null,
      "outputs": []
    },
    {
      "cell_type": "markdown",
      "source": [
        "Each user defined-function will have a set of declared parameters which are inserted into the parentheses on the first line.\n",
        "\n",
        "These function parameters are locally-defined variables for certain values that we want to utilize within the function.\n",
        "\n",
        "For example:"
      ],
      "metadata": {
        "id": "KPh2FPdWu2Ua"
      }
    },
    {
      "cell_type": "code",
      "source": [
        "# Example: User-defined parameters\n",
        "def sum_function(a, b):\n",
        "\n",
        "    # User-defined code inserted here\n",
        "\n",
        "    return"
      ],
      "metadata": {
        "id": "1VBZJO0hu3Dq"
      },
      "execution_count": null,
      "outputs": []
    },
    {
      "cell_type": "markdown",
      "source": [
        "The function body holds the actual code for the processing you wish to define.\n",
        "\n",
        "So if we wish to sum two numbers via our `sum_function`, we would do the following.\n",
        "\n",
        "Note: While the `return` statement is optional, we will use it here for clarity."
      ],
      "metadata": {
        "id": "af5DGygrvuga"
      }
    },
    {
      "cell_type": "code",
      "source": [
        "# Example: User-defined function body\n",
        "def sum_function(a, b):\n",
        "\n",
        "    sum_of_numbers = a + b\n",
        "\n",
        "    return sum_of_numbers"
      ],
      "metadata": {
        "colab": {
          "base_uri": "https://localhost:8080/"
        },
        "id": "IgBr3pSmvt3r",
        "outputId": "f6895d53-1f56-4c00-ea7f-15c8f76e179b"
      },
      "execution_count": null,
      "outputs": [
        {
          "output_type": "stream",
          "name": "stdout",
          "text": [
            "4\n"
          ]
        }
      ]
    },
    {
      "cell_type": "markdown",
      "source": [
        "Finally, we want to execute this function.\n",
        "\n",
        "For example, we would need to use the name of the function followed by parentheses, and provide any necessary arguments."
      ],
      "metadata": {
        "id": "kvEgMZYTvtbL"
      }
    },
    {
      "cell_type": "code",
      "source": [
        "# Example: User-defined function body\n",
        "# Function call:\n",
        "sum_of_numbers = sum_function(2, 2)\n",
        "\n",
        "print(sum_of_numbers)"
      ],
      "metadata": {
        "id": "b_tblYcPwpsy"
      },
      "execution_count": null,
      "outputs": []
    },
    {
      "cell_type": "markdown",
      "source": [
        "**Task**\n",
        "\n",
        "Have a go at creating your own user-defined function, with the following requirements:\n",
        "\n",
        "*   Call the function `division_function`.   \n",
        "*   Declare two arguments.\n",
        "*   Divide the first argument by the second.\n",
        "*   Return the result.\n",
        "*   Execute the function.\n",
        "\n",
        "Annotate this function with in-line comments explaining what each step does.\n",
        "\n"
      ],
      "metadata": {
        "id": "hNhMGvoPw3_y"
      }
    },
    {
      "cell_type": "code",
      "source": [
        "# Enter your attempt here\n"
      ],
      "metadata": {
        "id": "QS7hIP-ww3DH"
      },
      "execution_count": null,
      "outputs": []
    },
    {
      "cell_type": "markdown",
      "source": [
        "**Task**\n",
        "\n",
        "Next, try define your own function for converting from square feet to square meters.\n",
        "\n",
        "Again, annotate this function with in-line comments explaining what each step does.\n"
      ],
      "metadata": {
        "id": "29jqprBD0qVz"
      }
    },
    {
      "cell_type": "code",
      "source": [
        "# Enter your attempt here\n"
      ],
      "metadata": {
        "id": "QGKXP9sT1Hu0"
      },
      "execution_count": null,
      "outputs": []
    },
    {
      "cell_type": "markdown",
      "source": [
        "**Task**\n",
        "\n",
        "Create a user-defined function with four parameters, which returns the mean value.\n",
        "\n",
        "Annotate your example."
      ],
      "metadata": {
        "id": "Gvu-4P_C8v88"
      }
    },
    {
      "cell_type": "code",
      "source": [
        "# Enter your attempt here\n"
      ],
      "metadata": {
        "id": "25iiYA7N8yFt"
      },
      "execution_count": null,
      "outputs": []
    },
    {
      "cell_type": "markdown",
      "source": [
        "**Task**\n",
        "\n",
        "Define a function which finds the area of a rectangular polygon.\n",
        "\n",
        "Provide in-line comments of your processing steps."
      ],
      "metadata": {
        "id": "dNCerUG496lg"
      }
    },
    {
      "cell_type": "code",
      "source": [
        "# Enter your attempt here\n"
      ],
      "metadata": {
        "id": "9MX0V6fX97H9"
      },
      "execution_count": null,
      "outputs": []
    },
    {
      "cell_type": "markdown",
      "source": [
        "**Task**\n",
        "\n",
        "Create a string concatenator function, which accepts 3 different string arguments (e.g., parts of a sentence), and returns them within a sentence format (e.g., appropriate spacing, ends with a period etc.).\n",
        "\n",
        "Provide in-line comments for your processing steps."
      ],
      "metadata": {
        "id": "jHR7ibXi86Ob"
      }
    },
    {
      "cell_type": "code",
      "source": [
        "# Enter your attempt here\n"
      ],
      "metadata": {
        "id": "RYkVuUlS9Xg8"
      },
      "execution_count": null,
      "outputs": []
    },
    {
      "cell_type": "markdown",
      "source": [
        "### User-defined functions with default parameters\n",
        "\n",
        "While functions are essentially so flexible we could specify pretty much whatever statements we want, there are some basic aspects we should learn.\n",
        "\n",
        "In some coding problems, you might want to specify a default parameter.\n",
        "\n",
        "For example, in the case below, we provide a default user name if none is provided.  "
      ],
      "metadata": {
        "id": "kJu1X1-PjspA"
      }
    },
    {
      "cell_type": "code",
      "source": [
        "# Example: User-defined functions with default parameters\n",
        "def greeting_ggs366_student(name=\"Guest\"):\n",
        "    print(f\"Hello, {name}\")\n",
        "\n",
        "# Execute the function\n",
        "greeting_ggs366_student()       # Here, we use the default 'Guest' value\n",
        "greeting_ggs366_student(\"Sam\")  # Here, we use the user-defined name 'Sam'"
      ],
      "metadata": {
        "id": "LSB_nPKuwkGb",
        "colab": {
          "base_uri": "https://localhost:8080/"
        },
        "outputId": "98d6ff96-39fa-410f-ff6f-6b24b4283f12"
      },
      "execution_count": 3,
      "outputs": [
        {
          "output_type": "stream",
          "name": "stdout",
          "text": [
            "Hello, Guest\n",
            "Hello, Sam\n"
          ]
        }
      ]
    },
    {
      "cell_type": "markdown",
      "source": [
        "**Task**\n",
        "\n",
        "Create a user-defined function which contains a default parameter, with the following requirements:\n",
        "\n",
        "*   Call the function `power_function`.   \n",
        "*   Argument 1 should be entirely user-defined.\n",
        "*   Argument 2 should have a default of 2.\n",
        "*   Raise argument 1 to the power of argument 2 (e.g., using a double asterisk, so 3**3 = 27).\n",
        "*   Return the result.\n",
        "*   Execute the function.\n"
      ],
      "metadata": {
        "id": "f2KJ0xZEyp3Y"
      }
    },
    {
      "cell_type": "code",
      "source": [
        "# Enter your attempt here\n"
      ],
      "metadata": {
        "id": "rktM7BFAwkLg"
      },
      "execution_count": null,
      "outputs": []
    },
    {
      "cell_type": "markdown",
      "source": [
        "### Common spatial computing functions - Distance calculation\n",
        "\n",
        "In the coming weeks we will cover a range of relevant spatial computing functions.\n",
        "\n",
        "One common one, is simply calculating the relevant distance between two points.\n",
        "\n",
        "For example, given two sets of point coordinates (in a projected coordinate reference system using meters), we can use Pythagoras to estimate the geographic distance."
      ],
      "metadata": {
        "id": "xHPCFQIZ1dhy"
      }
    },
    {
      "cell_type": "code",
      "source": [
        "# Example: Distance calculation\n",
        "import math\n",
        "\n",
        "def calculate_distance(x1, y1, x2, y2):\n",
        "    distance = math.sqrt((x2 - x1)**2 + (y2 - y1)**2)\n",
        "    return distance\n",
        "\n",
        "# Test the function\n",
        "point1 = (1, 2)\n",
        "point2 = (4, 6)\n",
        "distance_result = calculate_distance(*point1, *point2)\n",
        "\n",
        "print(f\"The distance between {point1} and {point2} is {distance_result:.2f} meters.\")\n"
      ],
      "metadata": {
        "colab": {
          "base_uri": "https://localhost:8080/"
        },
        "id": "e-y7X2F41Ydi",
        "outputId": "9704db13-0ca6-4d8e-b8aa-fce6d646bc39"
      },
      "execution_count": null,
      "outputs": [
        {
          "output_type": "stream",
          "name": "stdout",
          "text": [
            "The distance between (1, 2) and (4, 6) is 5.00 meters.\n"
          ]
        }
      ]
    },
    {
      "cell_type": "markdown",
      "source": [
        "This function is basically a simplified version to help you understand the workings of the approach.\n",
        "\n",
        "We can also spend some time understanding how to write such functions in an ideal way."
      ],
      "metadata": {
        "id": "IlQdfYYgG9Kd"
      }
    },
    {
      "cell_type": "markdown",
      "source": [
        "# Recommended approach for writing a function\n",
        "\n",
        "To write a re-usable which is clear and easily understood, it is recommended to follow the PEP8 style guidelines, e.g., https://peps.python.org/pep-0008/\n",
        "\n",
        "And also, the PEP 257 guidelines on docstring conventions, e.g., https://peps.python.org/pep-0257/\n",
        "\n",
        "\n",
        "\n",
        "\n",
        "\n",
        "\n",
        "\n",
        "\n",
        "\n",
        "\n",
        "\n",
        "\n"
      ],
      "metadata": {
        "id": "nC3M58gLBIRd"
      }
    },
    {
      "cell_type": "markdown",
      "source": [
        "# What is a docstring?\n",
        "\n",
        "A docstring is the first statement in a module, function, class, or method definition.\n",
        "\n",
        "All modules should normally have docstrings, along with functions and classes exported by a module.\n",
        "\n",
        "It is recommended you cover:\n",
        "\n",
        "* A generalized description of the function.\n",
        "* Description of the parameters.\n",
        "* Description of the returned variables.\n",
        "* Notes on the method.\n",
        "* Examples of the function use.\n",
        "\n",
        "Below is an example of a function for computing the Haversine distance. Please take time to examine the function's structure, including how clearly the information presented is laid out.\n",
        "\n"
      ],
      "metadata": {
        "id": "tPOqyS-qCvgj"
      }
    },
    {
      "cell_type": "code",
      "source": [
        "# Example\n",
        "import numpy as np\n",
        "\n",
        "def haversine_distance(coord1, coord2):\n",
        "    \"\"\"\n",
        "    Function for calculating Haversine distance between two points.\n",
        "\n",
        "    The Haversine formula calculates the great-circle distance between\n",
        "    two points, which is the shortest distance over the Earth's surface.\n",
        "    The function assumes the Earth is a perfect sphere, which is a\n",
        "    reasonable approximation for small distances.\n",
        "\n",
        "    Parameters\n",
        "    ----------\n",
        "    coord1 : tuple of float\n",
        "        A tuple representing the latitude and longitude of the first\n",
        "        point (in decimal degrees).\n",
        "        Example: (latitude1, longitude1).\n",
        "    coord2 : tuple of float\n",
        "        A tuple representing the latitude and longitude of the second\n",
        "        point (in decimal degrees).\n",
        "        Example: (latitude2, longitude2).\n",
        "\n",
        "    Returns\n",
        "    -------\n",
        "    float\n",
        "        The Haversine distance between the two points in kilometers.\n",
        "\n",
        "    Notes\n",
        "    -----\n",
        "    The formula used is:\n",
        "\n",
        "        a = sin²(Δφ / 2) + cos(φ1) * cos(φ2) * sin²(Δλ / 2)\n",
        "        c = 2 * atan2( √a, √(1−a) )\n",
        "        d = R * c\n",
        "\n",
        "    Where:\n",
        "        - φ1, φ2: latitudes in radians of points 1 and 2\n",
        "        - Δφ : difference in latitudes\n",
        "        - Δλ : difference in longitudes\n",
        "        - R : Earth's radius (mean radius = 6,371 km)\n",
        "\n",
        "    Examples\n",
        "    --------\n",
        "    >>> haversine_distance((38.8977, -77.0365), (40.7486, -73.9864))\n",
        "    328.279 km\n",
        "\n",
        "    \"\"\"\n",
        "    R = 6371.0  # Earth’s radius in kilometers\n",
        "\n",
        "    lat1, lon1 = np.radians(coord1)\n",
        "    lat2, lon2 = np.radians(coord2)\n",
        "\n",
        "    dlat = lat2 - lat1\n",
        "    dlon = lon2 - lon1\n",
        "\n",
        "    a = np.sin(dlat / 2)**2 + np.cos(lat1) * np.cos(lat2) * np.sin(dlon / 2)**2\n",
        "    c = 2 * np.arctan2(np.sqrt(a), np.sqrt(1 - a))\n",
        "\n",
        "    distance = R * c\n",
        "    return distance\n",
        "\n",
        "gmu_fairfax = (38.82975, -77.305306)\n",
        "gmu_arlington = (38.885083,-77.100977)\n",
        "\n",
        "distance = haversine_distance(gmu_fairfax, gmu_arlington)\n",
        "print(f\"The distance between the two points is {distance:.2f} kilometers.\")"
      ],
      "metadata": {
        "colab": {
          "base_uri": "https://localhost:8080/"
        },
        "id": "TnfaLJn_DbPx",
        "outputId": "e3329d74-051a-4aca-9d7a-0120a04149c1"
      },
      "execution_count": 8,
      "outputs": [
        {
          "output_type": "stream",
          "name": "stdout",
          "text": [
            "The distance between the two points is 18.73 kilometers.\n"
          ]
        }
      ]
    }
  ]
}