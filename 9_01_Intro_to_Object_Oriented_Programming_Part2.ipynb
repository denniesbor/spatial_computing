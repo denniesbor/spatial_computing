{
  "nbformat": 4,
  "nbformat_minor": 0,
  "metadata": {
    "colab": {
      "provenance": [],
      "authorship_tag": "ABX9TyOIc4CTu1IMvX1tb9gvDx8l",
      "include_colab_link": true
    },
    "kernelspec": {
      "name": "python3",
      "display_name": "Python 3"
    },
    "language_info": {
      "name": "python"
    }
  },
  "cells": [
    {
      "cell_type": "markdown",
      "metadata": {
        "id": "view-in-github",
        "colab_type": "text"
      },
      "source": [
        "<a href=\"https://colab.research.google.com/github/edwardoughton/spatial_computing/blob/main/9_01_Intro_to_Object_Oriented_Programming_Part2.ipynb\" target=\"_parent\"><img src=\"https://colab.research.google.com/assets/colab-badge.svg\" alt=\"Open In Colab\"/></a>"
      ]
    },
    {
      "cell_type": "markdown",
      "source": [
        "# Intro to Object Oriented Programming Part 2\n",
        "\n",
        "Last week we visited the basics of Object Oriented Programming (OOP), covering topics such as encapsulation, inheritance, polymorphism and abstraction.\n",
        "\n",
        "Today our aim is to reinforce this approach to programming by working on an example which utilizes OOP. We will focus on utilizing some of the existing processing techniques covered earlier within this class.\n",
        "\n",
        "The aim is to draw on more of the functions provided by `Shapely`, as this library will provide many important spatial functions which we can utilize in combination with our OOP approach.\n"
      ],
      "metadata": {
        "id": "EAaME9rXgCgu"
      }
    },
    {
      "cell_type": "markdown",
      "source": [
        "## Point-in-Polygon Analysis\n",
        "\n",
        "Often we may need to check if certain spatial objects reside within other spatial objects. This is a common operation within in Geographic Information Systems (GIS) and computational geometry, enabling us to undertake spatial queries.\n",
        "\n",
        "For example, perhaps we want to estimate the number of buildings within a boundary area.\n",
        "\n",
        "First, let us specify our points. For the sake of simplicity, let us treat these as building 'centroids' (where a centroid in geometry represents the center of a two-dimensional shape). This is the point coordinate that represents the average position of all the points in the shape, weighted by their respective location.\n"
      ],
      "metadata": {
        "id": "WSf4VgZ7hVjO"
      }
    },
    {
      "cell_type": "code",
      "source": [
        "# Example: Creating a point class\n",
        "from shapely.geometry import Point as ShapelyPoint, Polygon as ShapelyPolygon\n",
        "\n",
        "class BuildingCentroid:\n",
        "    def __init__(self, x, y):\n",
        "        \"\"\"\n",
        "        Create a class for building centroids\n",
        "        via x and y coordinates.\n",
        "\n",
        "        :param x: X-coordinate of the point.\n",
        "        :param y: Y-coordinate of the point.\n",
        "        \"\"\"\n",
        "        self.x = x\n",
        "        self.y = y\n",
        "        self.shapely_point = ShapelyPoint(x, y)"
      ],
      "metadata": {
        "id": "vjl8vBQYi8Y9"
      },
      "execution_count": null,
      "outputs": []
    },
    {
      "cell_type": "markdown",
      "source": [
        "Next, we can create a polygon boundary class which will have a similar structure, but also a method to carry out the intersection query.\n",
        "\n",
        "We can do this as follows by specifying our properties and affiliated methods."
      ],
      "metadata": {
        "id": "j-56UtaQi9aE"
      }
    },
    {
      "cell_type": "code",
      "source": [
        "# Example: Create a polygon boundary class\n",
        "from shapely.geometry import Point, Polygon as ShapelyPolygon, mapping\n",
        "\n",
        "class Boundary:\n",
        "    def __init__(self, list_of_coords):\n",
        "        \"\"\"\n",
        "        Create a class for county boundaries via\n",
        "        a list of x and y coordinates.\n",
        "\n",
        "        \"\"\"\n",
        "        self.list_of_coords = list_of_coords\n",
        "        # Create a Shapely Polygon object\n",
        "        self.shapely_polygon = ShapelyPolygon(list_of_coords)\n",
        "\n",
        "    def is_point_inside(self, point):\n",
        "        \"\"\"\n",
        "        A method to check if a provided point is within this polygon.\n",
        "\n",
        "        :param point: A tuple (x, y) representing the coordinates of the point.\n",
        "        :return: True if the point is inside the polygon, False otherwise.\n",
        "        \"\"\"\n",
        "        shapely_point = Point(point)\n",
        "\n",
        "        return shapely_point.within(self.shapely_polygon)\n"
      ],
      "metadata": {
        "id": "wOOl5lXYgCDD"
      },
      "execution_count": null,
      "outputs": []
    },
    {
      "cell_type": "markdown",
      "source": [
        "We now have both our point object class for our building centroids, and our polygon boundary class for our theoretical boundaries.\n",
        "\n",
        "We can instantiate both as follows:"
      ],
      "metadata": {
        "id": "Xbml6R3rnAnc"
      }
    },
    {
      "cell_type": "code",
      "source": [
        "# Example: Instantiate our classes\n",
        "\n",
        "# Instantiate our point class\n",
        "point = BuildingCentroid(2, 2)\n",
        "print(point)\n",
        "\n",
        "# Explore our point class properties\n",
        "print(BuildingCentroid(4,5).x)\n",
        "print(BuildingCentroid(4,5).y)\n",
        "print(BuildingCentroid(4,5).shapely_point)\n",
        "\n",
        "# Instantiate our polygon class\n",
        "polygon = Boundary([(0, 0), (4, 0), (4, 4), (0, 4)])\n",
        "print(polygon)\n",
        "\n",
        "# Explore our polygon class properties\n",
        "print(polygon.shapely_polygon)\n",
        "print(polygon.list_of_coords)"
      ],
      "metadata": {
        "id": "-PSAgyzZnALk"
      },
      "execution_count": null,
      "outputs": []
    },
    {
      "cell_type": "markdown",
      "source": [
        "Finally, we can apply our method to an example.\n",
        "\n",
        "We do this by stating the local name of the object, e.g., `polygon` and then the method e.g., `.is_point_inside()`.\n",
        "\n",
        "Note: You should be careful to pass the method the correct data structure. Here, we need to pass an x, y tuple, hence `(point.x, point.y)`. We could re-write this to accept the `Shapely` object if we wanted to, but this approach suffices. You do need to think about the data structure though, or you might receive an error.   "
      ],
      "metadata": {
        "id": "zOipEDnxnaPl"
      }
    },
    {
      "cell_type": "code",
      "execution_count": null,
      "metadata": {
        "id": "IjUdn_PkfHoa"
      },
      "outputs": [],
      "source": [
        "# Example: Using our point-in-polygon method\n",
        "print(\"Point is inside:\", polygon.is_point_inside((point.x, point.y)))"
      ]
    },
    {
      "cell_type": "markdown",
      "source": [
        "## Using real data\n",
        "\n",
        "Let us run through this with some actual data.  \n",
        "\n",
        "First, we need to import the files from the MyMason class content section. We should have a dramatically reduced dataset for the building outlines in Lome, Togo. As well as a polygon boundary.\n"
      ],
      "metadata": {
        "id": "EQGn7EBGsFC8"
      }
    },
    {
      "cell_type": "code",
      "source": [
        "# Example: Loading data from a local machine\n",
        "from google.colab import files\n",
        "uploaded = files.upload()"
      ],
      "metadata": {
        "id": "hELfbw3GvHt7"
      },
      "execution_count": null,
      "outputs": []
    },
    {
      "cell_type": "markdown",
      "source": [
        "Now we have this data locally available, we can carry out the following processing steps for our building data.\n",
        "\n",
        "For example,\n",
        "\n",
        "*   Load in our building outlines.\n",
        "*   Obtain the centroid.\n",
        "*   Instantiate our objects.\n",
        "*   Append them to a list."
      ],
      "metadata": {
        "id": "YV8CFtiy20Vr"
      }
    },
    {
      "cell_type": "code",
      "source": [
        "# Example: Process our building points for real data\n",
        "import geopandas as gpd\n",
        "\n",
        "# Load in our building data as a GeoDataFrame\n",
        "# The `[:10]` subsets the first 10 rows for efficiency.\n",
        "buildings = gpd.read_file('subset_buildings_togo.shp', crs='epsg:4326')#[:10]\n",
        "\n",
        "# Convert our GeoDataFrame to a list of dictionaries for iteration\n",
        "buildings = buildings.to_dict('records')\n",
        "\n",
        "building_objects = []\n",
        "\n",
        "# Iterate over our list of dictionaries\n",
        "for item in buildings:\n",
        "\n",
        "  # Get the building centroid\n",
        "  centroid = item['geometry'].representative_point()\n",
        "\n",
        "  # Instantiate our point class\n",
        "  point = BuildingCentroid(centroid.x, centroid.y)\n",
        "\n",
        "  # Append our point object to a list\n",
        "  building_objects.append(point)\n",
        "\n",
        "print(building_objects)"
      ],
      "metadata": {
        "id": "a_FdCIJwvrlX"
      },
      "execution_count": null,
      "outputs": []
    },
    {
      "cell_type": "markdown",
      "source": [
        "And then we can do the same for our boundaries:\n",
        "\n",
        "* Load our boundary data.\n",
        "* Extract our coordinates from the `Shapely` geometry to a list.\n",
        "* Instantiate our object.\n",
        "* Append object to a list."
      ],
      "metadata": {
        "id": "7q6Fv-fgxjJj"
      }
    },
    {
      "cell_type": "code",
      "source": [
        "# Example: Process our polygon boundary using real data\n",
        "import geopandas as gpd\n",
        "\n",
        "# Load in our polygon as a GeoDataFrame\n",
        "boundary = gpd.read_file('lome.shp', crs='epsg:4326')\n",
        "\n",
        "# Convert our GeoDataFrame to a list of dictionaries for iteration\n",
        "boundaries = boundary.to_dict('records')\n",
        "\n",
        "boundary_objects = []\n",
        "\n",
        "# Iterate over our list of dictionaries\n",
        "for item in boundaries:\n",
        "\n",
        "  # Extract our coordinates from a Shapely object to a list\n",
        "  list_of_coords = list(item['geometry'].exterior.coords)\n",
        "\n",
        "  # Instantiate our polygon class\n",
        "  polygon = Boundary(list_of_coords)\n",
        "\n",
        "  # Append our polygon object to a list\n",
        "  boundary_objects.append(polygon)\n",
        "\n",
        "print(boundary_objects)"
      ],
      "metadata": {
        "id": "bJy1soLfxiqs"
      },
      "execution_count": null,
      "outputs": []
    },
    {
      "cell_type": "markdown",
      "source": [
        "Now we can carry out the processing we have been building towards.\n",
        "\n",
        "We need to loop over our boundaries and our building centroid points at the same time.\n",
        "\n",
        "For those that intersect, we can allocate a variable indicating `True`. Whereas those that do not intersect, we can allocate `False`.\n",
        "\n",
        "Finally, we can append to a list using a GeoJSON format."
      ],
      "metadata": {
        "id": "oje1IR473cMC"
      }
    },
    {
      "cell_type": "code",
      "source": [
        "# Example: Loop over all objects for point-in-polygon analysis\n",
        "\n",
        "output = []\n",
        "\n",
        "# Loop over our boundaries\n",
        "for boundary in boundary_objects:\n",
        "\n",
        "  # Loop over our building centroids\n",
        "  for building_centroid in building_objects:\n",
        "\n",
        "    # Loop control logic to catch those inside the polygon\n",
        "    if boundary.is_point_inside((building_centroid.x,building_centroid.y)):\n",
        "      is_within = True\n",
        "    else:\n",
        "      is_within = False\n",
        "\n",
        "    # Append object to list\n",
        "    output.append({\n",
        "        'geometry': building_centroid.shapely_point,\n",
        "        'properties': {\n",
        "            'within?': is_within\n",
        "        }\n",
        "    })\n",
        "\n",
        "output = gpd.GeoDataFrame.from_features(output, crs='epsg:4326')\n",
        "output.to_file('results.shp', crs='epsg:4326')\n"
      ],
      "metadata": {
        "id": "gyvJiD_93cnw"
      },
      "execution_count": null,
      "outputs": []
    },
    {
      "cell_type": "markdown",
      "source": [
        "You should now export the results and go view them in your GIS software.\n",
        "\n",
        "Think critically about the output, and how you could change/alter the processing to apply to other problems.\n",
        "\n",
        "This is an important validation step and one which should boost your critical thinking skills."
      ],
      "metadata": {
        "id": "3Uwy-drY8tE4"
      }
    },
    {
      "cell_type": "markdown",
      "source": [
        "## GeoJSON\n",
        "\n",
        "The `GeoJSON` format allows us to code geographical data structures using JavaScript Object Notation (JSON). We are able to represent simple geographical features using this approach, such as points, lines, and polygons, as well as more complex objects like multipoint objects, multiline objects, multipolygon objects, Feature Collections etc.\n",
        "\n",
        "Often, `GeoJSON` is a preferred format for sharing spatial data between web servers and web clients, particularly in web mapping applications. Generally, the `GeoJSON` format is regarded as a relatively simple and easy format to utilize and is compatible with JavaScript.\n",
        "\n",
        "Do inspect the `GeoJSON` website for more information: https://geojson.org/\n",
        "\n",
        "See examples below for how we write a `GeoJSON` point, line and polygon."
      ],
      "metadata": {
        "id": "3HmzfOEm_PuR"
      }
    },
    {
      "cell_type": "code",
      "source": [
        "# Example: GeoJSON point data structure\n",
        "my_point = {\n",
        "  \"type\": \"Feature\",\n",
        "  \"geometry\": {\n",
        "    \"type\": \"Point\",\n",
        "    \"coordinates\": [125.6, 10.1]\n",
        "  },\n",
        "  \"properties\": {\n",
        "    \"name\": \"Dinagat Islands\"\n",
        "  }\n",
        "}\n",
        "my_point"
      ],
      "metadata": {
        "id": "qc-ljsn2AbTu"
      },
      "execution_count": null,
      "outputs": []
    },
    {
      "cell_type": "code",
      "source": [
        "# Example: GeoJSON linestring data structure\n",
        "my_line = {\n",
        "  \"type\": \"Feature\",\n",
        "  \"geometry\": {\n",
        "    \"type\": \"LineString\",\n",
        "    \"coordinates\": [\n",
        "      [100, 0],\n",
        "      [101, 1],\n",
        "      [102, 0],\n",
        "      [103, 1]\n",
        "    ]\n",
        "  },\n",
        "  \"properties\": {\n",
        "    \"name\": \"Example Line\"\n",
        "  }\n",
        "}\n",
        "my_line"
      ],
      "metadata": {
        "id": "G3Q3zndKAutX"
      },
      "execution_count": null,
      "outputs": []
    },
    {
      "cell_type": "code",
      "source": [
        "# Example: GeoJSON polygon data structure\n",
        "my_polygon = {\n",
        "  \"type\": \"Feature\",\n",
        "  \"geometry\": {\n",
        "    \"type\": \"Polygon\",\n",
        "    \"coordinates\": [\n",
        "      [\n",
        "        [100, 0],\n",
        "        [101, 0],\n",
        "        [101, 1],\n",
        "        [100, 1],\n",
        "        [100, 0]\n",
        "      ]\n",
        "    ]\n",
        "  },\n",
        "  \"properties\": {\n",
        "    \"name\": \"Example Polygon\"\n",
        "  }\n",
        "}\n",
        "my_polygon"
      ],
      "metadata": {
        "id": "rtuWoimEA37q"
      },
      "execution_count": null,
      "outputs": []
    },
    {
      "cell_type": "markdown",
      "source": [
        "As we have already shown, you can convert a list of `GeoJSON` dictionaries into a `GeoDataFrame` using the `.from_features()` function.\n",
        "\n",
        "This is handy, as you can then easily manipulate or write our your final data using `GeoPandas`."
      ],
      "metadata": {
        "id": "vkLZacA2BPxY"
      }
    },
    {
      "cell_type": "code",
      "source": [
        "# Example: Converting a list of GeoJSON dictionaries to a gpd\n",
        "\n",
        "# Create a list of GeoJSON dictionaries\n",
        "output = [{\n",
        "  \"type\": \"Feature\",\n",
        "  \"geometry\": {\n",
        "    \"type\": \"Point\",\n",
        "    \"coordinates\": [125.6, 10.1]\n",
        "  },\n",
        "  \"properties\": {\n",
        "    \"name\": \"Dinagat Islands\"\n",
        "  }\n",
        "}]\n",
        "\n",
        "# Convert to a gpd\n",
        "output = gpd.GeoDataFrame.from_features(output, crs='epsg:4326')\n",
        "\n",
        "# Write out to a .shp\n",
        "output.to_file('demo_gpd.shp', crs='epsg:4326')\n"
      ],
      "metadata": {
        "id": "racGs3gVBQHX"
      },
      "execution_count": null,
      "outputs": []
    },
    {
      "cell_type": "markdown",
      "source": [
        "## Task\n",
        "\n",
        "Using the OpenStreetMap and GADM data you have already become accustomed to using, download Points of Interest data for a region you would like to learn more about (remember, staying smaller will help).\n",
        "\n",
        "Carry out the following:\n",
        "\n",
        "\n",
        "*   Create a Point of Interest class.\n",
        "*   Create a polygon boundary class with a method to undertake a point-in-polygon analysis.\n",
        "*   Load in your data, loop over each item and instantiate your objects, finally saving to a list.\n",
        "*   Then undertake your point-in-polygon analysis.\n",
        "*   Export your data to a .shp file for viewing in a piece of GIS software.\n",
        "\n",
        "\n",
        "\n",
        "\n",
        "\n",
        "\n"
      ],
      "metadata": {
        "id": "Fx5Lw-rQ838C"
      }
    },
    {
      "cell_type": "code",
      "source": [
        "# Enter your attempt below\n"
      ],
      "metadata": {
        "id": "HdodRnguCw8-"
      },
      "execution_count": null,
      "outputs": []
    },
    {
      "cell_type": "markdown",
      "source": [
        "## Task\n",
        "\n",
        "For your Point of Interest (PoI) class:\n",
        "\n",
        "* Add in a method which allows you to measure the distance to another set of provided PoI coordinates.\n",
        "* Iterate over your lists of objects and measure the distance to a single other PoI.\n",
        "* Write out the distance (in meters) to this object, by adding this distance as an attribute in the GeoJSON properties.\n",
        "\n",
        "\n"
      ],
      "metadata": {
        "id": "_bsb6V7-Cy3G"
      }
    },
    {
      "cell_type": "code",
      "source": [
        "# Enter your attempt below\n"
      ],
      "metadata": {
        "id": "j0OyooHSCzS2"
      },
      "execution_count": null,
      "outputs": []
    }
  ]
}