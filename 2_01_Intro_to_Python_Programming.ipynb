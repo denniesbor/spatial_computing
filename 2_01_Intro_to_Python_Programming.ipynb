{
  "nbformat": 4,
  "nbformat_minor": 0,
  "metadata": {
    "colab": {
      "provenance": [],
      "authorship_tag": "ABX9TyN/gIGj3rFckmKwVfvk9p/r",
      "include_colab_link": true
    },
    "kernelspec": {
      "name": "python3",
      "display_name": "Python 3"
    },
    "language_info": {
      "name": "python"
    }
  },
  "cells": [
    {
      "cell_type": "markdown",
      "metadata": {
        "id": "view-in-github",
        "colab_type": "text"
      },
      "source": [
        "<a href=\"https://colab.research.google.com/github/edwardoughton/spatial_computing/blob/main/2_01_Intro_to_Python_Programming.ipynb\" target=\"_parent\"><img src=\"https://colab.research.google.com/assets/colab-badge.svg\" alt=\"Open In Colab\"/></a>"
      ]
    },
    {
      "cell_type": "markdown",
      "source": [
        "## Introduction to Python Programming\n",
        "\n",
        "In this class we are going to cover a range of introductory concepts for learning Python, particularly with reference to the use of this programming language in spatial computing topics.\n",
        "\n",
        "The aim is to make this content fun an engaging. Therefore, the will avoid long one-directional lecturing, and provide the learner with the opportunity to interact with small programming examples.\n",
        "\n",
        "Today we will focus on learning:\n",
        "\n",
        "1.   Declaring and assigning variables\n",
        "2.   Updating assigned variables\n",
        "3.   Variable types\n",
        "4.   Multiple assignments\n",
        "5.   Background to text-based programming (e.g., for strings)\n",
        "6.   Formatting strings\n",
        "7.   Different types of numbers\n",
        "\n",
        "\n",
        "\n"
      ],
      "metadata": {
        "id": "_g8qPh1PwlwD"
      }
    },
    {
      "cell_type": "markdown",
      "source": [
        "### Declaring and assigning variables\n",
        "\n",
        "A variable is a name used to store data.\n",
        "\n",
        "This could be any type of data, e.g. a list, dictionary, dataframe etc. but here we will begin first by just considering simple numerical values or strings of characters.\n",
        "\n",
        "You can allocate a value to a variable name by using the equals sign. The value on the right of the equals sign is then added to the computer memory, given the variable name you declare.\n",
        "\n",
        "For example, we can declare and allocate variables for a user, with a specific age, spending a certain amount of time at a Point of Interest (POT), for a certain location in space, as follows:"
      ],
      "metadata": {
        "id": "x7vly2egSxC_"
      }
    },
    {
      "cell_type": "code",
      "source": [
        "# Example: Declaring and assigning variables\n",
        "user = \"Ed\"\n",
        "age = 36\n",
        "time_spent_at_poi_mins = 36\n",
        "location_coordinates = (1.23, -4.67)"
      ],
      "metadata": {
        "id": "Md-KAfecSv5e"
      },
      "execution_count": 1,
      "outputs": []
    },
    {
      "cell_type": "markdown",
      "source": [
        "Now this information has been added to memory as a variable, we can subsequently recall this information, like so:"
      ],
      "metadata": {
        "id": "hSyV-X19T94H"
      }
    },
    {
      "cell_type": "code",
      "source": [
        "# Example\n",
        "print(\"User:\", user)\n",
        "print(\"Age:\", age)\n",
        "print(\"Time Spent at POI:\", time_spent_at_poi_mins)\n",
        "print(\"Location Coordinates:\", location_coordinates)"
      ],
      "metadata": {
        "colab": {
          "base_uri": "https://localhost:8080/"
        },
        "id": "b5WEFS0ST-i-",
        "outputId": "70c9f9f3-cf5d-4d66-b918-1eb28e52733f"
      },
      "execution_count": 2,
      "outputs": [
        {
          "output_type": "stream",
          "name": "stdout",
          "text": [
            "User: Ed\n",
            "Age: 36\n",
            "Time Spent at POI: 36\n",
            "Location Coordinates: (1.23, -4.67)\n"
          ]
        }
      ]
    },
    {
      "cell_type": "markdown",
      "source": [
        "**Task**\n",
        "\n",
        "Can you fill out the code cell below with information for where you spent lunch (12-1pm). Include the following variables:\n",
        "\n",
        "*   User\n",
        "*   Age\n",
        "*   Time spent at POI\n",
        "*   Location coordinates\n",
        "\n",
        "Declare and assign these variables, and then print them to the console.\n",
        "\n"
      ],
      "metadata": {
        "id": "Zyf1GHjNUvvP"
      }
    },
    {
      "cell_type": "code",
      "source": [
        "# Enter your attempt here\n"
      ],
      "metadata": {
        "id": "d9OlZ5n8Vm3A"
      },
      "execution_count": null,
      "outputs": []
    },
    {
      "cell_type": "markdown",
      "source": [
        "### Updating assigned variables\n",
        "\n",
        "Once you have defined a variable, it is possible to then update this value again later.\n",
        "\n",
        "For example, say you spent time at a specific POI for 2 minutes.\n",
        "\n",
        "That could be defined below first as the initial number of minutes (e.g., \"Initial minutes:\").\n",
        "\n",
        "Next, you could update this variable to add this quantity to the time spent (e.g., by an extra 2 minutes, to get a total time of 4 minutes)."
      ],
      "metadata": {
        "id": "lkSOfeXuVkrQ"
      }
    },
    {
      "cell_type": "code",
      "source": [
        "# Example: Updating existing variables using arithmetic operations\n",
        "minutes = 2\n",
        "print(f\"Initial minutes: {minutes}\")\n",
        "\n",
        "minutes = minutes + 2\n",
        "print(f\"Updated minutes: {minutes}\")\n"
      ],
      "metadata": {
        "colab": {
          "base_uri": "https://localhost:8080/"
        },
        "id": "naCFQQE9Uxd_",
        "outputId": "f0f4a64e-a4a0-4035-8b00-e803bfb85507"
      },
      "execution_count": 7,
      "outputs": [
        {
          "output_type": "stream",
          "name": "stdout",
          "text": [
            "Initial minutes: 2\n",
            "Updated minutes: 4\n"
          ]
        }
      ]
    },
    {
      "cell_type": "markdown",
      "source": [
        "**Task**\n",
        "\n",
        "You have been working on quantifying foot traffic in shopping malls. You installed a camera outside a shop front and implemented a machine-driven image recognition system to quantify the number of people passing by.\n",
        "\n",
        "Declare a variable called `pass_count` and assign zero. Print this value with a string explaining what it represents.\n",
        "\n",
        "Next, write a simple program which updates this value every time someone walks past.\n",
        "\n",
        "For inspiration, you can use a similar format to the previous code box, but you must update the variable names, values etc.\n",
        "\n",
        "Use in-line comments to describe what each step does."
      ],
      "metadata": {
        "id": "MetjRRY-WuwH"
      }
    },
    {
      "cell_type": "code",
      "source": [
        "# Enter your attempt here\n"
      ],
      "metadata": {
        "id": "ds2tIR_aWtsB"
      },
      "execution_count": null,
      "outputs": []
    },
    {
      "cell_type": "markdown",
      "source": [
        "You can also update variables using a shortened approach (via shorthand notation, such as `+=`).\n",
        "\n",
        "This works for any operator you wish to choose, addition, subtraction, division, multiplication etc.\n",
        "\n",
        "For example:"
      ],
      "metadata": {
        "id": "mYKmk--Jh_IV"
      }
    },
    {
      "cell_type": "code",
      "source": [
        "# Example: Shortened update\n",
        "value = 2\n",
        "print(f\"This is our starting value: {value}\")\n",
        "\n",
        "value += 10  # Equivalent to value = value + 10\n",
        "print(f\"This is our updated value: {value}\")"
      ],
      "metadata": {
        "colab": {
          "base_uri": "https://localhost:8080/"
        },
        "id": "ZvIOGlHiiOrD",
        "outputId": "48467872-29b9-4872-8e8e-df3391f77cf5"
      },
      "execution_count": 10,
      "outputs": [
        {
          "output_type": "stream",
          "name": "stdout",
          "text": [
            "This is our starting value: 2\n",
            "This is our updated value: 12\n"
          ]
        }
      ]
    },
    {
      "cell_type": "markdown",
      "source": [
        "**Task**\n",
        "\n",
        "Rewrite the previous task program (footcount quantification) but with shortened update notation."
      ],
      "metadata": {
        "id": "LNhdtpC4ih8_"
      }
    },
    {
      "cell_type": "code",
      "source": [
        "# Enter your attempt here\n"
      ],
      "metadata": {
        "id": "NQwlfan5ivff"
      },
      "execution_count": null,
      "outputs": []
    },
    {
      "cell_type": "markdown",
      "source": [
        "### Variable types\n",
        "\n",
        "In computer programming, there are a range of different types of variables.\n",
        "\n",
        "To summarize, these include:\n",
        "\n",
        "*   Integer - A whole number.\n",
        "*   Float - A decimal number.\n",
        "*   String - A sequence of characters.\n",
        "\n",
        "Thankfully, Python is clever enough to detect the type of variable we are using. Therefore, we do not have to do this explicitly, like in other languages (there are caveats though).\n",
        "\n",
        "For example, see the variable demo below:"
      ],
      "metadata": {
        "id": "krouMpRQYgLZ"
      }
    },
    {
      "cell_type": "code",
      "source": [
        "# Example: Variable types\n",
        "x = 2      # This is an integer (a whole number)\n",
        "y = 3.14    # This is a float (a decimal number)\n",
        "z = \"I am a string because I am in quotations\" # This is a string (a character sequence)\n",
        "\n",
        "print(f\"Variable x: {x} (integer)\")\n",
        "print(f\"Variable y: {y} (float)\")\n",
        "print(f\"Variable z: {z} (string)\")"
      ],
      "metadata": {
        "colab": {
          "base_uri": "https://localhost:8080/"
        },
        "id": "Sz7hyOjVYgkA",
        "outputId": "5ed2fb18-f02e-41f4-d923-3da29f60ab74"
      },
      "execution_count": 12,
      "outputs": [
        {
          "output_type": "stream",
          "name": "stdout",
          "text": [
            "Variable x: 2 (integer)\n",
            "Variable y: 3.14 (float)\n",
            "Variable z: I am a string because I am in quotations (string)\n"
          ]
        }
      ]
    },
    {
      "cell_type": "markdown",
      "source": [
        "**Task**\n",
        "\n",
        "Create a new set of variables which represent your first name, second name, height and age.\n",
        "\n",
        "Print each variable, along with a description of the variable type.\n",
        "\n",
        "Add in-line comments to describe what you are doing in your code at each stage.\n"
      ],
      "metadata": {
        "id": "ecHLkrs5YhNI"
      }
    },
    {
      "cell_type": "code",
      "source": [
        "# Enter your attempt here\n"
      ],
      "metadata": {
        "id": "QKYmt1yOcpHm"
      },
      "execution_count": null,
      "outputs": []
    },
    {
      "cell_type": "markdown",
      "source": [
        "### Multiple assignments\n",
        "\n",
        "A very nice feature of Python is the ability to assign multiple variables in a single line of code (known colloquial on Stack Overflow as a \"cheeky one-liner\").\n",
        "\n",
        "See the example below. This works providing we have an equal number of variables being declared on the left hand side of the equals sign, compared to the propose number of assigned values on the right."
      ],
      "metadata": {
        "id": "Nqojd9RSbRaK"
      }
    },
    {
      "cell_type": "code",
      "source": [
        "# Example: Multiple assignments\n",
        "a, b, c, = 8.1, 4, \"I am a string as I am in quotations\"\n",
        "print(f\"a: {a}\")\n",
        "print(f\"b: {b}\")\n",
        "print(f\"c: {c}\")"
      ],
      "metadata": {
        "colab": {
          "base_uri": "https://localhost:8080/"
        },
        "id": "tobqupczYhoY",
        "outputId": "48b921e4-df6b-4800-fcb0-ddf8b03d2a4a"
      },
      "execution_count": 13,
      "outputs": [
        {
          "output_type": "stream",
          "name": "stdout",
          "text": [
            "a: 8.1\n",
            "b: 4\n",
            "c: I am a string as I am in quotations\n"
          ]
        }
      ]
    },
    {
      "cell_type": "markdown",
      "source": [
        "**Task**\n",
        "\n",
        "Allocate your name, age and height to variables `n`, `a` and `h`, in the code cell below.\n",
        "\n",
        "Add in-line comments to describe what you are doing.\n"
      ],
      "metadata": {
        "id": "5oGcroX7cQej"
      }
    },
    {
      "cell_type": "code",
      "source": [
        "# Enter your attempt here\n"
      ],
      "metadata": {
        "id": "62j386F5cPxA"
      },
      "execution_count": null,
      "outputs": []
    },
    {
      "cell_type": "markdown",
      "source": [
        "### Some background to text-based programming\n",
        "\n",
        "In Python (and other computer languages), a text/character-based piece of information is referred to as a 'string'.\n",
        "\n",
        "Strings consist of characters and symbols, often representing natural human language (as opposed to a computer language, which would be binary).\n",
        "\n",
        "Being able to *parse* strings (e.g., read/process strings), is very handy for text manipulation, file modification, labelling of plots, requesting inputs from user, arguments in functions, debugging, signposting code, reporting errors etc.\n",
        "\n",
        "They are created by enclosing a sequence of characters using **pair of single or double quotes**. It does not matter whether single or double but it should be consistent, e.g., \"I am a string\".\n",
        "\n",
        "First, we will begin with a simple `print()` statement. Essentially, this function does what it suggests, by printing anything which is within the following parentheses."
      ],
      "metadata": {
        "id": "RcSlobj_yzY2"
      }
    },
    {
      "cell_type": "code",
      "source": [
        "# Example\n",
        "print(\"I am a string\")"
      ],
      "metadata": {
        "id": "4rtMfphgyylu",
        "colab": {
          "base_uri": "https://localhost:8080/"
        },
        "outputId": "1359cf78-4f2e-4583-f0fb-77a064b96644"
      },
      "execution_count": 14,
      "outputs": [
        {
          "output_type": "stream",
          "name": "stdout",
          "text": [
            "I am a string\n"
          ]
        }
      ]
    },
    {
      "cell_type": "markdown",
      "source": [
        "In fact, when introducing programming the usual first thing you are taught is to `print()` \"Hello, World!\" so here it is:"
      ],
      "metadata": {
        "id": "CEp0ng1DRJr9"
      }
    },
    {
      "cell_type": "code",
      "source": [
        "# Example\n",
        "print(\"Hello, World!\")"
      ],
      "metadata": {
        "id": "Cdkm3Im4RRCw",
        "colab": {
          "base_uri": "https://localhost:8080/"
        },
        "outputId": "4affb6b5-62e9-4ad7-8843-a38378a317ff"
      },
      "execution_count": 15,
      "outputs": [
        {
          "output_type": "stream",
          "name": "stdout",
          "text": [
            "Hello, World!\n"
          ]
        }
      ]
    },
    {
      "cell_type": "markdown",
      "source": [
        "Make a note to remember quotation marks = strings."
      ],
      "metadata": {
        "id": "bM2Xk3cD5UMk"
      }
    },
    {
      "cell_type": "markdown",
      "source": [
        "### Formatting strings\n",
        "\n",
        "Next, we are going to learn a really useful function called `format()`.\n",
        "\n",
        "This allows us to add a variable value into a string.\n",
        "\n",
        "There are two parts:\n",
        "\n",
        "1.   You need to define a string with curly parentheses (e.g. `{}`) where you want the new value to be inserted.\n",
        "2.   Then after the string you need to add the `format()` function name.\n",
        "\n",
        "For example, we can print to the console both the first part of the following string which we have written out (\"Add to my string\"), and then the second part which is added (\"the ending of my sentence.\")."
      ],
      "metadata": {
        "id": "PUlwXdzURPX-"
      }
    },
    {
      "cell_type": "code",
      "source": [
        "# Example:\n",
        "print(\"Add to my string {}\".format(\"the ending of my sentence.\"))"
      ],
      "metadata": {
        "colab": {
          "base_uri": "https://localhost:8080/"
        },
        "id": "kLVmJdTIR980",
        "outputId": "b0e91ce1-f5ac-47f5-ef6b-1fe76d9364bd"
      },
      "execution_count": null,
      "outputs": [
        {
          "output_type": "stream",
          "name": "stdout",
          "text": [
            "Add to my string the ending of my sentence.\n"
          ]
        }
      ]
    },
    {
      "cell_type": "markdown",
      "source": [
        "And this does not just need to be a string that you insert, it could be any variable type, including an integer, float etc."
      ],
      "metadata": {
        "id": "7Cu9X0_teHpZ"
      }
    },
    {
      "cell_type": "code",
      "source": [
        "# Example:\n",
        "print(\"Class number GGS {}\".format(366))"
      ],
      "metadata": {
        "colab": {
          "base_uri": "https://localhost:8080/"
        },
        "id": "u-e9nBdJeRIw",
        "outputId": "f9e38c5d-dccc-4000-a747-dba864de1195"
      },
      "execution_count": null,
      "outputs": [
        {
          "output_type": "stream",
          "name": "stdout",
          "text": [
            "Class number GGS 366\n"
          ]
        }
      ]
    },
    {
      "cell_type": "markdown",
      "source": [
        "This is a very handy function for later when debugging using loops."
      ],
      "metadata": {
        "id": "llsj6fkW5kNQ"
      }
    },
    {
      "cell_type": "markdown",
      "source": [
        "More recently, from Python 3.6 onwards, you can use f-strings to do this task, which saves space:"
      ],
      "metadata": {
        "id": "YrF78Cf64ZLV"
      }
    },
    {
      "cell_type": "code",
      "source": [
        "# Example:\n",
        "ending = \"the ending of my sentence.\"\n",
        "print(f\"Add to my string {ending}\")"
      ],
      "metadata": {
        "colab": {
          "base_uri": "https://localhost:8080/"
        },
        "id": "y3ahdYqO4Zpi",
        "outputId": "98c6eac8-f574-47b9-a4ac-cd28cb46be97"
      },
      "execution_count": 17,
      "outputs": [
        {
          "output_type": "stream",
          "name": "stdout",
          "text": [
            "Add to my string the ending of my sentence.\n"
          ]
        }
      ]
    },
    {
      "cell_type": "code",
      "source": [
        "# Example:\n",
        "print(f\"Add to my string {'the ending'}\")"
      ],
      "metadata": {
        "colab": {
          "base_uri": "https://localhost:8080/"
        },
        "id": "w_1cyG4w4qcF",
        "outputId": "f553bf6b-efc5-4da4-8434-e605ab2341d2"
      },
      "execution_count": 21,
      "outputs": [
        {
          "output_type": "stream",
          "name": "stdout",
          "text": [
            "Add to my string the ending\n"
          ]
        }
      ]
    },
    {
      "cell_type": "markdown",
      "source": [
        "**Task**\n",
        "\n",
        "Create print statements which allow you to insert your existing user POI variables:\n",
        "\n",
        "*   User\n",
        "*   Age\n",
        "*   Time spent at POI\n",
        "*   Location coordinates\n",
        "\n",
        "Use a descriptive string, followed by the inserted variable name."
      ],
      "metadata": {
        "id": "he5K4NW8d_0w"
      }
    },
    {
      "cell_type": "code",
      "source": [
        "# Enter your attempt here\n"
      ],
      "metadata": {
        "id": "Yb5F5-5Md-q-"
      },
      "execution_count": null,
      "outputs": []
    },
    {
      "cell_type": "markdown",
      "source": [
        "String variables also have the property where it is possible to concatenate them together via addition.\n",
        "\n",
        "For example:"
      ],
      "metadata": {
        "id": "H7myUPIN3Rft"
      }
    },
    {
      "cell_type": "code",
      "source": [
        "# Example\n",
        "a = \"Add\"\n",
        "b = \"strings\"\n",
        "c = \"together\"\n",
        "\n",
        "print(a + \" \" + b + \" \" + c)"
      ],
      "metadata": {
        "colab": {
          "base_uri": "https://localhost:8080/"
        },
        "id": "4W-U63AZ3RAO",
        "outputId": "509cccb9-f9bf-4f96-f626-8c7948b7dde5"
      },
      "execution_count": 22,
      "outputs": [
        {
          "output_type": "stream",
          "name": "stdout",
          "text": [
            "Add strings together\n"
          ]
        }
      ]
    },
    {
      "cell_type": "markdown",
      "source": [
        "**Task**\n",
        "\n",
        "Define the following variables, as v1, v2, v3.\n",
        "\n",
        "\n",
        "*   \"The function yielded\"\n",
        "*   \"a final value of:\"\n",
        "*   44\n",
        "\n",
        "Now concatenate them together in a print function, but make sure they are grammatically correct.\n",
        "\n"
      ],
      "metadata": {
        "id": "he6jjPOk5vFq"
      }
    },
    {
      "cell_type": "code",
      "source": [
        "# Enter your attempt here\n"
      ],
      "metadata": {
        "id": "3lmwsb696NCV"
      },
      "execution_count": null,
      "outputs": []
    },
    {
      "cell_type": "markdown",
      "source": [
        "### More on different types of numbers\n",
        "\n",
        "Numbers in Python can be integers, floats, and complex numbers.\n",
        "\n",
        "For complete clarification, integers have no decimal value, so are whole numbers. Regardless of whether they are positive or negative.\n",
        "\n",
        "For example, we can clarify the value type by using the in-built `type()` function:"
      ],
      "metadata": {
        "id": "t1PAc4NCf3E3"
      }
    },
    {
      "cell_type": "code",
      "source": [
        "# Example: Integer numbers\n",
        "a, b, c = 2, 0, -2\n",
        "\n",
        "print(type(a), type(b), type(c))"
      ],
      "metadata": {
        "id": "SBj7i30rwjWf",
        "colab": {
          "base_uri": "https://localhost:8080/"
        },
        "outputId": "b3be7793-b570-4d57-b806-4d430a34cd07"
      },
      "execution_count": 23,
      "outputs": [
        {
          "output_type": "stream",
          "name": "stdout",
          "text": [
            "<class 'int'> <class 'int'> <class 'int'>\n"
          ]
        }
      ]
    },
    {
      "cell_type": "markdown",
      "source": [
        "The same goes for floats, regardless of the sign a number may have:"
      ],
      "metadata": {
        "id": "X0NAgUZ-glaa"
      }
    },
    {
      "cell_type": "code",
      "source": [
        "# Example: Float numbers\n",
        "a, b, c = 2.5, 0.0, -2.5\n",
        "\n",
        "print(type(a), type(b), type(c))"
      ],
      "metadata": {
        "id": "idDTHPaGwjrf",
        "colab": {
          "base_uri": "https://localhost:8080/"
        },
        "outputId": "f558977e-a989-43ad-d4da-c8d2ab903471"
      },
      "execution_count": 24,
      "outputs": [
        {
          "output_type": "stream",
          "name": "stdout",
          "text": [
            "<class 'float'> <class 'float'> <class 'float'>\n"
          ]
        }
      ]
    },
    {
      "cell_type": "markdown",
      "source": [
        "Now the tricky part is recognizing the difference between integers/floats and strings. You need to be careful to recognize what is in quotes, or not.\n",
        "\n",
        "For example, the values below are all strings! Python handily colors strings in a different color, which is a formatting style you should look out for."
      ],
      "metadata": {
        "id": "JItvhhLBgwxm"
      }
    },
    {
      "cell_type": "code",
      "source": [
        "# Example: Strings\n",
        "a, b, c = \"2.5\", \"0\", \"-2.5\"\n",
        "\n",
        "print(type(a), type(b), type(c))"
      ],
      "metadata": {
        "id": "N7Omwe9fwjzp",
        "colab": {
          "base_uri": "https://localhost:8080/"
        },
        "outputId": "03e5b324-e205-43ea-c9b4-43bda01b6780"
      },
      "execution_count": 25,
      "outputs": [
        {
          "output_type": "stream",
          "name": "stdout",
          "text": [
            "<class 'str'> <class 'str'> <class 'str'>\n"
          ]
        }
      ]
    },
    {
      "cell_type": "markdown",
      "source": [
        "**Task**\n",
        "\n",
        "Define five different variables of your choice, using a mix of integers, floats and strings.\n",
        "\n",
        "Then use the `type()` function to clarify their type.\n",
        "\n",
        "Annotate your code."
      ],
      "metadata": {
        "id": "ML1JTk756bhm"
      }
    },
    {
      "cell_type": "code",
      "source": [
        "# Enter your attempt here\n"
      ],
      "metadata": {
        "id": "9xTqqnc96bzL"
      },
      "execution_count": null,
      "outputs": []
    }
  ]
}