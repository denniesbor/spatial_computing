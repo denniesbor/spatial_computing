{
  "nbformat": 4,
  "nbformat_minor": 0,
  "metadata": {
    "colab": {
      "provenance": [],
      "authorship_tag": "ABX9TyP7gJcikI+ERK04yX9N1+oS",
      "include_colab_link": true
    },
    "kernelspec": {
      "name": "python3",
      "display_name": "Python 3"
    },
    "language_info": {
      "name": "python"
    }
  },
  "cells": [
    {
      "cell_type": "markdown",
      "metadata": {
        "id": "view-in-github",
        "colab_type": "text"
      },
      "source": [
        "<a href=\"https://colab.research.google.com/github/edwardoughton/spatial_computing/blob/main/8_01_Intro_to_Object_Oriented_Programing.ipynb\" target=\"_parent\"><img src=\"https://colab.research.google.com/assets/colab-badge.svg\" alt=\"Open In Colab\"/></a>"
      ]
    },
    {
      "cell_type": "markdown",
      "source": [
        "# Object-Oriented Programing (OOP)\n",
        "\n",
        "Whereas in previous classes we have focused on scripting code, today we will begin to understand the paradigm of Object-Oriented Programing (OOP).\n",
        "\n",
        "Scripting can often be organized in a linear approach (e.g., from the top of a script downwards). In contrast, the organization and structure when utilizing OOP is substantially different (e.g., consisting of pre-defined modules).\n",
        "\n",
        "For example, today we will cover:\n",
        "\n",
        "*   Object classes, and that they can contain;\n",
        "*   Object properties/attributes (e.g., stored data), and;\n",
        "*   Object methods (e.g., user-defined function code).\n",
        "\n",
        "Python is a common language for OOP, enabling you to build complex and scalable spatial data and GIS applications.\n",
        "\n",
        "After introducing the structural coding approach. We will focus on a set of key principles central to OOP, including encapsulation, inheritance, polymorphism, and abstraction.\n",
        "\n",
        "Metaphor is an important way to help you understand the key differences. For example:\n",
        "\n",
        "*   OOP can be compared to lego bricks, with each lego piece having a very specific pre-defined shape, color, purpose etc. for you to build with.\n",
        "*   In contrast, scripting is essentially similar to building using clay, where you have lots of immediate flexibility over how you manipulate and shape the medium you are working with."
      ],
      "metadata": {
        "id": "MswBe7zI3x2C"
      }
    },
    {
      "cell_type": "markdown",
      "source": [
        "## Object classes\n",
        "\n",
        "A class sets out a generic structure for creating a future object (e.g., you can think of it as a generalized blueprint, such as for the shape, color, purpose (etc.) of the lego brick).\n",
        "\n",
        "When we specify an object class, using `class` we also can set any required data properties and object behaviors.\n",
        "\n",
        "Let us examine an example below to understand how to implement an object class, for a generic city with attributes including a name, region, and population.\n",
        "\n",
        "Things to note:\n",
        "\n",
        "*   When we specify that this is a `class`, this is proceeded by the name of the class, usually capitalized, e.g., `class City:` (with a colon, as with a user-defined function).\n",
        "*   On the second line we provide the class attributes, defined firstly using `def`, as we would a normal user-defined function. And then secondly, we initialize the class using `__init__`. Then we specify the class attributes after defining `self`, e.g., `def __init__(self, name, region, population):`. We do this to refer the parameter to itself (e.g., we are referring to this specific object).\n",
        "*   We can then define our attributes, so for the name, we specify `self.name`.\n",
        "*   Anything after this, defined via a `def` statement is a method (containing code to enable the class to have a certain behavior)."
      ],
      "metadata": {
        "id": "WlG9J8fd6P1i"
      }
    },
    {
      "cell_type": "code",
      "source": [
        "# Example: Specifying a class (e.g., the blueprint for our lego brick)\n",
        "class City:\n",
        "    def __init__(self, name, region, population, area_km2):\n",
        "        self.name = name\n",
        "        self.region = region\n",
        "        self.population = population\n",
        "        self.area_km2 = area_km2\n",
        "\n",
        "    def calc_pop_density(self):\n",
        "      pop_density_km2 = round(self.population / self.area_km2)\n",
        "      return pop_density_km2\n",
        "\n",
        "print(City) # here we are told this is a class\n",
        "print(City.calc_pop_density) # here we are told this is a function"
      ],
      "metadata": {
        "colab": {
          "base_uri": "https://localhost:8080/"
        },
        "id": "57OgAbIX5F2V",
        "outputId": "b7e3124d-bf0f-44b0-afc5-9b4a21e3e807"
      },
      "execution_count": 25,
      "outputs": [
        {
          "output_type": "stream",
          "name": "stdout",
          "text": [
            "<class '__main__.City'>\n",
            "<function City.calc_pop_density at 0x79e066fd4550>\n"
          ]
        }
      ]
    },
    {
      "cell_type": "markdown",
      "source": [
        "Now we have defined this class, we can instantiate it by stating the class name, e.g., `City()`, followed by the required data attributes.\n",
        "\n",
        "In Python, when we instantiate we are creating an instance of a class, and initializing the object and the affiliated attributes and methods.\n",
        "\n",
        "Thus, we are able to instantiate our object and allocate it to the variable `my_city`, creating a new city object."
      ],
      "metadata": {
        "id": "qij4NWgK-NzA"
      }
    },
    {
      "cell_type": "code",
      "source": [
        "# Example: Instantiating a class\n",
        "my_city = City('Richmond','Virginia', 226610, 152)\n",
        "\n",
        "# Thus, `my_city` has become a City class.\n",
        "print(my_city)"
      ],
      "metadata": {
        "colab": {
          "base_uri": "https://localhost:8080/"
        },
        "id": "qeESBmjWASvF",
        "outputId": "6d9a4630-2007-4e0e-9fe5-2582f30ae08d"
      },
      "execution_count": 26,
      "outputs": [
        {
          "output_type": "stream",
          "name": "stdout",
          "text": [
            "<__main__.City object at 0x79e08bfbb4f0>\n"
          ]
        }
      ]
    },
    {
      "cell_type": "markdown",
      "source": [
        "It is worth incorrectly instantiating a class to understand the ramifications."
      ],
      "metadata": {
        "id": "QWcOwyl4A4oE"
      }
    },
    {
      "cell_type": "code",
      "source": [
        "# Example: Incorrectly instantiating a class\n",
        "my_city = City('Richmond', 152)\n",
        "\n",
        "print(my_city)"
      ],
      "metadata": {
        "colab": {
          "base_uri": "https://localhost:8080/",
          "height": 199
        },
        "id": "t4mjRle4Aw2T",
        "outputId": "dc768956-869f-4cde-fe94-5c2c363a1989"
      },
      "execution_count": 27,
      "outputs": [
        {
          "output_type": "error",
          "ename": "TypeError",
          "evalue": "City.__init__() missing 2 required positional arguments: 'population' and 'area_km2'",
          "traceback": [
            "\u001b[0;31m---------------------------------------------------------------------------\u001b[0m",
            "\u001b[0;31mTypeError\u001b[0m                                 Traceback (most recent call last)",
            "\u001b[0;32m<ipython-input-27-465028440f57>\u001b[0m in \u001b[0;36m<cell line: 2>\u001b[0;34m()\u001b[0m\n\u001b[1;32m      1\u001b[0m \u001b[0;31m# Example: Incorrectly instantiating a class\u001b[0m\u001b[0;34m\u001b[0m\u001b[0;34m\u001b[0m\u001b[0m\n\u001b[0;32m----> 2\u001b[0;31m \u001b[0mmy_city\u001b[0m \u001b[0;34m=\u001b[0m \u001b[0mCity\u001b[0m\u001b[0;34m(\u001b[0m\u001b[0;34m'Richmond'\u001b[0m\u001b[0;34m,\u001b[0m \u001b[0;36m152\u001b[0m\u001b[0;34m)\u001b[0m\u001b[0;34m\u001b[0m\u001b[0;34m\u001b[0m\u001b[0m\n\u001b[0m\u001b[1;32m      3\u001b[0m \u001b[0;34m\u001b[0m\u001b[0m\n\u001b[1;32m      4\u001b[0m \u001b[0mprint\u001b[0m\u001b[0;34m(\u001b[0m\u001b[0mmy_city\u001b[0m\u001b[0;34m)\u001b[0m\u001b[0;34m\u001b[0m\u001b[0;34m\u001b[0m\u001b[0m\n",
            "\u001b[0;31mTypeError\u001b[0m: City.__init__() missing 2 required positional arguments: 'population' and 'area_km2'"
          ]
        }
      ]
    },
    {
      "cell_type": "markdown",
      "source": [
        "We can now access our class attributes as follows, by calling the object variable followed by the attribute name.\n",
        "\n",
        "For example, below we can print the name, region, and population of our class.  "
      ],
      "metadata": {
        "id": "t21en_k0A-pa"
      }
    },
    {
      "cell_type": "code",
      "source": [
        "# Example: Instantiating a class\n",
        "print(my_city.name)\n",
        "print(my_city.region)\n",
        "print(my_city.population)"
      ],
      "metadata": {
        "colab": {
          "base_uri": "https://localhost:8080/"
        },
        "id": "cCBBfXN1A_Xi",
        "outputId": "71be0931-a644-481f-9289-edd6ba5a4fce"
      },
      "execution_count": 28,
      "outputs": [
        {
          "output_type": "stream",
          "name": "stdout",
          "text": [
            "Richmond\n",
            "Virginia\n",
            "226610\n"
          ]
        }
      ]
    },
    {
      "cell_type": "markdown",
      "source": [
        "We can also access the methods associated with our class by calling the class object name, such as `my_city`, and then followed by the method name, such as `.calc_pop_density()`."
      ],
      "metadata": {
        "id": "07ueATUhCGW9"
      }
    },
    {
      "cell_type": "code",
      "source": [
        "# Example: Calling an object method\n",
        "print(my_city.calc_pop_density())"
      ],
      "metadata": {
        "colab": {
          "base_uri": "https://localhost:8080/"
        },
        "id": "yznw3YdBCGsW",
        "outputId": "f22a76c0-ff46-4fcc-d9a8-07644209baac"
      },
      "execution_count": 29,
      "outputs": [
        {
          "output_type": "stream",
          "name": "stdout",
          "text": [
            "1491\n"
          ]
        }
      ]
    },
    {
      "cell_type": "markdown",
      "source": [
        "Now that you have seen how we create and instantiate object classes, we can consider some theoretical concepts pertaining to OOP.\n"
      ],
      "metadata": {
        "id": "1D_DoilvpRcU"
      }
    },
    {
      "cell_type": "markdown",
      "source": [
        "## The Principle of Encapsulation\n",
        "\n",
        "Firstly, the principle of **encapsulation** refers to how we create a class with the bundling of data attributes and methods combined into a single unit.\n",
        "\n",
        "The definition of this term broadly means *the action of enclosing something*.\n",
        "\n",
        "Thus, in doing so we are separating out data properties and the affiliated methods (e.g., functionality) used to program.\n",
        "\n",
        "There are benefits to this, as we are hiding the internal object state, allowing only class methods to be interacted with. This is useful for privacy and security protections, as there is controlled access to data attributes.\n",
        "\n",
        "In general, encapsulation encourages analysts to write modular and reusable code, with key security advantages."
      ],
      "metadata": {
        "id": "e9NKaX5E7bh_"
      }
    },
    {
      "cell_type": "markdown",
      "source": [
        "## Example of Encapsulation\n",
        "\n",
        "Imagine we have a specific `Map` class which encapsulates various geographic features, from rivers, to mountains, to cities etc.\n",
        "\n",
        "We could break down the key properties for these features, area/length, altitude, coordinates etc. which are generic characteristics.\n",
        "\n",
        "And, then separate them into key methods that describe their functionality, such as `calc_area()` for calculating the area of a feature object.\n",
        "\n",
        "In such a circumstance, the data attributes of these features are hidden, and other entities can interact with these features only via specified methods.\n"
      ],
      "metadata": {
        "id": "9GkaMN610T5E"
      }
    },
    {
      "cell_type": "markdown",
      "source": [
        "## The Principle of Inheritance\n",
        "\n",
        "The concept of ***inheritance*** enables a programer to specify a meta-class with generic attributes and methods, and then to allocate subclasses which inherit these properties.\n",
        "\n",
        "There are numerous benefits. For example, by utilizing code re-usability we can be less verbose. This is not only handy because we use fewer lines of code, making it easier to read and understand a spatial processing pipeline. But also because when we do need to edit code functionality, we only have to do so in one place (similar to modularizing repeated actions into user-defined functions).\n",
        "\n",
        "By using inheritance, we create a hierarchy of classes and thus class objects. One example would be specifying a generic polygon class, and then allocating this via inheritance to states, counties, cities and census blocks.\n",
        "\n",
        "Additionally, it is possible in Python for objects to receive multiple inheritance, with a new subclass inheriting properties and functionality from one or more meta-classes."
      ],
      "metadata": {
        "id": "yTILoDBO7dTQ"
      }
    },
    {
      "cell_type": "markdown",
      "source": [
        "## Example of Inheritance\n",
        "\n",
        "Consider we have a hierarchy of objects. This makes most sense to consider a spatial hierarchy. For example, we might have:\n",
        "\n",
        "*   An apartment\n",
        "*   In a building\n",
        "*   On a street\n",
        "*   In a census block\n",
        "*   In a city\n",
        "*   In a state\n",
        "*   In a country\n",
        "\n",
        "We could specify a generic meta-class which contains name, coordinates, population, polygon area etc. and which could be inherited by this whole spatial hierarchy.  \n",
        "\n"
      ],
      "metadata": {
        "id": "tawPrW14zW9G"
      }
    },
    {
      "cell_type": "code",
      "source": [
        "# Example: Inheritance\n",
        "class MetaPolygon:\n",
        "    def __init__(self, area_km2):\n",
        "        self.area_km2 = area_km2\n",
        "\n",
        "    def area(self):\n",
        "      # Placeholder method to calculate the area\n",
        "        pass\n",
        "\n",
        "\n",
        "class City(MetaPolygon):\n",
        "    def __init__(self, width, height):\n",
        "        self.width = width\n",
        "        self.height = height\n",
        "\n",
        "    def area(self):\n",
        "        return self.width * self.height\n",
        "\n",
        "\n",
        "# Usage\n",
        "city = City(20, 20)\n",
        "print(city)\n",
        "print(\"City area:\", city.area())  # Output: Rectangle area: 20"
      ],
      "metadata": {
        "colab": {
          "base_uri": "https://localhost:8080/"
        },
        "id": "HgTDqGpL9s1a",
        "outputId": "a9764dfb-e51c-46a5-b229-f586f4fddac2"
      },
      "execution_count": 30,
      "outputs": [
        {
          "output_type": "stream",
          "name": "stdout",
          "text": [
            "<__main__.City object at 0x79e08bfb9810>\n",
            "City area: 400\n"
          ]
        }
      ]
    },
    {
      "cell_type": "markdown",
      "source": [
        "## The Principle of Polymorphism\n",
        "\n",
        "Here, we are referring to the ability for an object to take on multiple forms.\n",
        "\n",
        "Think of an animagus from Harry Potter, with entities transforming themselves at will between states.\n",
        "\n",
        "A practical example is enabling all inherited classes to be treated as their parent meta-class, essentially simplifying the maintenance of code.\n",
        "\n",
        "This enables flexibility in updating, debugging and more broadly implementing changes across a GIS/spatial processing codebase.\n"
      ],
      "metadata": {
        "id": "GEmTuGuB7fdA"
      }
    },
    {
      "cell_type": "markdown",
      "source": [
        "## Example of Polymorphism\n",
        "\n",
        "Imagine you have a function which enables key spatial statistics to be calculated, such as `process_feature()`. Polymorphism enables this function to access a wide range of sub-class objects all inherited from the same meta-class.\n",
        "\n",
        "For example, a census block or city object can inherit a class structure from a meta-class. Thus, our function is capable of polymorphically adapting its capability given the specific type of feature class it receives."
      ],
      "metadata": {
        "id": "yrPdWjwTwn05"
      }
    },
    {
      "cell_type": "markdown",
      "source": [
        "## The Principle of Abstraction\n",
        "\n",
        "***Abstraction*** allows us to only expose the essential features of a class to be accessed.\n",
        "\n",
        "In doing so, we are basically hiding away any complex code or processing so that a user can see/access a simplified capability.\n",
        "\n",
        "Thus, rather than focusing on how an object functions specifically (e.g., long and complex code), we can purely focus on what an object does, and then portray this to a user.\n",
        "\n"
      ],
      "metadata": {
        "id": "FuXLJR9V7iEK"
      }
    },
    {
      "cell_type": "markdown",
      "source": [
        "## Example of Abstraction\n",
        "\n",
        "When using a web-GIS interface, the simple map display we engage with abstracts away complex rendering algorithms and geographic data structures.\n",
        "\n",
        "Thus, normal GUI non-technical users can interact with our mapped data through logical and familiar methods such as zooming or panning.\n",
        "\n",
        "Subsequently, it is not necessary for a user to understand how these processes take place, merely the general purpose of a behavior.\n",
        "\n",
        "This is handy because we are essentially hiding unnecessary complexity, enabling us to create user-friendly mapping software."
      ],
      "metadata": {
        "id": "KU-Rd-I3yaea"
      }
    },
    {
      "cell_type": "code",
      "source": [
        "from IPython.display import HTML\n",
        "\n",
        "HTML('<iframe width=\"560\" height=\"315\" src=\"https://www.youtube.com/embed/pTB0EiLXUC8?si=ki_gnsvPyoYp2QJR\" title=\"YouTube video player\" frameborder=\"0\" allow=\"accelerometer; autoplay; clipboard-write; encrypted-media; gyroscope; picture-in-picture; web-share\" allowfullscreen></iframe>')\n"
      ],
      "metadata": {
        "colab": {
          "base_uri": "https://localhost:8080/",
          "height": 372
        },
        "id": "vVh-QlbL20nj",
        "outputId": "f0bf88c4-0512-4cec-c089-cd1644ea2d27"
      },
      "execution_count": 5,
      "outputs": [
        {
          "output_type": "stream",
          "name": "stderr",
          "text": [
            "/usr/local/lib/python3.10/dist-packages/IPython/core/display.py:724: UserWarning: Consider using IPython.display.IFrame instead\n",
            "  warnings.warn(\"Consider using IPython.display.IFrame instead\")\n"
          ]
        },
        {
          "output_type": "execute_result",
          "data": {
            "text/plain": [
              "<IPython.core.display.HTML object>"
            ],
            "text/html": [
              "<iframe width=\"560\" height=\"315\" src=\"https://www.youtube.com/embed/pTB0EiLXUC8?si=ki_gnsvPyoYp2QJR\" title=\"YouTube video player\" frameborder=\"0\" allow=\"accelerometer; autoplay; clipboard-write; encrypted-media; gyroscope; picture-in-picture; web-share\" allowfullscreen></iframe>"
            ]
          },
          "metadata": {},
          "execution_count": 5
        }
      ]
    },
    {
      "cell_type": "markdown",
      "source": [
        "# Task 1\n",
        "\n",
        "Now, let us work on creating classes, defining attributes and methods, and harnessing the power of OOP to build robust Python code.\n",
        "\n",
        "Ideally, we want to reinforce this theory we have just learned in real spatial/GIS examples.\n",
        "\n",
        "Given what you have learnt in class today, have a go at defining:\n",
        "\n",
        "*   A class for a state, with properties including name, state code,  capital city, population, area_km2, lowest elevation, highest elevation, and median income.\n",
        "*   Then, instantiate your class to make sure it is correctly specified.\n",
        "*   Next, have a go at creating a class method which calculates the elevation range. Print the range to the console.\n",
        "\n"
      ],
      "metadata": {
        "id": "frVY13otEU6s"
      }
    },
    {
      "cell_type": "code",
      "source": [
        "# Enter your attempt here\n"
      ],
      "metadata": {
        "id": "8KfxVG-FEUmk"
      },
      "execution_count": null,
      "outputs": []
    },
    {
      "cell_type": "markdown",
      "source": [
        "# Task 2\n",
        "\n",
        "In a similar vein, now create a building class with the following:\n",
        "\n",
        "* Data attributes which include the address, zip code, state code, number of occupants, building length, building width, number of floors and building height.\n",
        "* A method which calculates the building area (m^2) on the ground (e.g., first floor).  \n",
        "* A method which calculates the total floor space of the building across all levels, given the building area and number of floors (m^2).\n",
        "* A method which calculates the total internal void space (e.g., the building volume in m^3).  \n"
      ],
      "metadata": {
        "id": "GkIQk44t7hzb"
      }
    },
    {
      "cell_type": "code",
      "source": [
        "# Enter your attempt here\n"
      ],
      "metadata": {
        "id": "hoReXoNh8uOc"
      },
      "execution_count": null,
      "outputs": []
    },
    {
      "cell_type": "markdown",
      "source": [
        "## Task 3\n",
        "\n",
        "You must design and implement a Point of Interest (POI) Management System using object-oriented programming principles. The system should allow users to add, view, and manage different types of POIs, such as restaurants, landmarks, and parks.\n",
        "\n",
        "Define a POI meta-class with the following attributes:\n",
        "\n",
        "* Name\n",
        "* Location (latitude, longitude)\n",
        "* Category\n",
        "\n",
        "Implement subclasses for specific types of POIs, such as a Restaurant, Landmark, and Park, that inherit from the POI meta-class.\n",
        "\n",
        "Each subclass should have additional attributes and methods specific to its type (e.g., cuisine for restaurants, description for landmarks).\n",
        "\n",
        "Create methods to perform the following operations:\n",
        "\n",
        "* Add a new POI to the system\n",
        "* Display information about a specific POI\n",
        "* List all POIs of a certain category\n",
        "* Calculate the distance between two POIs\n",
        "\n",
        "Document your code, including class definitions, method descriptions, and usage examples. Explain how object-oriented principles like inheritance, encapsulation, and polymorphism are applied in your implementation.\n",
        "\n",
        "By completing this task, you will gain practical experience in designing and implementing OOP principles to real-world scenarios for managing geographic data.\n"
      ],
      "metadata": {
        "id": "7E8ZB38s9DpN"
      }
    },
    {
      "cell_type": "code",
      "source": [
        "# Enter your attempt here\n"
      ],
      "metadata": {
        "id": "PFNFMiat9DGt"
      },
      "execution_count": null,
      "outputs": []
    }
  ]
}