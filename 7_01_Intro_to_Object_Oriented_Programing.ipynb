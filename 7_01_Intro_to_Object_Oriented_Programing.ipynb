{
  "nbformat": 4,
  "nbformat_minor": 0,
  "metadata": {
    "colab": {
      "provenance": [],
      "authorship_tag": "ABX9TyO5WsTO9BggwJ+yHrccyrnE",
      "include_colab_link": true
    },
    "kernelspec": {
      "name": "python3",
      "display_name": "Python 3"
    },
    "language_info": {
      "name": "python"
    }
  },
  "cells": [
    {
      "cell_type": "markdown",
      "metadata": {
        "id": "view-in-github",
        "colab_type": "text"
      },
      "source": [
        "<a href=\"https://colab.research.google.com/github/edwardoughton/spatial_computing/blob/main/7_01_Intro_to_Object_Oriented_Programing.ipynb\" target=\"_parent\"><img src=\"https://colab.research.google.com/assets/colab-badge.svg\" alt=\"Open In Colab\"/></a>"
      ]
    },
    {
      "cell_type": "markdown",
      "source": [
        "# Object-Oriented Programing (OOP)\n",
        "\n",
        "Whereas in previous classes we have focused on scripting code, today we will begin to understand the paradigm of Object-Oriented Programing (OOP).\n",
        "\n",
        "Scripting can often be organized in a linear approach (e.g., from the top of a script downwards). In contrast, the organization and structure when utilizing OOP is substantially different (e.g., consisting of pre-defined modules).\n",
        "\n",
        "For example, today we will cover:\n",
        "\n",
        "*   Object classes, and what they can contain;\n",
        "*   Object properties/attributes (e.g., stored data), and;\n",
        "*   Object methods (e.g., user-defined function code).\n",
        "\n",
        "Python is a common language for OOP, enabling you to build complex and scalable spatial data and GIS applications.\n",
        "\n",
        "After introducing the structural coding approach. We will focus on a set of key principles central to OOP, including encapsulation, inheritance, polymorphism, and abstraction.\n",
        "\n",
        "Metaphor is an important way to help you understand the key differences. For example:\n",
        "\n",
        "*   OOP can be compared to lego bricks, with each lego piece having a very specific pre-defined shape, color, purpose etc. for you to build with.\n",
        "*   In contrast, scripting is essentially similar to building using clay, where you have lots of immediate flexibility over how you manipulate and shape the medium you are working with."
      ],
      "metadata": {
        "id": "MswBe7zI3x2C"
      }
    },
    {
      "cell_type": "markdown",
      "source": [
        "## Object classes\n",
        "\n",
        "A class sets out a generic structure for creating a future object (e.g., you can think of it as a generalized blueprint, such as for the shape, color, purpose (etc.) of the lego brick).\n",
        "\n",
        "When we specify an object class, using `class` we also can set any required data properties and object behaviors.\n",
        "\n",
        "Let us examine an example below to understand how to implement an object class, for a generic city with attributes including a name, region, and population.\n",
        "\n",
        "Things to note:\n",
        "\n",
        "*   When we specify that this is a `class`, this is proceeded by the name of the class, usually capitalized, e.g., `class City:` (with a colon, as with a user-defined function).\n",
        "*   On the second line we provide the class attributes, defined firstly using `def`, as we would a normal user-defined function. And then secondly, we initialize the class using `__init__`. Then we specify the class attributes after defining `self`, e.g., `def __init__(self, name, region, population):`. We do this to refer the parameter to itself (e.g., we are referring to this specific object).\n",
        "*   We can then define our attributes, so for the name, we specify `self.name`.\n",
        "*   Anything after this, defined via a `def` statement is a method (containing code to enable the class to have a certain behavior)."
      ],
      "metadata": {
        "id": "WlG9J8fd6P1i"
      }
    },
    {
      "cell_type": "code",
      "source": [
        "# Example: Specifying a class (e.g., the blueprint for our lego brick)\n",
        "class City:\n",
        "    def __init__(self, name, region, population, area_km2):\n",
        "        self.name = name\n",
        "        self.region = region\n",
        "        self.population = population\n",
        "        self.area_km2 = area_km2\n",
        "\n",
        "    def calc_pop_density(self):\n",
        "      pop_density_km2 = round(self.population / self.area_km2)\n",
        "      return pop_density_km2\n",
        "\n",
        "print(City) # here we are told this is a class\n",
        "print(City.calc_pop_density) # here we are told this is a function"
      ],
      "metadata": {
        "colab": {
          "base_uri": "https://localhost:8080/"
        },
        "id": "57OgAbIX5F2V",
        "outputId": "be994376-c145-49d5-e44c-cac7319e103c"
      },
      "execution_count": 1,
      "outputs": [
        {
          "output_type": "stream",
          "name": "stdout",
          "text": [
            "<class '__main__.City'>\n",
            "<function City.calc_pop_density at 0x7b471d3e0af0>\n"
          ]
        }
      ]
    },
    {
      "cell_type": "markdown",
      "source": [
        "Now we have defined this class, we can instantiate it by stating the class name, e.g., `City()`, followed by the required data attributes.\n",
        "\n",
        "In Python, when we instantiate we are creating an instance of a class, and initializing the object and the affiliated attributes and methods.\n",
        "\n",
        "Thus, we are able to instantiate our object and allocate it to the variable `my_city`, creating a new city object."
      ],
      "metadata": {
        "id": "qij4NWgK-NzA"
      }
    },
    {
      "cell_type": "code",
      "source": [
        "# Example: Instantiating a class\n",
        "my_city = City('Richmond','Virginia', 226610, 152)\n",
        "\n",
        "# Thus, `my_city` has become a City class.\n",
        "print(my_city)"
      ],
      "metadata": {
        "colab": {
          "base_uri": "https://localhost:8080/"
        },
        "id": "qeESBmjWASvF",
        "outputId": "a5da4dae-6c4b-4ae6-a807-8036ea3c0959"
      },
      "execution_count": 2,
      "outputs": [
        {
          "output_type": "stream",
          "name": "stdout",
          "text": [
            "<__main__.City object at 0x7b471d6874f0>\n"
          ]
        }
      ]
    },
    {
      "cell_type": "markdown",
      "source": [
        "It is worth incorrectly instantiating a class to understand the ramifications."
      ],
      "metadata": {
        "id": "QWcOwyl4A4oE"
      }
    },
    {
      "cell_type": "code",
      "source": [
        "# Example: Incorrectly instantiating a class\n",
        "my_city = City('Richmond', 152)\n",
        "\n",
        "print(my_city)"
      ],
      "metadata": {
        "colab": {
          "base_uri": "https://localhost:8080/",
          "height": 199
        },
        "id": "t4mjRle4Aw2T",
        "outputId": "2b7c9fe8-c420-4c86-9bbc-74d6abf36f37"
      },
      "execution_count": 3,
      "outputs": [
        {
          "output_type": "error",
          "ename": "TypeError",
          "evalue": "City.__init__() missing 2 required positional arguments: 'population' and 'area_km2'",
          "traceback": [
            "\u001b[0;31m---------------------------------------------------------------------------\u001b[0m",
            "\u001b[0;31mTypeError\u001b[0m                                 Traceback (most recent call last)",
            "\u001b[0;32m<ipython-input-3-465028440f57>\u001b[0m in \u001b[0;36m<cell line: 2>\u001b[0;34m()\u001b[0m\n\u001b[1;32m      1\u001b[0m \u001b[0;31m# Example: Incorrectly instantiating a class\u001b[0m\u001b[0;34m\u001b[0m\u001b[0;34m\u001b[0m\u001b[0m\n\u001b[0;32m----> 2\u001b[0;31m \u001b[0mmy_city\u001b[0m \u001b[0;34m=\u001b[0m \u001b[0mCity\u001b[0m\u001b[0;34m(\u001b[0m\u001b[0;34m'Richmond'\u001b[0m\u001b[0;34m,\u001b[0m \u001b[0;36m152\u001b[0m\u001b[0;34m)\u001b[0m\u001b[0;34m\u001b[0m\u001b[0;34m\u001b[0m\u001b[0m\n\u001b[0m\u001b[1;32m      3\u001b[0m \u001b[0;34m\u001b[0m\u001b[0m\n\u001b[1;32m      4\u001b[0m \u001b[0mprint\u001b[0m\u001b[0;34m(\u001b[0m\u001b[0mmy_city\u001b[0m\u001b[0;34m)\u001b[0m\u001b[0;34m\u001b[0m\u001b[0;34m\u001b[0m\u001b[0m\n",
            "\u001b[0;31mTypeError\u001b[0m: City.__init__() missing 2 required positional arguments: 'population' and 'area_km2'"
          ]
        }
      ]
    },
    {
      "cell_type": "markdown",
      "source": [
        "We can now access our class attributes as follows, by calling the object variable followed by the attribute name.\n",
        "\n",
        "For example, below we can print the name, region, and population of our class.  "
      ],
      "metadata": {
        "id": "t21en_k0A-pa"
      }
    },
    {
      "cell_type": "code",
      "source": [
        "# Example: Instantiating a class\n",
        "print(my_city.name)\n",
        "print(my_city.region)\n",
        "print(my_city.population)"
      ],
      "metadata": {
        "colab": {
          "base_uri": "https://localhost:8080/"
        },
        "id": "cCBBfXN1A_Xi",
        "outputId": "b9983063-f655-4a04-a530-1021dedbd2b9"
      },
      "execution_count": 4,
      "outputs": [
        {
          "output_type": "stream",
          "name": "stdout",
          "text": [
            "Richmond\n",
            "Virginia\n",
            "226610\n"
          ]
        }
      ]
    },
    {
      "cell_type": "markdown",
      "source": [
        "We can also access the methods associated with our class by calling the class object name, such as `my_city`, and then followed by the method name, such as `.calc_pop_density()`."
      ],
      "metadata": {
        "id": "07ueATUhCGW9"
      }
    },
    {
      "cell_type": "code",
      "source": [
        "# Example: Calling an object method\n",
        "print(my_city.calc_pop_density())"
      ],
      "metadata": {
        "colab": {
          "base_uri": "https://localhost:8080/"
        },
        "id": "yznw3YdBCGsW",
        "outputId": "66293e0c-f4fc-48f1-a0b0-e317e6e3a052"
      },
      "execution_count": 5,
      "outputs": [
        {
          "output_type": "stream",
          "name": "stdout",
          "text": [
            "1491\n"
          ]
        }
      ]
    },
    {
      "cell_type": "markdown",
      "source": [
        "Now that you have seen how we create and instantiate object classes, we can consider some theoretical concepts pertaining to OOP.\n"
      ],
      "metadata": {
        "id": "1D_DoilvpRcU"
      }
    },
    {
      "cell_type": "markdown",
      "source": [
        "## The Principle of Encapsulation\n",
        "\n",
        "Firstly, the principle of **encapsulation** refers to how we create a class with the bundling of data attributes and methods combined into a single unit.\n",
        "\n",
        "The definition of this term broadly means *the action of enclosing something*.\n",
        "\n",
        "Thus, in doing so we are separating out data properties and the affiliated methods (e.g., functionality) used to program.\n",
        "\n",
        "There are benefits to this, as we are hiding the internal object state, allowing only class methods to be interacted with. This is useful for privacy and security protections, as there is controlled access to data attributes.\n",
        "\n",
        "In general, encapsulation encourages analysts to write modular and reusable code, with key security advantages."
      ],
      "metadata": {
        "id": "e9NKaX5E7bh_"
      }
    },
    {
      "cell_type": "markdown",
      "source": [
        "## Example of Encapsulation\n",
        "\n",
        "Imagine we have a specific `Map` class which encapsulates various geographic features, from rivers, to mountains, to cities etc.\n",
        "\n",
        "We could break down the key properties for these features, area/length, altitude, coordinates etc. which are generic characteristics.\n",
        "\n",
        "And, then separate them into key methods that describe their functionality, such as `calc_area()` for calculating the area of a feature object.\n",
        "\n",
        "In such a circumstance, the data attributes of these features are hidden, and other entities can interact with these features only via specified methods.\n"
      ],
      "metadata": {
        "id": "9GkaMN610T5E"
      }
    },
    {
      "cell_type": "markdown",
      "source": [
        "## The Principle of Inheritance\n",
        "\n",
        "The concept of ***inheritance*** enables a programer to specify a meta-class with generic attributes and methods, and then to allocate subclasses which inherit these properties.\n",
        "\n",
        "There are numerous benefits. For example, by utilizing code re-usability we can be less verbose. This is not only handy because we use fewer lines of code, making it easier to read and understand a spatial processing pipeline. But also because when we do need to edit code functionality, we only have to do so in one place (similar to modularizing repeated actions into user-defined functions).\n",
        "\n",
        "By using inheritance, we create a hierarchy of classes and thus class objects. One example would be specifying a generic polygon class, and then allocating this via inheritance to states, counties, cities and census blocks.\n",
        "\n",
        "Additionally, it is possible in Python for objects to receive multiple inheritance, with a new subclass inheriting properties and functionality from one or more meta-classes."
      ],
      "metadata": {
        "id": "yTILoDBO7dTQ"
      }
    },
    {
      "cell_type": "markdown",
      "source": [
        "## Example of Inheritance\n",
        "\n",
        "Consider we have a hierarchy of objects. This makes most sense to consider a spatial hierarchy. For example, we might have:\n",
        "\n",
        "*   An apartment\n",
        "*   In a building\n",
        "*   On a street\n",
        "*   In a census block\n",
        "*   In a city\n",
        "*   In a state\n",
        "*   In a country\n",
        "\n",
        "We could specify a generic meta-class which contains name, coordinates, population, polygon area etc. and which could be inherited by this whole spatial hierarchy.  \n",
        "\n"
      ],
      "metadata": {
        "id": "tawPrW14zW9G"
      }
    },
    {
      "cell_type": "code",
      "source": [
        "# Example: Inheritance\n",
        "class MetaPolygon:\n",
        "    def __init__(self, area_km2):\n",
        "        self.area_km2 = area_km2\n",
        "\n",
        "    def area(self):\n",
        "      # Placeholder method to calculate the area\n",
        "        pass\n",
        "\n",
        "\n",
        "class City(MetaPolygon):\n",
        "    def __init__(self, width, height):\n",
        "        self.width = width\n",
        "        self.height = height\n",
        "\n",
        "    def area(self):\n",
        "        return self.width * self.height\n",
        "\n",
        "\n",
        "# Usage\n",
        "city = City(20, 20)\n",
        "print(city)\n",
        "print(\"City area:\", city.area())  # Output: Rectangle area: 20"
      ],
      "metadata": {
        "colab": {
          "base_uri": "https://localhost:8080/"
        },
        "id": "HgTDqGpL9s1a",
        "outputId": "ec5f4d5b-6fbc-446f-bfad-cdafd16adcba"
      },
      "execution_count": 8,
      "outputs": [
        {
          "output_type": "stream",
          "name": "stdout",
          "text": [
            "<__main__.City object at 0x7b471d687460>\n",
            "City area: 400\n"
          ]
        }
      ]
    },
    {
      "cell_type": "markdown",
      "source": [
        "## The Principle of Polymorphism\n",
        "\n",
        "Here, we are referring to the ability for an object to take on multiple forms.\n",
        "\n",
        "Think of an animagus from Harry Potter, with entities transforming themselves at will between states.\n",
        "\n",
        "A practical example is enabling all inherited classes to be treated as their parent meta-class, essentially simplifying the maintenance of code.\n",
        "\n",
        "This enables flexibility in updating, debugging and more broadly implementing changes across a GIS/spatial processing codebase.\n"
      ],
      "metadata": {
        "id": "GEmTuGuB7fdA"
      }
    },
    {
      "cell_type": "markdown",
      "source": [
        "## Example of Polymorphism\n",
        "\n",
        "Imagine you have a function which enables key spatial statistics to be calculated, such as `process_feature()`. Polymorphism enables this function to access a wide range of sub-class objects all inherited from the same meta-class.\n",
        "\n",
        "For example, a census block or city object can inherit a class structure from a meta-class. Thus, our function is capable of polymorphically adapting its capability given the specific type of feature class it receives."
      ],
      "metadata": {
        "id": "yrPdWjwTwn05"
      }
    },
    {
      "cell_type": "markdown",
      "source": [
        "## The Principle of Abstraction\n",
        "\n",
        "***Abstraction*** allows us to only expose the essential features of a class to be accessed.\n",
        "\n",
        "In doing so, we are basically hiding away any complex code or processing so that a user can see/access a simplified capability.\n",
        "\n",
        "Thus, rather than focusing on how an object functions specifically (e.g., long and complex code), we can purely focus on what an object does, and then portray this to a user.\n",
        "\n"
      ],
      "metadata": {
        "id": "FuXLJR9V7iEK"
      }
    },
    {
      "cell_type": "markdown",
      "source": [
        "## Example of Abstraction\n",
        "\n",
        "When using a web-GIS interface, the simple map display we engage with abstracts away complex rendering algorithms and geographic data structures.\n",
        "\n",
        "Thus, normal GUI non-technical users can interact with our mapped data through logical and familiar methods such as zooming or panning.\n",
        "\n",
        "Subsequently, it is not necessary for a user to understand how these processes take place, merely the general purpose of a behavior.\n",
        "\n",
        "This is handy because we are essentially hiding unnecessary complexity, enabling us to create user-friendly mapping software."
      ],
      "metadata": {
        "id": "KU-Rd-I3yaea"
      }
    },
    {
      "cell_type": "code",
      "source": [
        "from IPython.display import HTML\n",
        "\n",
        "HTML('<iframe width=\"560\" height=\"315\" src=\"https://www.youtube.com/embed/pTB0EiLXUC8?si=ki_gnsvPyoYp2QJR\" title=\"YouTube video player\" frameborder=\"0\" allow=\"accelerometer; autoplay; clipboard-write; encrypted-media; gyroscope; picture-in-picture; web-share\" allowfullscreen></iframe>')\n"
      ],
      "metadata": {
        "colab": {
          "base_uri": "https://localhost:8080/",
          "height": 372
        },
        "id": "vVh-QlbL20nj",
        "outputId": "4d6ddcfc-65d7-47a8-a8f3-01e24bfc85b1"
      },
      "execution_count": null,
      "outputs": [
        {
          "output_type": "stream",
          "name": "stderr",
          "text": [
            "/usr/local/lib/python3.10/dist-packages/IPython/core/display.py:724: UserWarning: Consider using IPython.display.IFrame instead\n",
            "  warnings.warn(\"Consider using IPython.display.IFrame instead\")\n"
          ]
        },
        {
          "output_type": "execute_result",
          "data": {
            "text/plain": [
              "<IPython.core.display.HTML object>"
            ],
            "text/html": [
              "<iframe width=\"560\" height=\"315\" src=\"https://www.youtube.com/embed/pTB0EiLXUC8?si=ki_gnsvPyoYp2QJR\" title=\"YouTube video player\" frameborder=\"0\" allow=\"accelerometer; autoplay; clipboard-write; encrypted-media; gyroscope; picture-in-picture; web-share\" allowfullscreen></iframe>"
            ]
          },
          "metadata": {},
          "execution_count": 31
        }
      ]
    },
    {
      "cell_type": "markdown",
      "source": [
        "##Example\n",
        "\n",
        "Let us try create some OOP code for the Virginia dataset we have used previously.\n",
        "\n"
      ],
      "metadata": {
        "id": "--mGIECvbdSM"
      }
    },
    {
      "cell_type": "code",
      "source": [
        "# Example: Loading data from a local machine\n",
        "from google.colab import files\n",
        "uploaded = files.upload()"
      ],
      "metadata": {
        "colab": {
          "base_uri": "https://localhost:8080/",
          "height": 74
        },
        "id": "63bC4gIRbpbU",
        "outputId": "89c8d8bd-15d6-496f-f0b5-9331fa4d4442"
      },
      "execution_count": 9,
      "outputs": [
        {
          "output_type": "display_data",
          "data": {
            "text/plain": [
              "<IPython.core.display.HTML object>"
            ],
            "text/html": [
              "\n",
              "     <input type=\"file\" id=\"files-afdbcea7-dcfa-468b-8c6a-f992b641b580\" name=\"files[]\" multiple disabled\n",
              "        style=\"border:none\" />\n",
              "     <output id=\"result-afdbcea7-dcfa-468b-8c6a-f992b641b580\">\n",
              "      Upload widget is only available when the cell has been executed in the\n",
              "      current browser session. Please rerun this cell to enable.\n",
              "      </output>\n",
              "      <script>// Copyright 2017 Google LLC\n",
              "//\n",
              "// Licensed under the Apache License, Version 2.0 (the \"License\");\n",
              "// you may not use this file except in compliance with the License.\n",
              "// You may obtain a copy of the License at\n",
              "//\n",
              "//      http://www.apache.org/licenses/LICENSE-2.0\n",
              "//\n",
              "// Unless required by applicable law or agreed to in writing, software\n",
              "// distributed under the License is distributed on an \"AS IS\" BASIS,\n",
              "// WITHOUT WARRANTIES OR CONDITIONS OF ANY KIND, either express or implied.\n",
              "// See the License for the specific language governing permissions and\n",
              "// limitations under the License.\n",
              "\n",
              "/**\n",
              " * @fileoverview Helpers for google.colab Python module.\n",
              " */\n",
              "(function(scope) {\n",
              "function span(text, styleAttributes = {}) {\n",
              "  const element = document.createElement('span');\n",
              "  element.textContent = text;\n",
              "  for (const key of Object.keys(styleAttributes)) {\n",
              "    element.style[key] = styleAttributes[key];\n",
              "  }\n",
              "  return element;\n",
              "}\n",
              "\n",
              "// Max number of bytes which will be uploaded at a time.\n",
              "const MAX_PAYLOAD_SIZE = 100 * 1024;\n",
              "\n",
              "function _uploadFiles(inputId, outputId) {\n",
              "  const steps = uploadFilesStep(inputId, outputId);\n",
              "  const outputElement = document.getElementById(outputId);\n",
              "  // Cache steps on the outputElement to make it available for the next call\n",
              "  // to uploadFilesContinue from Python.\n",
              "  outputElement.steps = steps;\n",
              "\n",
              "  return _uploadFilesContinue(outputId);\n",
              "}\n",
              "\n",
              "// This is roughly an async generator (not supported in the browser yet),\n",
              "// where there are multiple asynchronous steps and the Python side is going\n",
              "// to poll for completion of each step.\n",
              "// This uses a Promise to block the python side on completion of each step,\n",
              "// then passes the result of the previous step as the input to the next step.\n",
              "function _uploadFilesContinue(outputId) {\n",
              "  const outputElement = document.getElementById(outputId);\n",
              "  const steps = outputElement.steps;\n",
              "\n",
              "  const next = steps.next(outputElement.lastPromiseValue);\n",
              "  return Promise.resolve(next.value.promise).then((value) => {\n",
              "    // Cache the last promise value to make it available to the next\n",
              "    // step of the generator.\n",
              "    outputElement.lastPromiseValue = value;\n",
              "    return next.value.response;\n",
              "  });\n",
              "}\n",
              "\n",
              "/**\n",
              " * Generator function which is called between each async step of the upload\n",
              " * process.\n",
              " * @param {string} inputId Element ID of the input file picker element.\n",
              " * @param {string} outputId Element ID of the output display.\n",
              " * @return {!Iterable<!Object>} Iterable of next steps.\n",
              " */\n",
              "function* uploadFilesStep(inputId, outputId) {\n",
              "  const inputElement = document.getElementById(inputId);\n",
              "  inputElement.disabled = false;\n",
              "\n",
              "  const outputElement = document.getElementById(outputId);\n",
              "  outputElement.innerHTML = '';\n",
              "\n",
              "  const pickedPromise = new Promise((resolve) => {\n",
              "    inputElement.addEventListener('change', (e) => {\n",
              "      resolve(e.target.files);\n",
              "    });\n",
              "  });\n",
              "\n",
              "  const cancel = document.createElement('button');\n",
              "  inputElement.parentElement.appendChild(cancel);\n",
              "  cancel.textContent = 'Cancel upload';\n",
              "  const cancelPromise = new Promise((resolve) => {\n",
              "    cancel.onclick = () => {\n",
              "      resolve(null);\n",
              "    };\n",
              "  });\n",
              "\n",
              "  // Wait for the user to pick the files.\n",
              "  const files = yield {\n",
              "    promise: Promise.race([pickedPromise, cancelPromise]),\n",
              "    response: {\n",
              "      action: 'starting',\n",
              "    }\n",
              "  };\n",
              "\n",
              "  cancel.remove();\n",
              "\n",
              "  // Disable the input element since further picks are not allowed.\n",
              "  inputElement.disabled = true;\n",
              "\n",
              "  if (!files) {\n",
              "    return {\n",
              "      response: {\n",
              "        action: 'complete',\n",
              "      }\n",
              "    };\n",
              "  }\n",
              "\n",
              "  for (const file of files) {\n",
              "    const li = document.createElement('li');\n",
              "    li.append(span(file.name, {fontWeight: 'bold'}));\n",
              "    li.append(span(\n",
              "        `(${file.type || 'n/a'}) - ${file.size} bytes, ` +\n",
              "        `last modified: ${\n",
              "            file.lastModifiedDate ? file.lastModifiedDate.toLocaleDateString() :\n",
              "                                    'n/a'} - `));\n",
              "    const percent = span('0% done');\n",
              "    li.appendChild(percent);\n",
              "\n",
              "    outputElement.appendChild(li);\n",
              "\n",
              "    const fileDataPromise = new Promise((resolve) => {\n",
              "      const reader = new FileReader();\n",
              "      reader.onload = (e) => {\n",
              "        resolve(e.target.result);\n",
              "      };\n",
              "      reader.readAsArrayBuffer(file);\n",
              "    });\n",
              "    // Wait for the data to be ready.\n",
              "    let fileData = yield {\n",
              "      promise: fileDataPromise,\n",
              "      response: {\n",
              "        action: 'continue',\n",
              "      }\n",
              "    };\n",
              "\n",
              "    // Use a chunked sending to avoid message size limits. See b/62115660.\n",
              "    let position = 0;\n",
              "    do {\n",
              "      const length = Math.min(fileData.byteLength - position, MAX_PAYLOAD_SIZE);\n",
              "      const chunk = new Uint8Array(fileData, position, length);\n",
              "      position += length;\n",
              "\n",
              "      const base64 = btoa(String.fromCharCode.apply(null, chunk));\n",
              "      yield {\n",
              "        response: {\n",
              "          action: 'append',\n",
              "          file: file.name,\n",
              "          data: base64,\n",
              "        },\n",
              "      };\n",
              "\n",
              "      let percentDone = fileData.byteLength === 0 ?\n",
              "          100 :\n",
              "          Math.round((position / fileData.byteLength) * 100);\n",
              "      percent.textContent = `${percentDone}% done`;\n",
              "\n",
              "    } while (position < fileData.byteLength);\n",
              "  }\n",
              "\n",
              "  // All done.\n",
              "  yield {\n",
              "    response: {\n",
              "      action: 'complete',\n",
              "    }\n",
              "  };\n",
              "}\n",
              "\n",
              "scope.google = scope.google || {};\n",
              "scope.google.colab = scope.google.colab || {};\n",
              "scope.google.colab._files = {\n",
              "  _uploadFiles,\n",
              "  _uploadFilesContinue,\n",
              "};\n",
              "})(self);\n",
              "</script> "
            ]
          },
          "metadata": {}
        },
        {
          "output_type": "stream",
          "name": "stdout",
          "text": [
            "Saving virginia.csv to virginia.csv\n"
          ]
        }
      ]
    },
    {
      "cell_type": "code",
      "source": [
        "# Example: Generate object\n",
        "import pandas as pd\n",
        "\n",
        "class VirginiaData:\n",
        "\n",
        "    def __init__(self):\n",
        "        self.data = []\n",
        "\n",
        "    def load_data(self, filename):\n",
        "        \"\"\"\n",
        "        Load county/city data from CSV file.\n",
        "        The CSV file is expected to have two columns: 'NAME_2' and 'TYPE_2'\n",
        "        (County or Independent City).\n",
        "\n",
        "        \"\"\"\n",
        "        data = pd.read_csv(filename)\n",
        "        data = data.to_dict('records')\n",
        "        for item in data:\n",
        "          self.data.append({\n",
        "              'name': item['NAME_2'],\n",
        "              'type': item['TYPE_2'],\n",
        "              'area_m2': item['area_m2'],\n",
        "          })\n",
        "\n",
        "    def get_counties(self):\n",
        "        \"\"\"\n",
        "        Return a list of all counties.\n",
        "\n",
        "        \"\"\"\n",
        "        output = []\n",
        "\n",
        "        for item in self.data:\n",
        "          if item['type'] == 'County':\n",
        "            output.append(item['name'])\n",
        "\n",
        "        return output\n",
        "\n",
        "    def get_cities(self):\n",
        "        \"\"\"\n",
        "        Return a list of all cities.\n",
        "\n",
        "        \"\"\"\n",
        "        output = []\n",
        "\n",
        "        for item in self.data:\n",
        "          if item['type'] == 'Independent City':\n",
        "            output.append(item['name'])\n",
        "\n",
        "        return output\n"
      ],
      "metadata": {
        "id": "xd9I3g7wcbBf"
      },
      "execution_count": 43,
      "outputs": []
    },
    {
      "cell_type": "code",
      "source": [
        "# Example: Instantiate class\n",
        "va = VirginiaData()\n",
        "\n",
        "va"
      ],
      "metadata": {
        "colab": {
          "base_uri": "https://localhost:8080/"
        },
        "id": "z57zwdowf0Ft",
        "outputId": "98591ee8-a647-4f5c-ca38-596e7abf36a5"
      },
      "execution_count": 44,
      "outputs": [
        {
          "output_type": "execute_result",
          "data": {
            "text/plain": [
              "<__main__.VirginiaData at 0x7b46ee10d6f0>"
            ]
          },
          "metadata": {},
          "execution_count": 44
        }
      ]
    },
    {
      "cell_type": "code",
      "source": [
        "# Example: Load data\n",
        "va.load_data('virginia.csv')\n",
        "\n",
        "va.data"
      ],
      "metadata": {
        "colab": {
          "base_uri": "https://localhost:8080/"
        },
        "id": "kyHEzAklhDpw",
        "outputId": "897bd52a-2b04-4887-c40c-b854988af9be"
      },
      "execution_count": 45,
      "outputs": [
        {
          "output_type": "execute_result",
          "data": {
            "text/plain": [
              "[{'name': 'Accomack', 'type': 'County', 'area_m2': 1237202429.0},\n",
              " {'name': 'Albemarle', 'type': 'County', 'area_m2': 1874286543.0},\n",
              " {'name': 'Alexandria', 'type': 'Independent City', 'area_m2': 40572658.0},\n",
              " {'name': 'Alleghany', 'type': 'County', 'area_m2': 1155583987.0},\n",
              " {'name': 'Amelia', 'type': 'County', 'area_m2': 954080323.0},\n",
              " {'name': 'Amherst', 'type': 'County', 'area_m2': 1230468675.0},\n",
              " {'name': 'Appomattox', 'type': 'County', 'area_m2': 886132724.0},\n",
              " {'name': 'Arlington', 'type': 'County', 'area_m2': 68985622.0},\n",
              " {'name': 'Augusta', 'type': 'County', 'area_m2': nan},\n",
              " {'name': 'Bath', 'type': 'County', 'area_m2': 1386850661.0},\n",
              " {'name': 'Bedford', 'type': 'County', 'area_m2': 2007272030.0},\n",
              " {'name': 'Bedford City', 'type': 'City', 'area_m2': 22216256.0},\n",
              " {'name': 'Bland', 'type': 'County', 'area_m2': 927088076.0},\n",
              " {'name': 'Botetourt', 'type': 'County', 'area_m2': 1417129801.0},\n",
              " {'name': 'Bristol', 'type': 'Independent City', 'area_m2': 30025208.0},\n",
              " {'name': 'Brunswick', 'type': 'County', 'area_m2': 1481507876.0},\n",
              " {'name': 'Buchanan', 'type': 'County', 'area_m2': 1298715653.0},\n",
              " {'name': 'Buckingham', 'type': 'County', 'area_m2': 1513639939.0},\n",
              " {'name': 'Buena Vista', 'type': 'Independent City', 'area_m2': 17876703.0},\n",
              " {'name': 'Campbell', 'type': 'County', 'area_m2': 1298858267.0},\n",
              " {'name': 'Caroline', 'type': 'County', 'area_m2': 1374022337.0},\n",
              " {'name': 'Carroll', 'type': 'County', 'area_m2': 1241335113.0},\n",
              " {'name': 'Charles City', 'type': 'County', 'area_m2': 498073364.0},\n",
              " {'name': 'Charlotte', 'type': 'County', 'area_m2': 1232712347.0},\n",
              " {'name': 'Charlottesville',\n",
              "  'type': 'Independent City',\n",
              "  'area_m2': 30474046.0},\n",
              " {'name': 'Chesapeake', 'type': 'Independent City', 'area_m2': 906620196.0},\n",
              " {'name': 'Chesterfield', 'type': 'County', 'area_m2': 1142035446.0},\n",
              " {'name': 'Clarke', 'type': 'County', 'area_m2': 458984254.0},\n",
              " {'name': 'Clifton Forge City',\n",
              "  'type': 'Independent City',\n",
              "  'area_m2': 9046030.0},\n",
              " {'name': 'Colonial Heights',\n",
              "  'type': 'Independent City',\n",
              "  'area_m2': 24169891.0},\n",
              " {'name': 'Covington', 'type': 'Independent City', 'area_m2': 14336639.0},\n",
              " {'name': 'Craig', 'type': 'County', 'area_m2': 851967466.0},\n",
              " {'name': 'Culpeper', 'type': 'County', 'area_m2': 994395141.0},\n",
              " {'name': 'Cumberland', 'type': 'County', 'area_m2': 775295126.0},\n",
              " {'name': 'Danville', 'type': 'Independent City', 'area_m2': 114475128.0},\n",
              " {'name': 'Dickenson', 'type': 'County', 'area_m2': 867619931.0},\n",
              " {'name': 'Dinwiddie', 'type': 'County', 'area_m2': 1314276324.0},\n",
              " {'name': 'Emporia', 'type': 'Independent City', 'area_m2': 18417644.0},\n",
              " {'name': 'Essex', 'type': 'County', 'area_m2': 672868584.0},\n",
              " {'name': 'Fairfax', 'type': 'County', 'area_m2': 1044824628.0},\n",
              " {'name': 'Fairfax City', 'type': 'City', 'area_m2': 15853643.0},\n",
              " {'name': 'Falls Church', 'type': 'Independent City', 'area_m2': 5121049.0},\n",
              " {'name': 'Fauquier', 'type': 'County', 'area_m2': 1691850884.0},\n",
              " {'name': 'Floyd', 'type': 'County', 'area_m2': 987171606.0},\n",
              " {'name': 'Fluvanna', 'type': 'County', 'area_m2': 748147523.0},\n",
              " {'name': 'Franklin', 'type': 'County', 'area_m2': 1870556046.0},\n",
              " {'name': 'Frederick', 'type': 'County', 'area_m2': 1076737062.0},\n",
              " {'name': 'Fredericksburg', 'type': 'Independent City', 'area_m2': 27550368.0},\n",
              " {'name': 'Galax', 'type': 'Independent City', 'area_m2': 23595512.0},\n",
              " {'name': 'Giles', 'type': 'County', 'area_m2': 937963023.0},\n",
              " {'name': 'Gloucester', 'type': 'County', 'area_m2': 578473098.0},\n",
              " {'name': 'Goochland', 'type': 'County', 'area_m2': 751247836.0},\n",
              " {'name': 'Grayson', 'type': 'County', 'area_m2': 1162560187.0},\n",
              " {'name': 'Greene', 'type': 'County', 'area_m2': 409990079.0},\n",
              " {'name': 'Greensville', 'type': 'County', 'area_m2': 766467034.0},\n",
              " {'name': 'Halifax', 'type': 'County', 'area_m2': 2135881041.0},\n",
              " {'name': 'Hampton', 'type': 'Independent City', 'area_m2': 138574869.0},\n",
              " {'name': 'Hanover', 'type': 'County', 'area_m2': 1229954643.0},\n",
              " {'name': 'Harrisonburg', 'type': 'Independent City', 'area_m2': 45902850.0},\n",
              " {'name': 'Henrico', 'type': 'County', 'area_m2': 624319510.0},\n",
              " {'name': 'Henry', 'type': 'County', 'area_m2': 997899704.0},\n",
              " {'name': 'Highland', 'type': 'County', 'area_m2': 1087484652.0},\n",
              " {'name': 'Hopewell', 'type': 'Independent City', 'area_m2': 28633847.0},\n",
              " {'name': 'Isle of Wight', 'type': 'County', 'area_m2': 844372951.0},\n",
              " {'name': 'James City', 'type': 'County', 'area_m2': 393353855.0},\n",
              " {'name': 'King and Queen', 'type': 'County', 'area_m2': 827303785.0},\n",
              " {'name': 'King George', 'type': 'County', 'area_m2': 461483823.0},\n",
              " {'name': 'King William', 'type': 'County', 'area_m2': 759720739.0},\n",
              " {'name': 'Lancaster', 'type': 'County', 'area_m2': 361307073.0},\n",
              " {'name': 'Lee', 'type': 'County', 'area_m2': 1134590172.0},\n",
              " {'name': 'Lexington', 'type': 'Independent City', 'area_m2': 8236013.0},\n",
              " {'name': 'Loudoun', 'type': 'County', 'area_m2': 1354284153.0},\n",
              " {'name': 'Louisa', 'type': 'County', 'area_m2': 1321961376.0},\n",
              " {'name': 'Lunenburg', 'type': 'County', 'area_m2': 1115071849.0},\n",
              " {'name': 'Lynchburg', 'type': 'Independent City', 'area_m2': 131951359.0},\n",
              " {'name': 'Madison', 'type': 'County', 'area_m2': 830467860.0},\n",
              " {'name': 'Manassas', 'type': 'Independent City', 'area_m2': 25778806.0},\n",
              " {'name': 'Manassas Park', 'type': 'Independent City', 'area_m2': 7203514.0},\n",
              " {'name': 'Martinsville', 'type': 'Independent City', 'area_m2': 28907476.0},\n",
              " {'name': 'Mathews', 'type': 'County', 'area_m2': 231314703.0},\n",
              " {'name': 'Mecklenburg', 'type': 'County', 'area_m2': 1752480737.0},\n",
              " {'name': 'Middlesex', 'type': 'County', 'area_m2': 349059034.0},\n",
              " {'name': 'Montgomery', 'type': 'County', 'area_m2': 1004127774.0},\n",
              " {'name': 'Nelson', 'type': 'County', 'area_m2': 1213992421.0},\n",
              " {'name': 'New Kent', 'type': 'County', 'area_m2': 545146576.0},\n",
              " {'name': 'Newport News', 'type': 'Independent City', 'area_m2': 182913702.0},\n",
              " {'name': 'Norfolk', 'type': 'Independent City', 'area_m2': 145746773.0},\n",
              " {'name': 'Northampton', 'type': 'County', 'area_m2': 587130092.0},\n",
              " {'name': 'Northumberland', 'type': 'County', 'area_m2': 528082189.0},\n",
              " {'name': 'Norton', 'type': 'Independent City', 'area_m2': 19889602.0},\n",
              " {'name': 'Nottoway', 'type': 'County', 'area_m2': 796744911.0},\n",
              " {'name': 'Orange', 'type': 'County', 'area_m2': 885971089.0},\n",
              " {'name': 'Page', 'type': 'County', 'area_m2': 807926904.0},\n",
              " {'name': 'Patrick', 'type': 'County', 'area_m2': 1258677495.0},\n",
              " {'name': 'Petersburg', 'type': 'Independent City', 'area_m2': 59869543.0},\n",
              " {'name': 'Pittsylvania', 'type': 'County', 'area_m2': nan},\n",
              " {'name': 'Poquoson', 'type': 'Independent City', 'area_m2': 42721547.0},\n",
              " {'name': 'Portsmouth', 'type': 'Independent City', 'area_m2': 92155466.0},\n",
              " {'name': 'Powhatan', 'type': 'County', 'area_m2': 676424201.0},\n",
              " {'name': 'Prince Edward', 'type': 'County', 'area_m2': 916774104.0},\n",
              " {'name': 'Prince George', 'type': 'County', 'area_m2': 689119702.0},\n",
              " {'name': 'Prince William', 'type': 'County', 'area_m2': 885274869.0},\n",
              " {'name': 'Pulaski', 'type': 'County', 'area_m2': 859774874.0},\n",
              " {'name': 'Radford', 'type': 'Independent City', 'area_m2': 27964465.0},\n",
              " {'name': 'Rappahannock', 'type': 'County', 'area_m2': 687614006.0},\n",
              " {'name': 'Richmond', 'type': 'Independent City', 'area_m2': 667525771.0},\n",
              " {'name': 'Roanoke', 'type': 'County', 'area_m2': 647552747.0},\n",
              " {'name': 'Roanoke City', 'type': 'Independent City', 'area_m2': 111833811.0},\n",
              " {'name': 'Rockbridge', 'type': 'County', 'area_m2': 1551052834.0},\n",
              " {'name': 'Rockingham', 'type': 'County', 'area_m2': nan},\n",
              " {'name': 'Russell', 'type': 'County', 'area_m2': 1234353031.0},\n",
              " {'name': 'Salem', 'type': 'Independent City', 'area_m2': 36767404.0},\n",
              " {'name': 'Scott', 'type': 'County', 'area_m2': 1394346167.0},\n",
              " {'name': 'Shenandoah', 'type': 'County', 'area_m2': 1326898569.0},\n",
              " {'name': 'Smyth', 'type': 'County', 'area_m2': 1167196387.0},\n",
              " {'name': 'Southampton', 'type': 'County', 'area_m2': 1549841619.0},\n",
              " {'name': 'Spotsylvania', 'type': 'County', 'area_m2': 1081276838.0},\n",
              " {'name': 'Stafford', 'type': 'County', 'area_m2': 699365386.0},\n",
              " {'name': 'Staunton', 'type': 'Independent City', 'area_m2': 51329892.0},\n",
              " {'name': 'Suffolk', 'type': 'Independent City', 'area_m2': 1064494353.0},\n",
              " {'name': 'Surry', 'type': 'County', 'area_m2': 726523669.0},\n",
              " {'name': 'Sussex', 'type': 'County', 'area_m2': 1290618799.0},\n",
              " {'name': 'Tazewell', 'type': 'County', 'area_m2': 1348229040.0},\n",
              " {'name': 'Virginia Beach',\n",
              "  'type': 'Independent City',\n",
              "  'area_m2': 677854995.0},\n",
              " {'name': 'Warren', 'type': 'County', 'area_m2': 558868460.0},\n",
              " {'name': 'Washington', 'type': 'County', 'area_m2': 1463520555.0},\n",
              " {'name': 'Waynesboro', 'type': 'Independent City', 'area_m2': 37254713.0},\n",
              " {'name': 'Westmoreland', 'type': 'County', 'area_m2': 600322538.0},\n",
              " {'name': 'Williamsburg', 'type': 'Independent City', 'area_m2': 25284512.0},\n",
              " {'name': 'Winchester', 'type': 'Independent City', 'area_m2': 23484130.0},\n",
              " {'name': 'Wise', 'type': 'County', 'area_m2': 1046816810.0},\n",
              " {'name': 'Wythe', 'type': 'County', 'area_m2': 1202076507.0},\n",
              " {'name': 'York', 'type': 'County', 'area_m2': 282115967.0},\n",
              " {'name': nan, 'type': nan, 'area_m2': nan}]"
            ]
          },
          "metadata": {},
          "execution_count": 45
        }
      ]
    },
    {
      "cell_type": "code",
      "source": [
        "# Example: Get counties\n",
        "va.get_counties()"
      ],
      "metadata": {
        "colab": {
          "base_uri": "https://localhost:8080/"
        },
        "id": "z2HUZ7zxdUb1",
        "outputId": "c9fb66ea-3c95-4029-a8d9-51b2ef59f282"
      },
      "execution_count": 34,
      "outputs": [
        {
          "output_type": "execute_result",
          "data": {
            "text/plain": [
              "['Accomack',\n",
              " 'Albemarle',\n",
              " 'Alleghany',\n",
              " 'Amelia',\n",
              " 'Amherst',\n",
              " 'Appomattox',\n",
              " 'Arlington',\n",
              " 'Augusta',\n",
              " 'Bath',\n",
              " 'Bedford',\n",
              " 'Bland',\n",
              " 'Botetourt',\n",
              " 'Brunswick',\n",
              " 'Buchanan',\n",
              " 'Buckingham',\n",
              " 'Campbell',\n",
              " 'Caroline',\n",
              " 'Carroll',\n",
              " 'Charles City',\n",
              " 'Charlotte',\n",
              " 'Chesterfield',\n",
              " 'Clarke',\n",
              " 'Craig',\n",
              " 'Culpeper',\n",
              " 'Cumberland',\n",
              " 'Dickenson',\n",
              " 'Dinwiddie',\n",
              " 'Essex',\n",
              " 'Fairfax',\n",
              " 'Fauquier',\n",
              " 'Floyd',\n",
              " 'Fluvanna',\n",
              " 'Franklin',\n",
              " 'Frederick',\n",
              " 'Giles',\n",
              " 'Gloucester',\n",
              " 'Goochland',\n",
              " 'Grayson',\n",
              " 'Greene',\n",
              " 'Greensville',\n",
              " 'Halifax',\n",
              " 'Hanover',\n",
              " 'Henrico',\n",
              " 'Henry',\n",
              " 'Highland',\n",
              " 'Isle of Wight',\n",
              " 'James City',\n",
              " 'King and Queen',\n",
              " 'King George',\n",
              " 'King William',\n",
              " 'Lancaster',\n",
              " 'Lee',\n",
              " 'Loudoun',\n",
              " 'Louisa',\n",
              " 'Lunenburg',\n",
              " 'Madison',\n",
              " 'Mathews',\n",
              " 'Mecklenburg',\n",
              " 'Middlesex',\n",
              " 'Montgomery',\n",
              " 'Nelson',\n",
              " 'New Kent',\n",
              " 'Northampton',\n",
              " 'Northumberland',\n",
              " 'Nottoway',\n",
              " 'Orange',\n",
              " 'Page',\n",
              " 'Patrick',\n",
              " 'Pittsylvania',\n",
              " 'Powhatan',\n",
              " 'Prince Edward',\n",
              " 'Prince George',\n",
              " 'Prince William',\n",
              " 'Pulaski',\n",
              " 'Rappahannock',\n",
              " 'Roanoke',\n",
              " 'Rockbridge',\n",
              " 'Rockingham',\n",
              " 'Russell',\n",
              " 'Scott',\n",
              " 'Shenandoah',\n",
              " 'Smyth',\n",
              " 'Southampton',\n",
              " 'Spotsylvania',\n",
              " 'Stafford',\n",
              " 'Surry',\n",
              " 'Sussex',\n",
              " 'Tazewell',\n",
              " 'Warren',\n",
              " 'Washington',\n",
              " 'Westmoreland',\n",
              " 'Wise',\n",
              " 'Wythe',\n",
              " 'York']"
            ]
          },
          "metadata": {},
          "execution_count": 34
        }
      ]
    },
    {
      "cell_type": "code",
      "source": [
        "# Example: Get cities\n",
        "va.get_cities()"
      ],
      "metadata": {
        "colab": {
          "base_uri": "https://localhost:8080/"
        },
        "id": "_UAjtfEehTjD",
        "outputId": "e7c0d6ef-3546-4fc0-989d-d28cf3668f2f"
      },
      "execution_count": 46,
      "outputs": [
        {
          "output_type": "execute_result",
          "data": {
            "text/plain": [
              "['Alexandria',\n",
              " 'Bristol',\n",
              " 'Buena Vista',\n",
              " 'Charlottesville',\n",
              " 'Chesapeake',\n",
              " 'Clifton Forge City',\n",
              " 'Colonial Heights',\n",
              " 'Covington',\n",
              " 'Danville',\n",
              " 'Emporia',\n",
              " 'Falls Church',\n",
              " 'Fredericksburg',\n",
              " 'Galax',\n",
              " 'Hampton',\n",
              " 'Harrisonburg',\n",
              " 'Hopewell',\n",
              " 'Lexington',\n",
              " 'Lynchburg',\n",
              " 'Manassas',\n",
              " 'Manassas Park',\n",
              " 'Martinsville',\n",
              " 'Newport News',\n",
              " 'Norfolk',\n",
              " 'Norton',\n",
              " 'Petersburg',\n",
              " 'Poquoson',\n",
              " 'Portsmouth',\n",
              " 'Radford',\n",
              " 'Richmond',\n",
              " 'Roanoke City',\n",
              " 'Salem',\n",
              " 'Staunton',\n",
              " 'Suffolk',\n",
              " 'Virginia Beach',\n",
              " 'Waynesboro',\n",
              " 'Williamsburg',\n",
              " 'Winchester']"
            ]
          },
          "metadata": {},
          "execution_count": 46
        }
      ]
    },
    {
      "cell_type": "markdown",
      "source": [
        "# Task 1\n",
        "\n",
        "Now, let us work on creating classes, defining attributes and methods, and harnessing the power of OOP to build robust Python code.\n",
        "\n",
        "Ideally, we want to reinforce this theory we have just learned in real spatial/GIS examples.\n",
        "\n",
        "Given what you have learnt in class today, have a go at defining:\n",
        "\n",
        "*   A class for a state, with properties including name, state code,  capital city, population, area_km2, lowest elevation, highest elevation, and median income.\n",
        "*   Then, instantiate your class to make sure it is correctly specified.\n",
        "*   Next, have a go at creating a class method which calculates the elevation range. Print the range to the console.\n",
        "\n"
      ],
      "metadata": {
        "id": "frVY13otEU6s"
      }
    },
    {
      "cell_type": "code",
      "source": [
        "# Enter your attempt here\n"
      ],
      "metadata": {
        "id": "8KfxVG-FEUmk"
      },
      "execution_count": null,
      "outputs": []
    },
    {
      "cell_type": "markdown",
      "source": [
        "# Task 2\n",
        "\n",
        "In a similar vein, now create a building class with the following:\n",
        "\n",
        "* Data attributes which include the address, zip code, state code, number of occupants, building length, building width, number of floors and building height.\n",
        "* A method which calculates the building area (m^2) on the ground (e.g., first floor).  \n",
        "* A method which calculates the total floor space of the building across all levels, given the building area and number of floors (m^2).\n",
        "* A method which calculates the total internal void space (e.g., the building volume in m^3).  \n",
        "* Once you've created an example, try to load in the building data from last class."
      ],
      "metadata": {
        "id": "GkIQk44t7hzb"
      }
    },
    {
      "cell_type": "code",
      "source": [
        "# Enter your attempt here\n"
      ],
      "metadata": {
        "id": "hoReXoNh8uOc"
      },
      "execution_count": null,
      "outputs": []
    },
    {
      "cell_type": "markdown",
      "source": [
        "## Task 3\n",
        "\n",
        "You must design and implement a Point of Interest (POI) Management System using object-oriented programing principles. The system should allow users to add, view, and manage different types of POIs, such as restaurants, landmarks, and parks.\n",
        "\n",
        "Define a POI meta-class with the following attributes:\n",
        "\n",
        "* Name\n",
        "* Location (latitude, longitude)\n",
        "* Category\n",
        "\n",
        "Implement subclasses for specific types of POIs, such as a Restaurant, Landmark, and Park, that inherit from the POI meta-class.\n",
        "\n",
        "Each subclass should have additional attributes and methods specific to its type (e.g., cuisine for restaurants, description for landmarks).\n",
        "\n",
        "Create methods to perform the following operations:\n",
        "\n",
        "* Add a new POI to the system\n",
        "* Display information about a specific POI\n",
        "* List all POIs of a certain category\n",
        "* Calculate the distance between two POIs\n",
        "\n",
        "Document your code, including class definitions, method descriptions, and usage examples. Explain how object-oriented principles like inheritance, encapsulation, and polymorphism are applied in your implementation.\n",
        "\n",
        "By completing this task, you will gain practical experience in designing and implementing OOP principles to real-world scenarios for managing geographic data.\n",
        "\n",
        "Try to populate your code with real OSM POI data.\n"
      ],
      "metadata": {
        "id": "7E8ZB38s9DpN"
      }
    },
    {
      "cell_type": "code",
      "source": [
        "# Enter your attempt here\n"
      ],
      "metadata": {
        "id": "PFNFMiat9DGt"
      },
      "execution_count": null,
      "outputs": []
    }
  ]
}