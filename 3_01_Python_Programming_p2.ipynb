{
  "nbformat": 4,
  "nbformat_minor": 0,
  "metadata": {
    "colab": {
      "provenance": [],
      "toc_visible": true,
      "authorship_tag": "ABX9TyNja0SCJiJ/JrElAkeDseV1",
      "include_colab_link": true
    },
    "kernelspec": {
      "name": "python3",
      "display_name": "Python 3"
    },
    "language_info": {
      "name": "python"
    }
  },
  "cells": [
    {
      "cell_type": "markdown",
      "metadata": {
        "id": "view-in-github",
        "colab_type": "text"
      },
      "source": [
        "<a href=\"https://colab.research.google.com/github/edwardoughton/spatial_computing/blob/main/3_01_Python_Programming_p2.ipynb\" target=\"_parent\"><img src=\"https://colab.research.google.com/assets/colab-badge.svg\" alt=\"Open In Colab\"/></a>"
      ]
    },
    {
      "cell_type": "markdown",
      "source": [
        "## **Data structures**\n",
        "\n",
        "Here we will explore various data structures commonly used in computing programming, with reference to Python.\n",
        "\n"
      ],
      "metadata": {
        "id": "2X32NDGO1JjO"
      }
    },
    {
      "cell_type": "markdown",
      "source": [
        "## **Data Structures - Lists**\n",
        "\n",
        "One of the most commonly used data structures is a list, denoted by using square brackets, e.g., `[]`. A list can contain a wide range of elements, whether ints, floats, strings, or other data structures such as lists.  \n",
        "\n",
        "Lists are ordered, thus they retain the order in which their consituent elements were placed within them.\n",
        "\n",
        "Moreover, lists ae mutable, which basically means we are able to change them as we desire, e.g., using a range of in-built python functions for manipulation, including `append()`, `extend()`, `insert()`, `remove()`, `pop()`, `index()`, `count()`, `sort()`, `reverse()`, `copy()`, `len()`, `max()`, `min()`, `sum()`, and `sorted()`."
      ],
      "metadata": {
        "id": "kQBO7AbaHV1X"
      }
    },
    {
      "cell_type": "code",
      "source": [
        "# Example: A list\n",
        "my_list = [1,2,3,4]\n",
        "my_list"
      ],
      "metadata": {
        "colab": {
          "base_uri": "https://localhost:8080/"
        },
        "id": "LMuL7-MO1A0h",
        "outputId": "e4c5d15e-e7f4-45a8-944b-7d7af0b2b38f"
      },
      "execution_count": 35,
      "outputs": [
        {
          "output_type": "execute_result",
          "data": {
            "text/plain": [
              "[1, 2, 3, 4]"
            ]
          },
          "metadata": {},
          "execution_count": 35
        }
      ]
    },
    {
      "cell_type": "markdown",
      "source": [
        "We can access an element of a list by indexing, using index brackets e.g., `mylist[0]`.\n",
        "\n",
        "Via a positional number, we are asking Python to return the element at a certain position in the list structure.\n",
        "\n",
        "Note: Python is zero indexed, thus the first element is at position zero."
      ],
      "metadata": {
        "id": "sJC6tvboIiq1"
      }
    },
    {
      "cell_type": "code",
      "source": [
        "# Example: Getting an element from a list\n",
        "my_list = [1,2,3,4]\n",
        "print(\"The first element in my list is {}.\".format(my_list[0]))\n",
        "print(\"The second element in my list is {}.\".format(my_list[1]))\n",
        "print(\"The third element in my list is {}.\".format(my_list[2]))\n",
        "print(\"The forth element in my list is {}.\".format(my_list[3]))"
      ],
      "metadata": {
        "colab": {
          "base_uri": "https://localhost:8080/"
        },
        "id": "WZoN61x1Is9Z",
        "outputId": "d73887df-00db-4ce1-f61c-891f884abe37"
      },
      "execution_count": 43,
      "outputs": [
        {
          "output_type": "stream",
          "name": "stdout",
          "text": [
            "The first element in my list is 1.\n",
            "The second element in my list is 2.\n",
            "The third element in my list is 3.\n",
            "The forth element in my list is 4.\n"
          ]
        }
      ]
    },
    {
      "cell_type": "markdown",
      "source": [
        "We can also modify an element of our list.\n",
        "\n",
        "For example, let us suppose we want to replace a certain element. We just need to specify the list name, followed by square index brackets and the positional index number. Then we can allocate a replacement value, as demonstrated in the code below:"
      ],
      "metadata": {
        "id": "eI9WhJiX1Q4O"
      }
    },
    {
      "cell_type": "code",
      "source": [
        "# Example: Modifying an element of a list\n",
        "my_list = [1,2,3,4]\n",
        "my_list[1] = 'NA'\n",
        "my_list[3] = 4.5\n",
        "my_list"
      ],
      "metadata": {
        "colab": {
          "base_uri": "https://localhost:8080/"
        },
        "id": "NWZtMmlrJb0L",
        "outputId": "11a3ba1d-2cfb-48b2-d700-5d69dd3a8e36"
      },
      "execution_count": 45,
      "outputs": [
        {
          "output_type": "execute_result",
          "data": {
            "text/plain": [
              "[1, 'NA', 3, 4.5]"
            ]
          },
          "metadata": {},
          "execution_count": 45
        }
      ]
    },
    {
      "cell_type": "markdown",
      "source": [
        "Finally, we can easily add elements to our list.\n",
        "\n",
        "For example, by using the `append()` function, which adds any new elements to the end of the existing list."
      ],
      "metadata": {
        "id": "Ri18xWgAKH3Z"
      }
    },
    {
      "cell_type": "code",
      "source": [
        "# Example: Modifying an element of a list\n",
        "my_list = [1,2,3,4]\n",
        "my_list.append(5)\n",
        "my_list.append(6)\n",
        "my_list"
      ],
      "metadata": {
        "colab": {
          "base_uri": "https://localhost:8080/"
        },
        "id": "bkn65HE-KG86",
        "outputId": "aeaa1a67-3ed4-468f-b7f7-08380b93ba80"
      },
      "execution_count": 49,
      "outputs": [
        {
          "output_type": "execute_result",
          "data": {
            "text/plain": [
              "[1, 2, 3, 4, 5, 6]"
            ]
          },
          "metadata": {},
          "execution_count": 49
        }
      ]
    },
    {
      "cell_type": "markdown",
      "source": [
        "To remove an item from a list, we can use the in-built `.remove()` function."
      ],
      "metadata": {
        "id": "gpYDfhoIyaMm"
      }
    },
    {
      "cell_type": "code",
      "source": [
        "# Example: Remove an item from a list\n",
        "my_list = [1,2,3,4]\n",
        "my_list.remove(1)\n",
        "my_list"
      ],
      "metadata": {
        "colab": {
          "base_uri": "https://localhost:8080/"
        },
        "id": "4nb9UI5qyZMA",
        "outputId": "4d61efb2-8967-4232-85d0-686c27878ec3"
      },
      "execution_count": 84,
      "outputs": [
        {
          "output_type": "execute_result",
          "data": {
            "text/plain": [
              "[2, 3, 4]"
            ]
          },
          "metadata": {},
          "execution_count": 84
        }
      ]
    },
    {
      "cell_type": "markdown",
      "source": [
        "We are easily able to count the number of elements in our list (the length), via the built-in `len()` function.\n"
      ],
      "metadata": {
        "id": "1OXQg_tLx_Eu"
      }
    },
    {
      "cell_type": "code",
      "source": [
        "# Example: Find the length of a list\n",
        "my_list = [1,2,3,4]\n",
        "print(len(my_list))"
      ],
      "metadata": {
        "colab": {
          "base_uri": "https://localhost:8080/"
        },
        "id": "bGW7Kg6rx_p7",
        "outputId": "b555a30e-852a-4fe7-d126-a5b50063db34"
      },
      "execution_count": 78,
      "outputs": [
        {
          "output_type": "stream",
          "name": "stdout",
          "text": [
            "4\n"
          ]
        }
      ]
    },
    {
      "cell_type": "markdown",
      "source": [
        "To check if a list contains a specific element, we can use an `if` function."
      ],
      "metadata": {
        "id": "-vWW3bPdyyDA"
      }
    },
    {
      "cell_type": "code",
      "source": [
        "# Example: Find the length of a list\n",
        "my_list = [1,2,3,4]\n",
        "if 1 in my_list:\n",
        "  print('yes')"
      ],
      "metadata": {
        "colab": {
          "base_uri": "https://localhost:8080/"
        },
        "id": "Dj-05yxfyxf_",
        "outputId": "0cf30ee8-46a8-41cd-f442-a1463e26d78a"
      },
      "execution_count": 86,
      "outputs": [
        {
          "output_type": "stream",
          "name": "stdout",
          "text": [
            "yes\n"
          ]
        }
      ]
    },
    {
      "cell_type": "markdown",
      "source": [
        "**Task**\n",
        "* Create a list of your four favorite shops (for use in a spatial route optimization problem) and print the list.\n",
        "* Print the first shop name in your list.\n",
        "* You need to visit a new location. Add to the list the name of this new shop.\n",
        "* To optimize the number of stops, you decide to collect some basic items from another shop which contains both required products you need. Thus, remove one shop from the list.\n",
        "* For your list of shops, print the length.\n",
        "* What if you are not sure if you have a shop in your list? Can you write some logic to check, and print the shop name if present?"
      ],
      "metadata": {
        "id": "WJ7q4U-bw9w4"
      }
    },
    {
      "cell_type": "code",
      "source": [
        "# Enter your attempt here\n"
      ],
      "metadata": {
        "id": "Zpccq-qLw-l4"
      },
      "execution_count": null,
      "outputs": []
    },
    {
      "cell_type": "markdown",
      "source": [
        "## **Data Structures - Tuples**\n",
        "\n",
        "Like lists, tuples are also ordered (so if you call a tuple from memory, it will be presented in the order in which you specified the original data structure).\n",
        "\n",
        "We can create a tuple by using normal parentheses/brackets, e.g., `()`.\n",
        "\n",
        "However, tuples contrast with lists in that they are immutable. Thus, once you create the elements of these data structures, they cannot be further changed."
      ],
      "metadata": {
        "id": "4T0G24oALB1L"
      }
    },
    {
      "cell_type": "code",
      "source": [
        "# Example: A tuple\n",
        "my_tuple = (1,2,3,4)\n",
        "my_tuple"
      ],
      "metadata": {
        "colab": {
          "base_uri": "https://localhost:8080/"
        },
        "id": "RY5ggq2I1PUi",
        "outputId": "1f9d8112-2439-417d-9c7b-2a8202d5629e"
      },
      "execution_count": 36,
      "outputs": [
        {
          "output_type": "execute_result",
          "data": {
            "text/plain": [
              "(1, 2, 3, 4)"
            ]
          },
          "metadata": {},
          "execution_count": 36
        }
      ]
    },
    {
      "cell_type": "markdown",
      "source": [
        "We are not able to replace elements, once specified."
      ],
      "metadata": {
        "id": "wp2fgVv91x29"
      }
    },
    {
      "cell_type": "code",
      "source": [
        "# Example: Tuples are immutable\n",
        "my_tuple = (1,2,3,4)\n",
        "my_tuple[2] = 'replacement_element'\n",
        "my_tuple    #   Will thrown an error"
      ],
      "metadata": {
        "colab": {
          "base_uri": "https://localhost:8080/",
          "height": 234
        },
        "outputId": "1dfad150-c83e-4743-8f77-1600f85b4597",
        "id": "3GmwIVFhLKIc"
      },
      "execution_count": 52,
      "outputs": [
        {
          "output_type": "error",
          "ename": "TypeError",
          "evalue": "'tuple' object does not support item assignment",
          "traceback": [
            "\u001b[0;31m---------------------------------------------------------------------------\u001b[0m",
            "\u001b[0;31mTypeError\u001b[0m                                 Traceback (most recent call last)",
            "\u001b[0;32m<ipython-input-52-8c773b6245fc>\u001b[0m in \u001b[0;36m<cell line: 3>\u001b[0;34m()\u001b[0m\n\u001b[1;32m      1\u001b[0m \u001b[0;31m# Example: A tuple\u001b[0m\u001b[0;34m\u001b[0m\u001b[0;34m\u001b[0m\u001b[0m\n\u001b[1;32m      2\u001b[0m \u001b[0mmy_tuple\u001b[0m \u001b[0;34m=\u001b[0m \u001b[0;34m(\u001b[0m\u001b[0;36m1\u001b[0m\u001b[0;34m,\u001b[0m\u001b[0;36m2\u001b[0m\u001b[0;34m,\u001b[0m\u001b[0;36m3\u001b[0m\u001b[0;34m,\u001b[0m\u001b[0;36m4\u001b[0m\u001b[0;34m)\u001b[0m\u001b[0;34m\u001b[0m\u001b[0;34m\u001b[0m\u001b[0m\n\u001b[0;32m----> 3\u001b[0;31m \u001b[0mmy_tuple\u001b[0m\u001b[0;34m[\u001b[0m\u001b[0;36m2\u001b[0m\u001b[0;34m]\u001b[0m \u001b[0;34m=\u001b[0m \u001b[0;34m'replacement_itm'\u001b[0m\u001b[0;34m\u001b[0m\u001b[0;34m\u001b[0m\u001b[0m\n\u001b[0m\u001b[1;32m      4\u001b[0m \u001b[0mmy_tuple\u001b[0m    \u001b[0;31m#   Will thrown an error\u001b[0m\u001b[0;34m\u001b[0m\u001b[0;34m\u001b[0m\u001b[0m\n",
            "\u001b[0;31mTypeError\u001b[0m: 'tuple' object does not support item assignment"
          ]
        }
      ]
    },
    {
      "cell_type": "markdown",
      "source": [
        "Therefore, if you need to replace a tuple element, you have to respecify the whole data structure."
      ],
      "metadata": {
        "id": "fsSy5Uj3LKIe"
      }
    },
    {
      "cell_type": "code",
      "source": [
        "# Example: Respecifying a tuple to replace an element\n",
        "my_tuple = (1,2,3,4)\n",
        "print(my_tuple)\n",
        "my_tuple2 = (my_tuple[0], my_tuple[1], 'replacement_element', my_tuple[3])\n",
        "print(my_tuple2)"
      ],
      "metadata": {
        "colab": {
          "base_uri": "https://localhost:8080/"
        },
        "outputId": "dcd233d9-f104-4c59-f069-06018f190cc4",
        "id": "d_jj9rmcLKvH"
      },
      "execution_count": 55,
      "outputs": [
        {
          "output_type": "stream",
          "name": "stdout",
          "text": [
            "(1, 2, 3, 4)\n",
            "(1, 2, 'replacement_element', 4)\n"
          ]
        }
      ]
    },
    {
      "cell_type": "markdown",
      "source": [
        "We are able to print a particular element of a tuple, using square bracket indexing."
      ],
      "metadata": {
        "id": "1NbP3F5N_YCk"
      }
    },
    {
      "cell_type": "code",
      "source": [
        "# Example: Accessing a tuple element\n",
        "my_tuple = (1,2,3,4)\n",
        "print(my_tuple[0])"
      ],
      "metadata": {
        "colab": {
          "base_uri": "https://localhost:8080/"
        },
        "id": "TK8x94FS_Xfg",
        "outputId": "c76eed2c-01c2-4f9b-f21b-d51f41b03a07"
      },
      "execution_count": 88,
      "outputs": [
        {
          "output_type": "stream",
          "name": "stdout",
          "text": [
            "1\n"
          ]
        }
      ]
    },
    {
      "cell_type": "markdown",
      "source": [
        "Within spatial computing, it is common for us to store our coordinates in tuples, like so"
      ],
      "metadata": {
        "id": "3xwAygnJNkZk"
      }
    },
    {
      "cell_type": "code",
      "source": [
        "# Example: Storing coordinates within a tuple\n",
        "coordinates = (1.234, 2.765)\n",
        "print(coordinates)\n",
        "\n",
        "x, y = coordinates\n",
        "print(\"x: {}, y: {}\".format(x, y))  # Output: x: 3, y: 4"
      ],
      "metadata": {
        "colab": {
          "base_uri": "https://localhost:8080/"
        },
        "id": "tfx9GEPdNlWX",
        "outputId": "b200d013-f517-47aa-b66e-0ddc04a8eae0"
      },
      "execution_count": 58,
      "outputs": [
        {
          "output_type": "stream",
          "name": "stdout",
          "text": [
            "(1.234, 2.765)\n",
            "x: 1.234, y: 2.765\n"
          ]
        }
      ]
    },
    {
      "cell_type": "markdown",
      "source": [
        "**Task**\n",
        "* Create a tuple containing your four favorite shops (for use in a spatial route optimization problem) and print the tuple.\n",
        "* Print the first and last elements in your tuple.\n",
        "* Attempt to replace the second element of your tuple with another shop name. Reflect on why you received the error.\n",
        "* Convert your first tuple, into a second tuple, but replace one of the shop names."
      ],
      "metadata": {
        "id": "Dl_jgea8_Miq"
      }
    },
    {
      "cell_type": "code",
      "source": [
        "# Enter your attempt here\n"
      ],
      "metadata": {
        "id": "XwXfVnA-_NOp"
      },
      "execution_count": null,
      "outputs": []
    },
    {
      "cell_type": "markdown",
      "source": [
        "## **Data Structures - Dictionaries**\n",
        "\n",
        "One of the most powerful and flexible data structures in computing programming is the dictionary, denoted via curly parentheses, e.g., `{}`.\n",
        "\n",
        "The structure of a dictionary focuses on key-value pairs, which allows you to later obtain information values by passing an explicit key.\n",
        "\n",
        "Unlike lists and tuples, dictionaries are unordered (as their purpose is to allow key-value operations).\n",
        "\n",
        "Keys can be strings, ints or floats.  "
      ],
      "metadata": {
        "id": "fH9qyhNLLKvI"
      }
    },
    {
      "cell_type": "code",
      "source": [
        "# Example: Specifying a dictionary\n",
        "my_dict = {\n",
        "  \"var1\": 1,\n",
        "  \"var2\": 2,\n",
        "  3: 3,\n",
        "  4.5: 4\n",
        "}\n",
        "my_dict"
      ],
      "metadata": {
        "colab": {
          "base_uri": "https://localhost:8080/"
        },
        "id": "-1WICDaB2AD_",
        "outputId": "4f0a4c75-6eac-468f-dc14-eb29c967a715"
      },
      "execution_count": 60,
      "outputs": [
        {
          "output_type": "execute_result",
          "data": {
            "text/plain": [
              "{'var1': 1, 'var2': 2, 3: 3, 4.5: 4}"
            ]
          },
          "metadata": {},
          "execution_count": 60
        }
      ]
    },
    {
      "cell_type": "markdown",
      "source": [
        "And values can also be pretty much anything you desired, from strings, ints or floats, to lists, tuples, dicts or another multi-dimensional structure (e.g., a list of dicts)."
      ],
      "metadata": {
        "id": "kHVteVBPph9O"
      }
    },
    {
      "cell_type": "code",
      "source": [
        "# Example: Specifying a dictionary\n",
        "my_dict = {\n",
        "  \"var1\": [1,2,3],\n",
        "  \"var2\": (1,2,3),\n",
        "  3: {\n",
        "      'var1': 1,\n",
        "      'var2': 2\n",
        "  }\n",
        "}\n",
        "my_dict"
      ],
      "metadata": {
        "id": "cb6AMOUC2HcB"
      },
      "execution_count": null,
      "outputs": []
    },
    {
      "cell_type": "markdown",
      "source": [
        "To access a value in a dict, we can use square index brackets.\n",
        "\n"
      ],
      "metadata": {
        "id": "2Q9qW3dLp1hg"
      }
    },
    {
      "cell_type": "code",
      "source": [
        "# Example: Accessing dictionary values\n",
        "my_dict = {\n",
        "  \"var1\": 1,\n",
        "  \"var2\": 2,\n",
        "}\n",
        "my_dict['var2']"
      ],
      "metadata": {
        "colab": {
          "base_uri": "https://localhost:8080/"
        },
        "id": "CJrSRjOap67X",
        "outputId": "2d31c6dd-6dcf-4c88-d23a-1673320b88e2"
      },
      "execution_count": 61,
      "outputs": [
        {
          "output_type": "execute_result",
          "data": {
            "text/plain": [
              "2"
            ]
          },
          "metadata": {},
          "execution_count": 61
        }
      ]
    },
    {
      "cell_type": "markdown",
      "source": [
        "Dictionaries are mutable, and therefore we can easily add new key-value pairs."
      ],
      "metadata": {
        "id": "b1AeyTzAqJAx"
      }
    },
    {
      "cell_type": "code",
      "source": [
        "# Example: Adding dictionary values\n",
        "my_dict = {\n",
        "  \"var1\": 1,\n",
        "  \"var2\": 2,\n",
        "}\n",
        "my_dict['var3'] = 3\n",
        "print(my_dict)"
      ],
      "metadata": {
        "colab": {
          "base_uri": "https://localhost:8080/"
        },
        "id": "KTYAnRYiqL7A",
        "outputId": "a323b307-1a88-4916-964e-0369a70273a9"
      },
      "execution_count": 62,
      "outputs": [
        {
          "output_type": "stream",
          "name": "stdout",
          "text": [
            "{'var1': 1, 'var2': 2, 'var3': 3}\n"
          ]
        }
      ]
    },
    {
      "cell_type": "markdown",
      "source": [
        "We can also modify a key's value."
      ],
      "metadata": {
        "id": "-XZhAhNiqSOw"
      }
    },
    {
      "cell_type": "code",
      "source": [
        "# Example: Modifying dictionary values\n",
        "my_dict = {\n",
        "  \"var1\": 1,\n",
        "  \"var2\": 2,\n",
        "}\n",
        "my_dict['var2'] = 'replacement_element'\n",
        "print(my_dict)"
      ],
      "metadata": {
        "colab": {
          "base_uri": "https://localhost:8080/"
        },
        "id": "aW83X3z_qnOv",
        "outputId": "f913248b-412f-4b8d-ac04-595a054a3d36"
      },
      "execution_count": 63,
      "outputs": [
        {
          "output_type": "stream",
          "name": "stdout",
          "text": [
            "{'var1': 1, 'var2': 'replacement_element'}\n"
          ]
        }
      ]
    },
    {
      "cell_type": "markdown",
      "source": [
        "**Task**\n",
        "* Create a dictionary for your favorite Point of Interest (PoI) (for use in a spatial route optimization problem) and print the dictionary. Include a key for the name, city/county, and a tuple of coordinates.\n",
        "* Print the name and coordinates from your PoI dictionary.\n",
        "* Add a new key-value pair to your dictionary for your time spent their (e.g., \"time_spent\").\n",
        "* Remove the tuple of coordinates from your dictionary."
      ],
      "metadata": {
        "id": "QvEaru3-COYz"
      }
    },
    {
      "cell_type": "code",
      "source": [
        "# Enter your attempt here\n"
      ],
      "metadata": {
        "id": "d8TCQP4cCOZJ"
      },
      "execution_count": null,
      "outputs": []
    },
    {
      "cell_type": "markdown",
      "source": [
        "## **Data Structures - Sets**\n",
        "\n",
        "A set provides you with the number of unique elements. A set has no inherent order.\n",
        "\n",
        "We denote a set using the curly brackets/parentheses (but they differ from dictionaries because they are not based on key-value pairs).\n",
        "\n",
        "\n",
        "\n"
      ],
      "metadata": {
        "id": "h1KJTpltrdr7"
      }
    },
    {
      "cell_type": "code",
      "source": [
        "# Example: Creating a set\n",
        "my_set = {1,2,3,4}\n",
        "print(my_set)"
      ],
      "metadata": {
        "colab": {
          "base_uri": "https://localhost:8080/"
        },
        "id": "5uvwAcrArcj6",
        "outputId": "5973ffe5-269e-40b1-ed07-294fe22f7a29"
      },
      "execution_count": 64,
      "outputs": [
        {
          "output_type": "stream",
          "name": "stdout",
          "text": [
            "{1, 2, 3, 4}\n"
          ]
        }
      ]
    },
    {
      "cell_type": "markdown",
      "source": [
        "You can also convert an existing list into a set."
      ],
      "metadata": {
        "id": "oQuLG-NzD6t4"
      }
    },
    {
      "cell_type": "code",
      "source": [
        "# Example: Converting a list into a set\n",
        "my_list = [1,1,2,2,3,3,4,4,5,5]\n",
        "print(set(my_list))"
      ],
      "metadata": {
        "colab": {
          "base_uri": "https://localhost:8080/"
        },
        "id": "0gMCrtZsD8PX",
        "outputId": "7ab6bf66-aea5-4fed-d394-ba625fe18bc9"
      },
      "execution_count": 89,
      "outputs": [
        {
          "output_type": "stream",
          "name": "stdout",
          "text": [
            "{1, 2, 3, 4, 5}\n"
          ]
        }
      ]
    },
    {
      "cell_type": "markdown",
      "source": [
        "We can add to a set using the `add()` function."
      ],
      "metadata": {
        "id": "dii862imutZv"
      }
    },
    {
      "cell_type": "code",
      "source": [
        "# Example: Creating a set\n",
        "my_set = {1,2,3,4}\n",
        "print(\"The length of my set is: {}\".format(len(my_set)))\n",
        "my_set.add(5)\n",
        "print(\"The length of my set is: {}\".format(len(my_set)))"
      ],
      "metadata": {
        "colab": {
          "base_uri": "https://localhost:8080/"
        },
        "id": "qwQoKBY_ur9a",
        "outputId": "05e7fe8f-783e-4d65-b81a-87c0f06a7799"
      },
      "execution_count": 68,
      "outputs": [
        {
          "output_type": "stream",
          "name": "stdout",
          "text": [
            "The length of my set is: 4\n",
            "The length of my set is: 5\n"
          ]
        }
      ]
    },
    {
      "cell_type": "markdown",
      "source": [
        "Remember, as a set contains unique elements, if you add a new element which already matches an existing, the length of the set will stay the same.  "
      ],
      "metadata": {
        "id": "yjOhkCpVu0Ce"
      }
    },
    {
      "cell_type": "code",
      "source": [
        "#Example: Sets are unique collections of elements\n",
        "my_set = {1,2,3,4}\n",
        "print(\"The length of my set is: {}\".format(len(my_set)))\n",
        "my_set.add(5)\n",
        "print(\"The length of my set is: {}\".format(len(my_set)))\n",
        "my_set.add(1)\n",
        "print(\"The length of my set is: {}\".format(len(my_set)))"
      ],
      "metadata": {
        "colab": {
          "base_uri": "https://localhost:8080/"
        },
        "id": "ME0oVOJbu0os",
        "outputId": "3672fdee-a535-4f76-b00e-93698b4b9201"
      },
      "execution_count": 69,
      "outputs": [
        {
          "output_type": "stream",
          "name": "stdout",
          "text": [
            "The length of my set is: 4\n",
            "The length of my set is: 5\n",
            "The length of my set is: 5\n"
          ]
        }
      ]
    },
    {
      "cell_type": "markdown",
      "source": [
        "Sometimes, we may need to remove elements from a set, via the `.remove()` function."
      ],
      "metadata": {
        "id": "aW8a-DmwvXp2"
      }
    },
    {
      "cell_type": "code",
      "source": [
        "#Example: Removing elements from a sets\n",
        "my_set = {1,2,3,4}\n",
        "print(\"The length of my set is: {}\".format(len(my_set)))\n",
        "my_set.remove(4)\n",
        "print(\"The length of my set is: {}\".format(len(my_set)))\n",
        "print(my_set)"
      ],
      "metadata": {
        "colab": {
          "base_uri": "https://localhost:8080/"
        },
        "id": "yUq9t6RfvYYZ",
        "outputId": "3b04077b-303e-45e7-e5c1-bc8bc65ab2c6"
      },
      "execution_count": 72,
      "outputs": [
        {
          "output_type": "stream",
          "name": "stdout",
          "text": [
            "The length of my set is: 4\n",
            "The length of my set is: 3\n",
            "{1, 2, 3}\n"
          ]
        }
      ]
    },
    {
      "cell_type": "markdown",
      "source": [
        "**Task**\n",
        "* Create a list containing the days of the week, for the January 1st to January 14th period. Now convert this list to a set.\n",
        "* Remove from your set any weekend days.\n",
        "* Now add back to your set the day of Saturday.\n",
        "* Find the length of your set.  \n"
      ],
      "metadata": {
        "id": "9MdB27ioDUao"
      }
    },
    {
      "cell_type": "code",
      "source": [
        "# Enter your attempt here\n"
      ],
      "metadata": {
        "id": "EM-jgIdWDUay"
      },
      "execution_count": null,
      "outputs": []
    },
    {
      "cell_type": "markdown",
      "source": [
        "## **Data Structures - Strings**\n",
        "\n",
        "While we have already covered strings when exploring data types, they are also a data structure (e.g., character sequences).\n",
        ""
      ],
      "metadata": {
        "id": "O7kP4PMbrX2b"
      }
    },
    {
      "cell_type": "code",
      "source": [
        "#Example: We can swap the case of a string\n",
        "my_string = \"I am a string.\"\n",
        "print(my_string.lower())\n",
        "print(my_string.upper())"
      ],
      "metadata": {
        "colab": {
          "base_uri": "https://localhost:8080/"
        },
        "id": "gDQRv85Qv_Yd",
        "outputId": "0bb4445f-f14a-4442-be4a-2ceb960f5bad"
      },
      "execution_count": 73,
      "outputs": [
        {
          "output_type": "stream",
          "name": "stdout",
          "text": [
            "i am a string.\n",
            "I AM A STRING.\n"
          ]
        }
      ]
    },
    {
      "cell_type": "markdown",
      "source": [
        "We can also replace parts of a string, which is very useful, via the `.replace()` function."
      ],
      "metadata": {
        "id": "tttUzwBGwMes"
      }
    },
    {
      "cell_type": "code",
      "source": [
        "#Example: We can swap the case of a string\n",
        "my_string = \"I am a string.\"\n",
        "print(my_string.replace(\"string\", \"machine\")) # Swapping \"string\" for \"machine\"\n",
        "print(my_string.replace(\" \", \"\")) # Stripping all whitespace\n",
        "print(my_string.replace(\" \", \"_\")) # Swapping whitespace for underscores"
      ],
      "metadata": {
        "colab": {
          "base_uri": "https://localhost:8080/"
        },
        "id": "fLE92LPpwNgz",
        "outputId": "70936363-6ab6-4f06-c5bc-84f21a5c9214"
      },
      "execution_count": 77,
      "outputs": [
        {
          "output_type": "stream",
          "name": "stdout",
          "text": [
            "I am a machine.\n",
            "Iamastring.\n",
            "I_am_a_string.\n"
          ]
        }
      ]
    },
    {
      "cell_type": "markdown",
      "source": [
        "**Task**\n",
        "* Create a string for the name of your favorite shop in sentence case.\n",
        "* Convert your string to all lower case.\n",
        "* Convert your string to all upper case.\n",
        "* Replace all of the vowels in your favorite shop name with hyphens.\n"
      ],
      "metadata": {
        "id": "OviBUowzDyNr"
      }
    },
    {
      "cell_type": "code",
      "source": [
        "# Enter your attempt here\n"
      ],
      "metadata": {
        "id": "RWkMxVF2DyN1"
      },
      "execution_count": null,
      "outputs": []
    },
    {
      "cell_type": "markdown",
      "source": [
        "## **Multi-dimensional data structures**\n",
        "\n",
        "An important concept to understand is that we are able to nest our data structures within each other.\n",
        "\n",
        "The most important data structures for you to understand will be the use of lists of lists, lists of tuples and lists of dictionaries, as we will explore here."
      ],
      "metadata": {
        "id": "tfhqeO-_2K3X"
      }
    },
    {
      "cell_type": "markdown",
      "source": [
        "## **Multi-dimensional data structures - Lists of lists**\n",
        "\n",
        "We can create complex data structures by nesting one structure (e.g., a list), within another list.\n",
        "\n",
        "To do this, we just have to follow the same rules in the meta-list, as we would when entering elements into a normal list.\n",
        "\n",
        "For example, each list element needs to be separated by a comma."
      ],
      "metadata": {
        "id": "ev49fhKIFFkH"
      }
    },
    {
      "cell_type": "code",
      "source": [
        "# Example: A list of lists\n",
        "my_list_of_lists = [\n",
        "    [1,2,3,4],\n",
        "    [1,2,3,4],\n",
        "    [1,2,3,4]\n",
        "]\n",
        "my_list_of_lists"
      ],
      "metadata": {
        "id": "viXC6Hai2R-x"
      },
      "execution_count": null,
      "outputs": []
    },
    {
      "cell_type": "markdown",
      "source": [
        "## **Multi-dimensional data structures - Lists of tuples**\n",
        "\n",
        "We can also do the same for lists of tuples, we just have to separate each tuple by a comma."
      ],
      "metadata": {
        "id": "p3CsziwnFkCD"
      }
    },
    {
      "cell_type": "code",
      "source": [
        "# Example: A list of tuples\n",
        "my_list_of_tuples = [\n",
        "    (1,2,3,4),\n",
        "    (1,2,3,4),\n",
        "    (1,2,3,4)\n",
        "]\n",
        "my_list_of_tuples"
      ],
      "metadata": {
        "colab": {
          "base_uri": "https://localhost:8080/"
        },
        "id": "3fO9spq-2YdW",
        "outputId": "170b9a98-5ad5-4bfd-81a8-7c36b54d76a6"
      },
      "execution_count": 38,
      "outputs": [
        {
          "output_type": "execute_result",
          "data": {
            "text/plain": [
              "[(1, 2, 3, 4), (1, 2, 3, 4), (1, 2, 3, 4)]"
            ]
          },
          "metadata": {},
          "execution_count": 38
        }
      ]
    },
    {
      "cell_type": "markdown",
      "source": [
        "## **Multi-dimensional data structures - Lists of dictionaries**\n",
        "\n",
        "Finally, we can next dictionaries within lists to form a list of dictionaries, we again just have to separate each dict by a comma."
      ],
      "metadata": {
        "id": "OD-Hkcf9FwiX"
      }
    },
    {
      "cell_type": "code",
      "source": [
        "# Example: A list of dictionaries\n",
        "my_list_of_dicts = [\n",
        "  {\"var1\": 1, \"var2\": 2, \"var3\": 3, \"var4\": 4},\n",
        "  {\"var1\": 1, \"var2\": 2, \"var3\": 3, \"var4\": 4},\n",
        "  {\"var1\": 1, \"var2\": 2, \"var3\": 3, \"var4\": 4},\n",
        "]\n",
        "my_list_of_dicts"
      ],
      "metadata": {
        "colab": {
          "base_uri": "https://localhost:8080/"
        },
        "id": "oGJECx_w2kNQ",
        "outputId": "917f1ede-7676-4a2c-cea5-f6023ce172fa"
      },
      "execution_count": 39,
      "outputs": [
        {
          "output_type": "execute_result",
          "data": {
            "text/plain": [
              "[{'var1': 1, 'var2': 2, 'var3': 3, 'var4': 4},\n",
              " {'var1': 1, 'var2': 2, 'var3': 3, 'var4': 4},\n",
              " {'var1': 1, 'var2': 2, 'var3': 3, 'var4': 4}]"
            ]
          },
          "metadata": {},
          "execution_count": 39
        }
      ]
    },
    {
      "cell_type": "markdown",
      "source": [
        "**Task**\n",
        "\n",
        "Each of these multi-dimensional data structures behaves and follows the same rules as the meta-structure.\n",
        "\n",
        "For example, lists are ordered and mutable, meaning if we want to access the first list in a list of dicts, we can index using the method covered earlier in the first exercise.\n",
        "\n",
        "* Create a list of list. You can reuse the list you created earlier with your preferred shop names. Print the first list in the list of lists.\n",
        "* Create a list of tuples. Make each tuple a set of coordinates. Extract the second tuple in the list of tuples. Then print both the x and y coordinates from the extracted.\n",
        "* Create a list of dicts. Reuse the dictionary you created earlier. Access the last dict in your list, and then print each one of the values in the dict.    \n"
      ],
      "metadata": {
        "id": "V8j5r67FFCPZ"
      }
    },
    {
      "cell_type": "markdown",
      "source": [
        "# Iteration\n",
        "\n",
        "Iteration refers to the use of loops in computer programming.\n",
        "\n",
        "There are multiple different types of loops, as we will cover here."
      ],
      "metadata": {
        "id": "hVVDgL7Ns1AQ"
      }
    },
    {
      "cell_type": "markdown",
      "source": [
        "## **Iteration - For Loop**\n",
        "\n",
        "When we want to iterate over some form of data structure in Python, we call this a `for` loop. This data structure could be a range, string, list, tuple, dictionary etc.\n",
        "\n",
        "\n"
      ],
      "metadata": {
        "id": "eePPHumwtyEC"
      }
    },
    {
      "cell_type": "code",
      "source": [
        "# Example: Iterating over a range\n",
        "for i in range(1,5):\n",
        "  print(i)"
      ],
      "metadata": {
        "colab": {
          "base_uri": "https://localhost:8080/"
        },
        "id": "WXIUro5EuUC1",
        "outputId": "217c137c-3e42-4c4c-ee80-dbb4bc836597"
      },
      "execution_count": 3,
      "outputs": [
        {
          "output_type": "stream",
          "name": "stdout",
          "text": [
            "1\n",
            "2\n",
            "3\n",
            "4\n",
            "5\n"
          ]
        }
      ]
    },
    {
      "cell_type": "code",
      "source": [
        "# Example: Iterating over a list\n",
        "my_list = [1,2,3,4]\n",
        "for i in my_list:\n",
        "  print(i)"
      ],
      "metadata": {
        "colab": {
          "base_uri": "https://localhost:8080/"
        },
        "id": "UCNkWfk1ukQh",
        "outputId": "fdf6816f-334d-42eb-c909-d833233c4172"
      },
      "execution_count": 4,
      "outputs": [
        {
          "output_type": "stream",
          "name": "stdout",
          "text": [
            "a\n",
            "b\n",
            "c\n",
            "d\n"
          ]
        }
      ]
    },
    {
      "cell_type": "code",
      "execution_count": 6,
      "metadata": {
        "colab": {
          "base_uri": "https://localhost:8080/"
        },
        "id": "qumB7rmgnILa",
        "outputId": "f5af2f27-34d4-4c1c-8fdd-e24d3aebd935"
      },
      "outputs": [
        {
          "output_type": "stream",
          "name": "stdout",
          "text": [
            "1\n",
            "2\n",
            "3\n",
            "4\n",
            "5\n"
          ]
        }
      ],
      "source": [
        "# Example: Iterating over a tuple\n",
        "my_tuple = (1,2,3,4)\n",
        "for i in my_tuple:\n",
        "  print(i)"
      ]
    },
    {
      "cell_type": "code",
      "source": [
        "# Example: Iterating over a dict\n",
        "my_dict = {\n",
        "    'a': 1,\n",
        "    'b': 2,\n",
        "    'c': 3,\n",
        "    'd': 4\n",
        "}\n",
        "for key, value in my_dict.items():\n",
        "  print(key, value)"
      ],
      "metadata": {
        "colab": {
          "base_uri": "https://localhost:8080/"
        },
        "id": "dPzWSIcAu5d0",
        "outputId": "8f7653d8-ff8d-4758-e52c-d14c7fd1f9df"
      },
      "execution_count": 8,
      "outputs": [
        {
          "output_type": "stream",
          "name": "stdout",
          "text": [
            "a 1\n",
            "b 2\n",
            "c 3\n",
            "d 4\n"
          ]
        }
      ]
    },
    {
      "cell_type": "code",
      "source": [
        "# Example: Iterating over a string\n",
        "my_string ='abcde'\n",
        "for i in my_string:\n",
        "  print(i)"
      ],
      "metadata": {
        "colab": {
          "base_uri": "https://localhost:8080/"
        },
        "id": "usNiJrwxxDpR",
        "outputId": "4ddc3564-f193-4ca8-d0b2-047b20972e4c"
      },
      "execution_count": 17,
      "outputs": [
        {
          "output_type": "stream",
          "name": "stdout",
          "text": [
            "a\n",
            "b\n",
            "c\n",
            "d\n",
            "e\n"
          ]
        }
      ]
    },
    {
      "cell_type": "code",
      "source": [
        "# Example: Iterating over a list with an index\n",
        "my_list = [1,2,3,4]\n",
        "for index, i in enumerate(my_list):\n",
        "  print(\"My index value is : {}\".format(index))\n",
        "  print(\"My iterator value is : {}\".format(i))\n",
        "  print('')"
      ],
      "metadata": {
        "colab": {
          "base_uri": "https://localhost:8080/"
        },
        "id": "gWmadOPQxUys",
        "outputId": "24f87d36-c8a4-462b-f720-a93d310e3689"
      },
      "execution_count": 20,
      "outputs": [
        {
          "output_type": "stream",
          "name": "stdout",
          "text": [
            "My index value is : 0\n",
            "My iterator value is : 1\n",
            "\n",
            "My index value is : 1\n",
            "My iterator value is : 2\n",
            "\n",
            "My index value is : 2\n",
            "My iterator value is : 3\n",
            "\n",
            "My index value is : 3\n",
            "My iterator value is : 4\n",
            "\n"
          ]
        }
      ]
    },
    {
      "cell_type": "markdown",
      "source": [
        "Task\n",
        "\n",
        "* Print all numbers from 5 to 12 via a `for` loop.\n",
        "* Create a list of the days of the week and print via a `for` loop.\n",
        "* Create a tuple containing your name, age and birth month. Print via a `for` loop.\n",
        "* Create a dictionary with your PoI information from the previous exercise. Iterate over all key, value pairs.\n",
        "* First, make a list of the values under 5. Via a `for` loop, sum all the numbers and print a running total to the console.\n"
      ],
      "metadata": {
        "id": "-TUe5uZaK1di"
      }
    },
    {
      "cell_type": "code",
      "source": [
        "# Enter your attempt here\n"
      ],
      "metadata": {
        "id": "D58j1kqFL7o0"
      },
      "execution_count": null,
      "outputs": []
    },
    {
      "cell_type": "markdown",
      "source": [
        "## **Iteration - While loop**\n",
        "\n",
        "A useful capability is iterating over a data structure until some user-defined condition is true, by using a `while` loop.\n",
        "\n"
      ],
      "metadata": {
        "id": "u4M2lsiWvVgS"
      }
    },
    {
      "cell_type": "code",
      "source": [
        "# Example: Iterating via a while loop\n",
        "quantity = 0\n",
        "while quantity < 3:\n",
        "    print(\"Quantity is currently {}\".format(quantity))\n",
        "    quantity += 1"
      ],
      "metadata": {
        "colab": {
          "base_uri": "https://localhost:8080/"
        },
        "id": "KK_i31H6vnbR",
        "outputId": "e19fa3e3-9f2f-4408-a78e-7a26139e956b"
      },
      "execution_count": 9,
      "outputs": [
        {
          "output_type": "stream",
          "name": "stdout",
          "text": [
            "Quantity is currently 0\n",
            "Quantity is currently 1\n",
            "Quantity is currently 2\n"
          ]
        }
      ]
    },
    {
      "cell_type": "markdown",
      "source": [
        "..."
      ],
      "metadata": {
        "id": "-Z9cnMliv69i"
      }
    },
    {
      "cell_type": "code",
      "source": [
        "# Example: Using while to generate a list of random numbers within a range\n",
        "import random\n",
        "\n",
        "my_list = []\n",
        "\n",
        "while len(my_list) < 3:\n",
        "    print(\"Length of my_list is currently: {}\".format(len(my_list)))\n",
        "    random_number = random.random()\n",
        "    print(\"Random number is: {}\".format(random_number))\n",
        "    if random_number < 0.3:\n",
        "      my_list.append(random_number)"
      ],
      "metadata": {
        "colab": {
          "base_uri": "https://localhost:8080/"
        },
        "id": "YbheHUmyv6IS",
        "outputId": "7001daca-ba67-449e-c749-9bb68e350bb0"
      },
      "execution_count": 16,
      "outputs": [
        {
          "output_type": "stream",
          "name": "stdout",
          "text": [
            "Length of my_list is currently: 0\n",
            "Random number is: 0.1367613531587646\n",
            "Length of my_list is currently: 1\n",
            "Random number is: 0.5845814611536633\n",
            "Length of my_list is currently: 1\n",
            "Random number is: 0.6478043422996416\n",
            "Length of my_list is currently: 1\n",
            "Random number is: 0.5433141328803106\n",
            "Length of my_list is currently: 1\n",
            "Random number is: 0.16817388552111467\n",
            "Length of my_list is currently: 2\n",
            "Random number is: 0.44160483796672334\n",
            "Length of my_list is currently: 2\n",
            "Random number is: 0.09970478354867873\n"
          ]
        }
      ]
    },
    {
      "cell_type": "markdown",
      "source": [
        "Task\n",
        "\n",
        "* Create a while loop that prints all numbers from 0 to 4.\n",
        "* Create a while loop that cubes all numbers from 0 to 4."
      ],
      "metadata": {
        "id": "CXBPEIc5MBXH"
      }
    },
    {
      "cell_type": "code",
      "source": [
        "# Enter your attempt here\n"
      ],
      "metadata": {
        "id": "rQj3jMpmMBXI"
      },
      "execution_count": null,
      "outputs": []
    },
    {
      "cell_type": "markdown",
      "source": [
        "## **Iteration - Loop control**\n",
        "\n",
        "We have a few options to help us control a loop, including using `continue`, `break`, etc.\n",
        "\n",
        "*   `continue` indicates that if some condition is met, the loop should skip to the next iteration.\n",
        "*   `break` indicates that if some condition is met, we want to stop iterating.\n",
        "\n",
        "In the example below, we can see that when our iterator `i` matches either 1 or 3 (thus, matches our condition `if i == 1` or `if i == 3`), the loop continues to the next number without printing."
      ],
      "metadata": {
        "id": "AoBaKMVmyC-9"
      }
    },
    {
      "cell_type": "code",
      "source": [
        "# Example: Loop control via continue\n",
        "my_list = [1,2,3,4]\n",
        "for i in my_list:\n",
        "  if i == 1:\n",
        "    continue\n",
        "  if i == 3:\n",
        "    continue\n",
        "  print(i)"
      ],
      "metadata": {
        "colab": {
          "base_uri": "https://localhost:8080/"
        },
        "id": "80onAyR6yfx2",
        "outputId": "f7c12bf7-c46f-4323-d32d-b060258bfc03"
      },
      "execution_count": 22,
      "outputs": [
        {
          "output_type": "stream",
          "name": "stdout",
          "text": [
            "2\n",
            "4\n"
          ]
        }
      ]
    },
    {
      "cell_type": "markdown",
      "source": [
        "Whereas, in the example below the loop breaks once the condition is met (e.g., the condition being `i == 3`), and thus does not continue looping to print beyond 3."
      ],
      "metadata": {
        "id": "7HA7vYXy0HEC"
      }
    },
    {
      "cell_type": "code",
      "source": [
        "# Example: Loop control via break\n",
        "my_list = [1,2,3,4]\n",
        "for i in my_list:\n",
        "  print(i)\n",
        "  if i == 3:\n",
        "    break"
      ],
      "metadata": {
        "colab": {
          "base_uri": "https://localhost:8080/"
        },
        "id": "PA-pKJQDy2dj",
        "outputId": "63012990-b594-45ec-cf31-58c52c25d5ad"
      },
      "execution_count": 32,
      "outputs": [
        {
          "output_type": "stream",
          "name": "stdout",
          "text": [
            "1\n",
            "2\n",
            "3\n"
          ]
        }
      ]
    },
    {
      "cell_type": "markdown",
      "source": [
        "Task\n",
        "\n",
        "* Create a `for` loop that prints each number between 1 to 5. Do not print even numbers.\n",
        "* Create a `for` loop that prints each number between 1 to 10. Exit the `for` loop if the iterator equals 4.\n",
        "* Create a list of numbers between 1 and 6. Now use a `for` loop to iterate over each element. Print only even numbers.\n"
      ],
      "metadata": {
        "id": "ja2kPgBHM5Iz"
      }
    },
    {
      "cell_type": "code",
      "source": [
        "# Enter your attempt here\n"
      ],
      "metadata": {
        "id": "mruSbs6GM5I7"
      },
      "execution_count": null,
      "outputs": []
    }
  ]
}