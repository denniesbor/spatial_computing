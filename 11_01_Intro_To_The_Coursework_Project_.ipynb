{
  "nbformat": 4,
  "nbformat_minor": 0,
  "metadata": {
    "colab": {
      "provenance": [],
      "authorship_tag": "ABX9TyOXPfqXdfGZY39vktjxfFez",
      "include_colab_link": true
    },
    "kernelspec": {
      "name": "python3",
      "display_name": "Python 3"
    },
    "language_info": {
      "name": "python"
    }
  },
  "cells": [
    {
      "cell_type": "markdown",
      "metadata": {
        "id": "view-in-github",
        "colab_type": "text"
      },
      "source": [
        "<a href=\"https://colab.research.google.com/github/edwardoughton/spatial_computing/blob/main/11_01_Intro_To_The_Coursework_Project_.ipynb\" target=\"_parent\"><img src=\"https://colab.research.google.com/assets/colab-badge.svg\" alt=\"Open In Colab\"/></a>"
      ]
    },
    {
      "cell_type": "markdown",
      "source": [
        "# Introduction to the coursework project\n",
        "\n",
        "This week we will cover the coursework project, including what is expected, and how to undertake this task.\n",
        "\n",
        "Before we begin, it is important to emphasize the learning objectives for GGS366 are as follows:  \n",
        "\n",
        "1.\tUnderstanding the basics of computer programming (e.g., variables, functions, iteration etc.), as well as different design approaches (scripting versus object-oriented), with relevance to the spatial sciences.\n",
        "2.\tDeveloping critical thinking skills with regard to spatial computing uses, design approaches, and methodological choices.  \n",
        "3.\tMastering important programming applications (e.g., Google Colab) and key spatial computing packages (e.g., shapely, geopandas etc.)."
      ],
      "metadata": {
        "id": "UldasFdqBx-D"
      }
    },
    {
      "cell_type": "markdown",
      "source": [
        "## Background\n",
        "\n",
        "The key point of this activity is for you to demonstrate your ability to write a short scientific research paper.\n",
        "\n",
        "Such an activity is based on you:\n",
        "\n",
        "* Writing a brief introduction to your topic, including specifying a research question.\n",
        "* Undertaking a literature review of your existing topic.\n",
        "* Specifying a method which enables you to answer your research question.\n",
        "* Reporting results (e.g., quantitative findings).\n",
        "* Articulating a discussion of your research question, now you have results.\n",
        "* Providing conclusions.\n",
        "* Specifying your bibliography at the end.  \n",
        "\n",
        "Students are allowed to choose whichever programing method best suits their topic, providing the spatial computing content learnt in this class is emphasized.\n",
        "\n",
        "Seek advice if you are unsure which path to take.\n",
        "\n",
        "Those who start early have a much higher probability of success.\n",
        "\n",
        "Students are advised to consider this exercise as a piece of work which constitutes a potential job market paper, consequently demonstrating key competences when applying for future positions beyond GMU. Indeed, the most successful students can potentially convert this research into future funded projects."
      ],
      "metadata": {
        "id": "hBgo_mnbCeUL"
      }
    },
    {
      "cell_type": "markdown",
      "source": [
        "## General requirements\n",
        "\n",
        "The project requirements include:\n",
        "\n",
        "•\tSubmission of a scientific research paper which utilizes spatial computing techniques with a total paper length of at least 1,200 words (not including references) and >100 lines of code.\n",
        "\n",
        "•\tStudents are encouraged to focus on their key current/future interests (e.g., geospatial aspects of the environment, national security and intelligence, economy and society etc.).\n",
        "\n",
        "•\tThe paper should be submitted on MyMason BlackBoard (as both a Microsoft word (.docx) and pdf document), and potentially also uploaded to a GitHub repository with the developed code. LaTeX/MarkDown documents can also be submitted if you prefer, just make sure to also provide a .pdf file of the final submission.\n",
        ""
      ],
      "metadata": {
        "id": "4CEGhRCECqfQ"
      }
    },
    {
      "cell_type": "markdown",
      "source": [
        "## Specific requirements\n",
        "\n",
        "The paper needs to include:\n",
        "\n",
        "•\tA properly written research abstract which summarizes the paper, including the motivation, research question, results, and findings (~150 words) (5 points).\n",
        "\n",
        "•\tAn introductory section which provides background information, the motivation for the analysis and a stated research question(s) which the analysis aims to answer (~150 words) (5 points).\n",
        "\n",
        "•\tA comprehensive literature review on your chosen topic summarizing past theoretical and empirical research in this area, with at least 10 peer-reviewed citations (~500 words) (10 points).\n",
        "\n",
        "•\tA high-quality methodology section which details the data sources and spatial computing steps involved in the analysis. This must include a box diagram illustrating the sequencing of the processing steps, from input data to results output (~250 words) (10 points).\n",
        "\n",
        "•\tFully written-up results of the analysis, including graphs (e.g., using Matplotlib) or other data plots (~250 words) (10 points).\n",
        "\n",
        "•\tA discussion section which critically evaluates the ramifications of the results in relation to the research question(s) specified in the introduction. Areas of future research could also be discussed. There must be a subsection on the limitations of the analysis (~250 words) (10 points).\n",
        "\n",
        "•\tA conclusion section containing a summary of the purpose of the paper, and then the main findings (~150 words) (5 points).\n",
        "\n",
        "•\tA fully documented bibliography which states the citations used in the paper. To reiterate, there needs to be at least 10 citations (10 points).\n",
        "\n",
        "•\tSubmission of the Python spatial computing code (35 points).\n",
        "\n",
        "\n"
      ],
      "metadata": {
        "id": "X5dSPpk7E7gp"
      }
    },
    {
      "cell_type": "markdown",
      "source": [
        "## Literature review\n",
        "\n",
        "A literature review is one of the most important parts of an academic paper.\n",
        "\n",
        "This is the point at which a researcher surveys related studies. Indeed, such an assessment enables a researcher to do a number of important things, including:\n",
        "\n",
        "* Investigating the findings of past studies.\n",
        "* Determining existing gaps in the literature (thus, under researched areas).\n",
        "* Evaluating potential methods (and their limitations) that might be useful to investigate the current research question.\n",
        "\n",
        "There are a set of key steps that can help in carrying out this process, as will be detailed here. Generally, we need to dedicate time to finding literature sources, and writing the review itself. Therefore, to make this process easier, break the review into multiple stages, including:\n",
        "\n",
        "1) Collection\n",
        "\n",
        "2) Review\n",
        "\n",
        "3) Writing\n",
        "\n",
        "4) Structuring\n",
        "\n",
        "5) Proofing\n",
        "\n",
        "Make sure you fully spell check your work, and read many times to improve the overall logic of your writing (as well as remove typos)."
      ],
      "metadata": {
        "id": "lsxqIUw0DtDQ"
      }
    },
    {
      "cell_type": "markdown",
      "source": [
        "## Specifying your method\n",
        "\n",
        "Whereas the lit review approach can be iterative, the method will almost certainly also require multiple iterations/revisions.\n",
        "\n",
        "You may try an initial method and find later it does not achieve sensible and/or unbiased results. Moreover, you also may find that you need to undertake more parameterization or validation, once you have your first set of results, which requires improving the method.\n",
        "\n",
        "Therefore, you can see any methodology section as an evolving document. It is advisable to use your literature review to explore potential options, and then put pen to paper (metaphorically), to sketch out a potential method.\n",
        "\n",
        "At this stage, bullet points are fine for a first step.\n",
        "\n",
        "It is expected that a method will broadly have the following components:\n",
        "\n",
        "* Description/visualization of the key method steps.\n",
        "* Data sources to be used (including proper cited references to the sources).\n",
        "* A detailed explanation of any pre-processing of your data.\n",
        "* Consideration of any data validation steps (if required).\n",
        "\n",
        "Having a process diagram to illustrate your method will help you to convey clarity about the steps you are to undertake.\n",
        "\n",
        "See recent examples to understand how this is undertaken in the peer-reviewed literature:\n",
        "\n",
        "* https://www.sciencedirect.com/science/article/pii/S0040162521008404\n",
        "* https://ieeexplore.ieee.org/abstract/document/9669262\n",
        "\n",
        "The aim is to improve reproducibility. Therefore, you can easily illustrate all input and output data, along with any processing used in the analysis. It is then possible to clearly link the method structure to the stages in the diagram.\n",
        "\n",
        "Additionally, you want to provide a full, comprehensive overview of the data sources you intend to use. This might include primary data, secondary data, and appropriate citations to the original data source. If in doubt, always add a citation.\n",
        "\n",
        "It is highly advisable to structure your method around the key steps required to answer your research question. If you are stuck on how to do this, then examine how others have carried out this process, and/or seek guidance.\n"
      ],
      "metadata": {
        "id": "MIJtWWWzHEh4"
      }
    }
  ]
}