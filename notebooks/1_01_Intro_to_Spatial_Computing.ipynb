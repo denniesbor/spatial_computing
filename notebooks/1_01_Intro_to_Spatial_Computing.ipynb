{
  "nbformat": 4,
  "nbformat_minor": 0,
  "metadata": {
    "colab": {
      "provenance": [],
      "toc_visible": true
    },
    "kernelspec": {
      "name": "python3",
      "display_name": "Python 3"
    },
    "language_info": {
      "name": "python"
    }
  },
  "cells": [
    {
      "cell_type": "markdown",
      "source": [
        "# **Welcome to GGS336 Spatial Computing**\n",
        "\n",
        "In this class we will cover introductory material for `GGS366 Spatial Computing`, from covering the course syllabus to getting started with Python programming basics.\n",
        "\n",
        "To begin, what exactly is *spatial computing*?\n",
        "\n",
        "Well, there are multiple different definitions of spatial computing. Here, in this class, we will define spatial computing as the analytical programming techniques supporting the usage of spatial data, models and methods.\n",
        "\n",
        "Many of you will already have engaged with spatial data and analysis through mapping software, such as ArcGIS Pro, ENVI, QGIS, etc. We will be moving beyond the use of these Graphical User Interface (GUI) software approaches, to provide you with a more advanced understanding of spatial scientific methods.  \n",
        "\n",
        "Spatial computing consists of a growing number of key domains, including:\n",
        "\n",
        "- ***Spatial mapping methods*** in two or three dimensions (2D/3D). For example, by mapping our physical environment using a variety of primary or secondary data sources. Any data collection device can produce spatial datasets of relevance capable of being mapped, especially smartphones, cameras, microphones, lidar/radar or other sensors (as they all collect data at some point in space-time!).\n",
        "- ***Spatial relational methods*** focusing on processing and quantifying the relationships between different sets of data in space. We can think of this as a logical next step after conducting the spatial mapping of data, supporting analytical questions such as, what is the mean distance between two sets of points (e.g., for customers and a logistics depo)? Or, what is my shortest path to a Point of Interest (PoI) (including estimating the necessary transportation directions)?   \n",
        "- ***Spatial interaction methods***, including Augmented Reality (AR) and Virtual Reality (VR) techniques, whereby we graphically display information either within our existing physical environment (reality enhancement) or an entirely new digital world (virtual immersion). We have the ability to spatially interact with this data by moving our limbs (e.g., hands, head etc.). Whereas the former two areas are traditional methods for spatial scientists/geographers, this is a new and growing area of research interest.  \n",
        "\n",
        "These three areas will be key to our learning throughout the class, and we should return to them often as a schema for understanding the key domains of spatial computing.\n",
        "\n",
        "Next, we will consider use cases for these methods, as this will help you begin to understand the vast range of options available to students with these skills.\n",
        "\n",
        "\n",
        "\n",
        "\n",
        "\n",
        "\n",
        "\n",
        "\n",
        "\n",
        "\n",
        "\n",
        "\n",
        "\n"
      ],
      "metadata": {
        "id": "OIpD27GwrLNG"
      }
    },
    {
      "cell_type": "code",
      "source": [
        "from IPython.display import HTML\n",
        "\n",
        "HTML('<iframe width=\"560\" height=\"315\" src=\"https://www.youtube.com/embed/TX9qSaGXFyg?si=T4kqvukx37k_amMC\" title=\"YouTube video player\" frameborder=\"0\" allow=\"accelerometer; autoplay; clipboard-write; encrypted-media; gyroscope; picture-in-picture; web-share\" allowfullscreen></iframe>')"
      ],
      "metadata": {
        "colab": {
          "base_uri": "https://localhost:8080/",
          "height": 336
        },
        "id": "tnArWebeuQqb",
        "outputId": "5faf559f-6778-4cbb-f9d7-a81f54fffab8"
      },
      "execution_count": 2,
      "outputs": [
        {
          "output_type": "execute_result",
          "data": {
            "text/plain": [
              "<IPython.core.display.HTML object>"
            ],
            "text/html": [
              "<iframe width=\"560\" height=\"315\" src=\"https://www.youtube.com/embed/TX9qSaGXFyg?si=T4kqvukx37k_amMC\" title=\"YouTube video player\" frameborder=\"0\" allow=\"accelerometer; autoplay; clipboard-write; encrypted-media; gyroscope; picture-in-picture; web-share\" allowfullscreen></iframe>"
            ]
          },
          "metadata": {},
          "execution_count": 2
        }
      ]
    },
    {
      "cell_type": "markdown",
      "source": [
        "### **Use cases**\n",
        "\n",
        "Spatial computing is already pervasive.\n",
        "\n",
        "However, spatial computing as an area is growing as part of the next wave of disruptive technologies. Should you be able to master the techniques within this class, you can consider future careers within these key industrial sectors of the economy:\n",
        "\n",
        "- ***Technology*** - There is growing interested around the use of spatial computing techniques within new online content, applications and services. This ranges from use within the Metaverse and the supporting technology ecosystem, to more established technologies such as Google Maps/Apple Maps.\n",
        "\n",
        "- ***Transportation*** - Increasingly firms operating within the transportaton sector monitor vehicles, trucks, trains, planes etc. in real-time, to pass this information onto passengers and businesses reliant on transportation services. Such trajectory information needs to be processed quickly, stored, and shared with application users.\n",
        "\n",
        "- ***Manufacturing*** - Many applications for the type of AR/VR headsets that you regularly see involve providing manufacturing staff with additional information which help to increase production quality, avoid manufacturing mistakes, and enhance business efficiency.\n",
        "\n",
        "- ***Government*** - Across all government departments there are strong geospatial requirements. Traditionally, these are heavily reliant on ESRI products, such as ArcGIS Pro, although this may change in the future, especially with the rise of cloud platforms such as Amazon Web Services (AWS). Essentially, governments needs to manage their assets across space, whether these are built assets (infrastructure assets, buildings etc.), or environmental assets (water resources, land resources, biodiversity etc.).\n",
        "\n",
        "- ***Defense*** - Although part of government, defense deserves its own category given the vast budgets involved. Spatial computing is used for more than just assets mapping in defense, and ranges from receiving and processing Terabytes of satellite data per day, through to running very large ensemble weather models for situational awareness of military personel.    \n",
        "\n",
        "- ***Space*** - Although still niche, the space sector is rapidly growing, and has seen some excellent applications of spatial computing methods in recent years. The shift from manageable numbers of satellites in Geostationary Orbit (GEO) to thousands of satellites in proliferated Low Earth Orbits (LEO) requires active orbit prediction for collision avoidance.  \n",
        "\n",
        "- ***Real estate*** - Construction activities and building management are inherantly spatial raising a number of key use cases for spatial data. These include Building Information Management (BIM) systems, especially at the contruction stages so workers can visually explore plans when onsite via augmented reality. Through to potential buyers viewing a property in virtual reality prior to purchasing.   \n",
        "\n",
        "This is by no means an exhaustive list, and with the techniques you can learn in this class, you can gain a fundamental understanding of how these applications are enabled (here, by learning the Python programming language).\n",
        "\n",
        "To help you engage with this topic in greater depth, your task for this week is to review the background reading papers summarized in the following section, ready for us to discuss in class the following week.\n",
        "\n",
        "\n",
        "\n",
        "\n"
      ],
      "metadata": {
        "id": "datAyPjv6is4"
      }
    },
    {
      "cell_type": "markdown",
      "source": [
        "### **Background reading**\n",
        "\n",
        "As part of this week's introductory lecture materials, you need to cover the `reading` folder on the github, in particular:\n",
        "\n",
        "1.   Hackl, C., 2023. What Leaders Need to Know About Spatial Computing. Harvard Business Review.\n",
        "2.   Shekhar, S., Feiner, S.K., Aref, W.G., 2015. Spatial computing. Commun. ACM 59, 72–81. httpsdoi.org10.11452756547.b\n",
        "3.   Mystakidis, S., 2022. Metaverse. Encyclopedia 2, 486–497. httpsdoi.org10.3390encyclopedia2010031.\n",
        "4.   Wang, H., Ning, H., Lin, Y., Wang, W., Dhelim, S., Farha, F., Ding, J., Daneshmand, M., 2023. A Survey on the Metaverse The State-of-the-Art, Technologies, Applications, and Challenges. IEEE Internet of Things Journal 10, 14671–14688. httpsdoi.org10.1109JIOT.2023.3278329.\n",
        "5.   Adam, N.R., Shafiq, B., Staffin, R., 2012. Spatial Computing and Social Media in the Context of Disaster Management. IEEE Intelligent Systems 27, 90–96. httpsdoi.org10.1109MIS.2012.113.\n",
        "6.   Delmerico, J., Poranne, R., Bogo, F., Oleynikova, H., Vollenweider, E., Coros, S., Nieto, J., Pollefeys, M., 2022. Spatial Computing and Intuitive Interaction Bringing Mixed Reality and Robotics Together. IEEE Robotics & Automation Magazine 29, 45–57. httpsdoi.org10.1109MRA.2021.3138384.\n",
        "7.   Eftelioglu, E., Jiang, Z., Ali, R., Shekhar, S., 2016. Spatial computing perspective on food energy and water nexus. J Environ Stud Sci 6, 62–76. httpsdoi.org10.1007s13412-016-0372-y.\n"
      ],
      "metadata": {
        "id": "0cOVjGdk_WyT"
      }
    },
    {
      "cell_type": "markdown",
      "source": [
        "### **Getting started with Google Colab**\n",
        "\n",
        "In this class we will `Google Colab` to engage with the course content and run Python code in a single integrated development environment.\n",
        "\n",
        "Some of you may have used `Jupyter Notebooks` previously to read, write and run code (also known as iPython Notebooks, thus the .ipynb file extension).\n",
        "\n",
        "In which case, you might have been familiar with the traditional approach to running Python. This often begins with downloading the data science meta-package Anaconda, creating a virtual environment to run the code, and then getting started with your notebook.\n",
        "\n",
        "Thankfully, Colab does at lot of this hard work for us, enabling us to run Python code from a web browser on Google Cloud. Essentially, this is a virtual machine, meaning we will run the analysis on Google's servers, rather than using our own computing resources (e.g., CPU/GPU, RAM etc.).\n",
        "\n",
        "This means we might not need to create a virtual environment at all, massively simplifying the process for new comers to begin reading and writing Python code.\n",
        "\n",
        "\n",
        "\n",
        "\n",
        "\n",
        "\n",
        "\n",
        "\n"
      ],
      "metadata": {
        "id": "1XkASiz6wJuX"
      }
    },
    {
      "cell_type": "markdown",
      "source": [
        "### **Requirements**\n",
        "\n",
        "There are a set of key requirements you will need, including:\n",
        "\n",
        "1.   A Google account with Google Drive\n",
        "2.   An Internet connection (e.g., >10 Mbps)\n",
        "\n",
        "If you do not have a Google account (I know, unlikely in this day and age), please can you create one now.\n"
      ],
      "metadata": {
        "id": "phEUzB7D4EPF"
      }
    },
    {
      "cell_type": "markdown",
      "source": [
        "### **Exploring Colab**\n",
        "\n",
        "Now we get to start the fun part (*playing with some introductory Python code!*).\n",
        "\n",
        "To do that, we can go to Colab and start a new notebook (click the big `New notebook` button):\n",
        "\n",
        "https://colab.research.google.com/\n",
        "\n",
        "To summarize, a notebook is basically a collection of cells which we can define as either being text *or* code. Here, the text is written in Markdown, and the code is written in Python.\n",
        "\n",
        "You can learn other programming languages, however Python is one of the most powerful that you can still easily read.\n",
        "\n",
        "Ideally, you should aim to become an advanced programmer in a language such as Python, before you look to become a beginner/intermediate programmer in another (as there is great value in becoming a pro, rather than being a beginner in multiple).\n",
        "\n",
        "\n",
        "\n",
        "\n",
        "\n",
        "\n"
      ],
      "metadata": {
        "id": "ZqlNYhFawNHj"
      }
    },
    {
      "cell_type": "markdown",
      "source": [
        "### **Colab: Two main modes**\n",
        "\n",
        "Beginners should be aware that notebooks"
      ],
      "metadata": {
        "id": "cX3spWIZ4vxt"
      }
    }
  ]
}