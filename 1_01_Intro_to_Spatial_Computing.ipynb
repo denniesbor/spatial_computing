{
  "nbformat": 4,
  "nbformat_minor": 0,
  "metadata": {
    "colab": {
      "provenance": [],
      "authorship_tag": "ABX9TyOGhn9P+eF6RMlBRrv5xCah",
      "include_colab_link": true
    },
    "kernelspec": {
      "name": "python3",
      "display_name": "Python 3"
    },
    "language_info": {
      "name": "python"
    }
  },
  "cells": [
    {
      "cell_type": "markdown",
      "metadata": {
        "id": "view-in-github",
        "colab_type": "text"
      },
      "source": [
        "<a href=\"https://colab.research.google.com/github/edwardoughton/spatial_computing/blob/main/1_01_Intro_to_Spatial_Computing.ipynb\" target=\"_parent\"><img src=\"https://colab.research.google.com/assets/colab-badge.svg\" alt=\"Open In Colab\"/></a>"
      ]
    },
    {
      "cell_type": "markdown",
      "source": [
        "# **Welcome to GGS590 Spatial Computing**\n",
        "\n",
        "In this class we will cover introductory material for `GGS590 Spatial Computing`, from covering the course syllabus to getting started with Python programming basics.\n",
        "\n",
        "To begin, what exactly is *spatial computing*?\n",
        "\n",
        "Well, there are multiple different definitions of spatial computing. Here, in this class, we will define spatial computing as the analytical programming techniques supporting the usage of spatial data, models and methods.\n",
        "\n",
        "Many of you will already have engaged with spatial data and analysis through mapping software, such as ArcGIS Pro, ENVI, QGIS, etc. We will be moving beyond the use of these Graphical User Interface (GUI) software approaches, to provide you with a more advanced understanding of spatial scientific methods (thus, this class is not about primarily using ESRI ArcGIS Pro, QGIS etc.).  \n",
        "\n",
        "\n",
        "\n",
        "\n",
        "\n",
        "\n",
        "\n",
        "\n",
        "\n",
        "\n",
        "\n",
        "\n",
        "\n"
      ],
      "metadata": {
        "id": "OIpD27GwrLNG"
      }
    },
    {
      "cell_type": "markdown",
      "source": [
        "## **Areas of study**\n",
        "\n",
        "Spatial computing consists of a growing number of key domains, including:\n",
        "\n",
        "- ***Spatial mapping methods*** in two or three dimensions (2D/3D). For example, by mapping our physical environment using a variety of primary or secondary data sources. Any data collection device can produce spatial datasets of relevance capable of being mapped, especially smartphones, cameras, microphones, lidar/radar or other sensors (as they all collect data at some point in space-time!).\n",
        "- ***Spatial relational methods*** focusing on processing and quantifying the relationships between different sets of data in space. We can think of this as a logical next step after conducting the spatial mapping of data, supporting analytical questions such as, what is the mean distance between two sets of points (e.g., for customers and a logistics depo)? Or, what is my shortest path to a Point of Interest (PoI) (including estimating the necessary transportation directions)?   \n",
        "- ***Spatial interaction methods***, including Augmented Reality (AR) and Virtual Reality (VR) techniques, whereby we graphically display information either within our existing physical environment (reality enhancement) or an entirely new digital world (virtual immersion). We have the ability to spatially interact with this data by moving our limbs (e.g., hands, head etc.). Whereas the former two areas are traditional methods for spatial scientists/geographers, this is a new and growing area of research interest.  \n",
        "\n",
        "These three areas will be key to our learning throughout the class, and we should return to them often as a schema for understanding the key domains of spatial computing.\n",
        "\n",
        "Next, we will consider use cases for these methods, as this will help you begin to understand the vast range of options available to students with these skills.\n"
      ],
      "metadata": {
        "id": "bc7Sp9us0dib"
      }
    },
    {
      "cell_type": "code",
      "source": [
        "from IPython.display import HTML\n",
        "\n",
        "HTML('<iframe width=\"560\" height=\"315\" src=\"https://www.youtube.com/embed/TX9qSaGXFyg?si=T4kqvukx37k_amMC\" title=\"YouTube video player\" frameborder=\"0\" allow=\"accelerometer; autoplay; clipboard-write; encrypted-media; gyroscope; picture-in-picture; web-share\" allowfullscreen></iframe>')"
      ],
      "metadata": {
        "colab": {
          "base_uri": "https://localhost:8080/",
          "height": 372
        },
        "id": "tnArWebeuQqb",
        "outputId": "fc026930-0bba-40b5-9ac3-5df9a4975e7d"
      },
      "execution_count": null,
      "outputs": [
        {
          "output_type": "stream",
          "name": "stderr",
          "text": [
            "/usr/local/lib/python3.10/dist-packages/IPython/core/display.py:724: UserWarning: Consider using IPython.display.IFrame instead\n",
            "  warnings.warn(\"Consider using IPython.display.IFrame instead\")\n"
          ]
        },
        {
          "output_type": "execute_result",
          "data": {
            "text/plain": [
              "<IPython.core.display.HTML object>"
            ],
            "text/html": [
              "<iframe width=\"560\" height=\"315\" src=\"https://www.youtube.com/embed/TX9qSaGXFyg?si=T4kqvukx37k_amMC\" title=\"YouTube video player\" frameborder=\"0\" allow=\"accelerometer; autoplay; clipboard-write; encrypted-media; gyroscope; picture-in-picture; web-share\" allowfullscreen></iframe>"
            ]
          },
          "metadata": {},
          "execution_count": 3
        }
      ]
    },
    {
      "cell_type": "markdown",
      "source": [
        "### **Use cases**\n",
        "\n",
        "Spatial computing is already pervasive.\n",
        "\n",
        "However, spatial computing as an area is growing as part of the next wave of disruptive technologies. Should you be able to master the techniques within this class, you can consider future careers within these key industrial sectors of the economy:\n",
        "\n",
        "- ***Technology*** - There is growing interested around the use of spatial computing techniques within new online content, applications and services. This ranges from use within the Metaverse and the supporting technology ecosystem, to more established technologies such as Google Maps/Apple Maps.\n",
        "\n",
        "- ***Transportation*** - Increasingly firms operating within the transportation sector monitor vehicles, trucks, trains, planes etc. in real-time, to pass this information onto passengers and businesses reliant on transportation services. Such trajectory information needs to be processed quickly, stored, and shared with application users.\n",
        "\n",
        "- ***Manufacturing*** - Many applications for the type of AR/VR headsets that you regularly see involve providing manufacturing staff with additional information which help to increase production quality, avoid manufacturing mistakes, and enhance business efficiency.\n",
        "\n",
        "- ***Government*** - Across all government departments there are strong geospatial requirements. Traditionally, these are heavily reliant on ESRI products, such as ArcGIS Pro, although this may change in the future, especially with the rise of cloud platforms such as Amazon Web Services (AWS). Essentially, governments needs to manage their assets across space, whether these are built assets (infrastructure assets, buildings etc.), or environmental assets (water resources, land resources, biodiversity etc.).\n",
        "\n",
        "- ***Defense*** - Although part of government, defense deserves its own category given the vast budgets involved. Spatial computing is used for more than just assets mapping in defense, and ranges from receiving and processing Terabytes of satellite data per day, through to running very large ensemble weather models for situational awareness of military personnel.    \n",
        "\n",
        "- ***Space*** - Although still niche, the space sector is rapidly growing, and has seen some excellent applications of spatial computing methods in recent years. The shift from manageable numbers of satellites in Geostationary Orbit (GEO) to thousands of satellites in proliferated Low Earth Orbits (LEO) requires active orbit prediction for collision avoidance.  \n",
        "\n",
        "- ***Real estate*** - Construction activities and building management are inherently spatial raising a number of key use cases for spatial data. These include Building Information Management (BIM) systems, especially at the construction stages so workers can visually explore plans when onsite via augmented reality. Through to potential buyers viewing a property in virtual reality prior to purchasing.   \n",
        "\n",
        "This is by no means an exhaustive list, and with the techniques you can learn in this class, you can gain a fundamental understanding of how these applications are enabled (here, by learning the Python programming language).\n",
        "\n",
        "To help you engage with this topic in greater depth, your task for this week is to review the background reading papers summarized in the following section, ready for us to discuss in class the following week.\n",
        "\n",
        "\n",
        "\n",
        "\n"
      ],
      "metadata": {
        "id": "datAyPjv6is4"
      }
    },
    {
      "cell_type": "markdown",
      "source": [
        "### **Background reading**\n",
        "\n",
        "As part of this week's introductory lecture materials, you need to cover the `reading` folder on the github, in particular:\n",
        "\n",
        "1.   Hackl, C., 2023. What Leaders Need to Know About Spatial Computing. Harvard Business Review.\n",
        "2.   Shekhar, S., Feiner, S.K., Aref, W.G., 2015. Spatial computing. Commun. ACM 59, 72–81. httpsdoi.org10.11452756547.b\n",
        "3.   Mystakidis, S., 2022. Metaverse. Encyclopedia 2, 486–497. httpsdoi.org10.3390encyclopedia2010031.\n",
        "4.   Wang, H., Ning, H., Lin, Y., Wang, W., Dhelim, S., Farha, F., Ding, J., Daneshmand, M., 2023. A Survey on the Metaverse The State-of-the-Art, Technologies, Applications, and Challenges. IEEE Internet of Things Journal 10, 14671–14688. httpsdoi.org10.1109JIOT.2023.3278329.\n",
        "5.   Adam, N.R., Shafiq, B., Staffin, R., 2012. Spatial Computing and Social Media in the Context of Disaster Management. IEEE Intelligent Systems 27, 90–96. httpsdoi.org10.1109MIS.2012.113.\n",
        "6.   Delmerico, J., Poranne, R., Bogo, F., Oleynikova, H., Vollenweider, E., Coros, S., Nieto, J., Pollefeys, M., 2022. Spatial Computing and Intuitive Interaction Bringing Mixed Reality and Robotics Together. IEEE Robotics & Automation Magazine 29, 45–57. httpsdoi.org10.1109MRA.2021.3138384.\n",
        "7.   Eftelioglu, E., Jiang, Z., Ali, R., Shekhar, S., 2016. Spatial computing perspective on food energy and water nexus. J Environ Stud Sci 6, 62–76. httpsdoi.org10.1007s13412-016-0372-y.\n"
      ],
      "metadata": {
        "id": "0cOVjGdk_WyT"
      }
    }
  ]
}