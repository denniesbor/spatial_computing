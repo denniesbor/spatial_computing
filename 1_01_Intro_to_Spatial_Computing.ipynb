{
  "nbformat": 4,
  "nbformat_minor": 0,
  "metadata": {
    "colab": {
      "provenance": [],
      "authorship_tag": "ABX9TyPtu/IsoEgaK67CIhY8ze1i",
      "include_colab_link": true
    },
    "kernelspec": {
      "name": "python3",
      "display_name": "Python 3"
    },
    "language_info": {
      "name": "python"
    }
  },
  "cells": [
    {
      "cell_type": "markdown",
      "metadata": {
        "id": "view-in-github",
        "colab_type": "text"
      },
      "source": [
        "<a href=\"https://colab.research.google.com/github/edwardoughton/spatial_computing/blob/main/1_01_Intro_to_Spatial_Computing.ipynb\" target=\"_parent\"><img src=\"https://colab.research.google.com/assets/colab-badge.svg\" alt=\"Open In Colab\"/></a>"
      ]
    },
    {
      "cell_type": "code",
      "execution_count": null,
      "metadata": {
        "id": "BJG9pouKqozM"
      },
      "outputs": [],
      "source": []
    },
    {
      "cell_type": "markdown",
      "source": [
        "# Welcome to GGS336 Spatial Computing\n",
        "\n",
        "In this class we will cover introductory material for GGS366 Spatial computing, from covering the course syllabus to getting started with Python programing basics.\n",
        "\n",
        "There are multiple different definitions of spatial computing. In this class, we will define spatial computing as the analytical programing techniques supporting the usage of spatial data, models and methods.\n",
        "\n",
        "Many of you will already have engaged with spatial data and analysis through mapping software, such as ArcGIS Pro, ENVI, QGIS, etc. We will be moving beyond the use of these Graphical User Interface (GUI) software approaches, to provide you with a more advanced understanding of spatial scientific methods.  \n",
        "\n",
        "Spatial computing consists of a growing number of key domains, including:\n",
        "\n",
        "- ***Spatial mapping methods*** in two or three dimensions (2D/3D). For example, by mapping our physical environment using a variety of primary or secondary data sources. Any data collection device can produce spatial datasets of relevance capable of being mapped, especially smartphones, cameras, microphones, lidar/radar or other sensors (as they all collect data at some point in space-time!).\n",
        "- ***Spatial relational methods*** focusing on processing and quantifying the relationships between different sets of data in space. We can think of this as a logical next step after conducting the spatial mapping of data, supporting analytical questions such as, what is the mean distance between two sets of points (e.g., for customers and a logistics depo)? Or, what is my shortest path to a Point of Interest (including estimating the necessary transportation directions)?   \n",
        "- ***Spatial interaction methods***, including Augmented Reality (AR) and Virtual Reality (VR) techniques, whereby we graphically display information either within our existing physical environment (reality enhancement) or an entirely new digital world (virtual immersion). We have the ability to spatially interact with this data using head and hand movements. Whereas the former two areas are traditional methods for spatial scientists/geographers, this is a new and growing area of research interest.  \n",
        "\n",
        "### Use cases\n",
        "\n",
        "Spatial computing is already pervasive. However, spatial computing as an area is growing as part of the next wave of disruptive technologies. Should you be able to master the techniques within this class, you can consider future careers within these key industrial sectors of the economy:\n",
        "\n",
        "- Technology - There is growing interested around the use of spatial computing techniques within new online content, applications and services. This ranges from use within the Metaverse and the supporting technology ecosystem, to more established technologies such as Google/Apple Maps.\n",
        "\n",
        "- Transportation - Increasingly firms operating within the transportaton sector monitor vehicles, trucks, trains, planes etc. in real-time, to pass this information onto passengers and businesses reliant on transportation services. Such trajectory information needs to be processed quickly, stored, and shared with application users.\n",
        "\n",
        "- Manufacturing - Many applications for the type of AR/VR headsets that you regularly see involve providing manufacturing staff with additional information which help to increase production quality, avoid manufacturing mistakes, and enhance business efficiency.\n",
        "\n",
        "- Government - Across all government departments there are strong geospatial requirements. Traditionally, these are heavily reliant on ESRI products, such as ArcGIS Pro, although this may change in the future, especially with the rise of cloud platforms such as Amazon Web Services (AWS). Essentially, governments needs to manage their assets across space, whether these are built assets (infrastructure assets, buildings etc.), or environmental assets (water resources, land resources, biodiversity etc.).\n",
        "\n",
        "- Defense - Although part of government, defense deserves its own category given the vast budgets involved. Spatial computing is used for more than just assets mapping in defense, and ranges from receiving and processing Terabytes of satellite data per day, through to running very larger ensemble weather models for situational awareness.    \n",
        "\n",
        "- Space - Although still niche, the space sector is rapidly growing, and has seen some excellent applications of spatial computing methods in recent years. The shift from manageable numbers of satellites in Geostationary Orbit (GEO) to thousands of satellites in proliferated Low Earth Orbits (LEO) requires active prediction and collision management avoidance.  \n",
        "\n",
        "- Real estate - Construction activities and building management are inherantly spatial raising a number of key user cases for spatial data. These include Building Information Management (BIM) systems, especially at the contruction stages so workers can visually explore plans when onsite via augmented reality. Through to potential buyers viewing a property in virtual reality prior to purchasing.   \n",
        "\n",
        "This is by no means an exhaustive list, and with the techniques you can learn in this class, you can gain a fundamental understanding of how these applications are enabled (here, by learning the Python programming language).\n",
        "\n",
        "\n",
        "\n",
        "\n"
      ],
      "metadata": {
        "id": "OIpD27GwrLNG"
      }
    }
  ]
}