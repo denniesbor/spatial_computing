{
  "nbformat": 4,
  "nbformat_minor": 0,
  "metadata": {
    "colab": {
      "provenance": [],
      "authorship_tag": "ABX9TyN9dLUlPaa3Ttt/ted9Ejqa",
      "include_colab_link": true
    },
    "kernelspec": {
      "name": "python3",
      "display_name": "Python 3"
    },
    "language_info": {
      "name": "python"
    }
  },
  "cells": [
    {
      "cell_type": "markdown",
      "metadata": {
        "id": "view-in-github",
        "colab_type": "text"
      },
      "source": [
        "<a href=\"https://colab.research.google.com/github/edwardoughton/spatial_computing/blob/main/4_01_Intro_To_Shapely.ipynb\" target=\"_parent\"><img src=\"https://colab.research.google.com/assets/colab-badge.svg\" alt=\"Open In Colab\"/></a>"
      ]
    },
    {
      "cell_type": "markdown",
      "source": [
        "# Intro To Shapely\n",
        "\n",
        "In Python, one of the main ways to handle geometry objects is via the package Shapely, which has a specific spatial model for handling different types of geometric objects.\n",
        "\n",
        "See here for more info: https://shapely.readthedocs.io/en/stable/manual.html\n",
        "\n",
        "With Shapely we can:\n",
        "\n",
        "* Define different spatial entities as geometry objects (e.g. points, lines, polygons etc.).\n",
        "* Assess relationships between different entities (e.g. geometric objects)\n",
        "using various functions (e.g., contains, intersection, touching, overlapping).\n",
        "* Carry out operations between various spatial objects, such as constructive (buffer, convex hull) and set-theoretic operations (intersection, union, etc.).\n",
        "\n",
        "**Note:** As most of what you will be learning currently is more theoretical understanding than application, please assume any coordinates are in meters."
      ],
      "metadata": {
        "id": "sTceVwevAbl6"
      }
    },
    {
      "cell_type": "markdown",
      "source": [
        "## Geometry objects\n",
        "\n",
        "The fundamental types of geometric objects implemented by Shapely include the following:\n",
        "\n",
        "* **Points**: A single point in space with a pair of coordinates (e.g., `(x,y)`).\n",
        "* **LineStrings**: A line is basically a set of connected points (e.g., `[(x,y), (x,y)]`).\n",
        "* **Polygons**: A sequence of points which close to form a planar geometric shape (e.g., `[(x,y), (x,y), (x,y)]`).\n",
        "* **Multi-dimensional geometries**: Collections of points, lines, or polygons, leading to MultiPoint, MultiLineString, or MultiPolygon structures, respectively.\n",
        "\n",
        "Nomenclature: Points, curves, and surfaces are analogous to points, linestrings, and polygons, as termed in the exercise).\n"
      ],
      "metadata": {
        "id": "c57sz0j5n4Em"
      }
    },
    {
      "cell_type": "markdown",
      "source": [
        "### Points\n",
        "\n",
        "According to Shapely: *A Point has an interior set of exactly one point, a boundary set of exactly no points, and an exterior set of all other points. A Point has a topological dimension of 0*.\n",
        "\n",
        "An easier way to think of a point is as a mere set of coordinates:\n",
        "\n",
        "- (1, 3)\n",
        "- (4.34, 9.12)\n",
        "- (0.10204, -1.09279)\n",
        "\n",
        "Shapely enables us to create these as a Shapely object, as follows (and we know it is a Shapely object because when we print it, the object has the structure `POINT (7.386 -3.289)`, as opposed to just `(7.386, -3.289)`).\n"
      ],
      "metadata": {
        "id": "kcbWg2PYAiEX"
      }
    },
    {
      "cell_type": "code",
      "source": [
        "# Example: Defining a shapely point geometry\n",
        "from shapely.geometry import Point\n",
        "my_point = Point(7.386, -3.289)\n",
        "print(my_point)\n",
        "my_point"
      ],
      "metadata": {
        "id": "6bbGjLZ7AfIW",
        "colab": {
          "base_uri": "https://localhost:8080/",
          "height": 139
        },
        "outputId": "ab7fa967-3b6a-4589-f7b2-425d35425fe6"
      },
      "execution_count": null,
      "outputs": [
        {
          "output_type": "stream",
          "name": "stdout",
          "text": [
            "POINT (7.386 -3.289)\n"
          ]
        },
        {
          "output_type": "execute_result",
          "data": {
            "text/plain": [
              "<POINT (7.386 -3.289)>"
            ],
            "image/svg+xml": "<svg xmlns=\"http://www.w3.org/2000/svg\" xmlns:xlink=\"http://www.w3.org/1999/xlink\" width=\"100.0\" height=\"100.0\" viewBox=\"6.386 -4.289 1.9999999999999991 1.9999999999999996\" preserveAspectRatio=\"xMinYMin meet\"><g transform=\"matrix(1,0,0,-1,0,-6.577999999999999)\"><circle cx=\"7.386\" cy=\"-3.289\" r=\"0.05999999999999999\" stroke=\"#555555\" stroke-width=\"0.019999999999999997\" fill=\"#66cc99\" opacity=\"0.6\" /></g></svg>"
          },
          "metadata": {},
          "execution_count": 5
        }
      ]
    },
    {
      "cell_type": "markdown",
      "source": [
        "### Lines\n",
        "\n",
        "More precisely named 'linestrings', these objects contain at least two points.\n",
        "\n",
        "Shapely states:\n",
        "\n",
        "*The constructed LineString object represents one or more connected linear splines between the points. Repeated points in the ordered sequence are allowed, but may incur performance penalties and should be avoided. A LineString may cross itself (i.e. be complex and not simple).*\n",
        "\n",
        "We can define a line as follows."
      ],
      "metadata": {
        "id": "OUKa3LdAApJz"
      }
    },
    {
      "cell_type": "code",
      "source": [
        "# Example: Defining a shapely linestring geometry\n",
        "from shapely.geometry import LineString\n",
        "my_line = LineString([(7.386, -3.289),(7.12, -3.167)])\n",
        "print(my_line)\n",
        "my_line"
      ],
      "metadata": {
        "id": "20GDfBh5Awn0",
        "colab": {
          "base_uri": "https://localhost:8080/",
          "height": 139
        },
        "outputId": "9cc075e7-7a61-4175-96d2-b6b96506782c"
      },
      "execution_count": null,
      "outputs": [
        {
          "output_type": "stream",
          "name": "stdout",
          "text": [
            "LINESTRING (7.386 -3.289, 7.12 -3.167)\n"
          ]
        },
        {
          "output_type": "execute_result",
          "data": {
            "text/plain": [
              "<LINESTRING (7.386 -3.289, 7.12 -3.167)>"
            ],
            "image/svg+xml": "<svg xmlns=\"http://www.w3.org/2000/svg\" xmlns:xlink=\"http://www.w3.org/1999/xlink\" width=\"100.0\" height=\"100.0\" viewBox=\"7.10936 -3.29964 0.28728000000000087 0.1432800000000003\" preserveAspectRatio=\"xMinYMin meet\"><g transform=\"matrix(1,0,0,-1,0,-6.4559999999999995)\"><polyline fill=\"none\" stroke=\"#66cc99\" stroke-width=\"0.005745600000000017\" points=\"7.386,-3.289 7.12,-3.167\" opacity=\"0.8\" /></g></svg>"
          },
          "metadata": {},
          "execution_count": 6
        }
      ]
    },
    {
      "cell_type": "markdown",
      "source": [
        "### Polygons\n",
        "\n",
        "A polygon can be thought of practically as a collection of tuple points forming a closed shape.\n",
        "\n",
        "For example, in geometry a polygon is a plane figure that is described by a finite number of straight line segments connected to form a closed polygonal chain.\n",
        "\n",
        "In Shapely, a Polygon function is:\n",
        "\n",
        "*A constructor taking two positional parameters. The first is an ordered sequence of (x, y[, z]) point tuples and is treated exactly as in the LinearRing case. The second is an optional unordered sequence of ring-like sequences specifying the interior boundaries or “holes” of the feature.*"
      ],
      "metadata": {
        "id": "6rFckEEvAzPK"
      }
    },
    {
      "cell_type": "code",
      "source": [
        "# Example: Defining a shapely polygon geometry\n",
        "from shapely.geometry import Polygon\n",
        "my_polygon = Polygon([(7.386, -3.289),(4, -1.167),(2, -5), (7.386, -3.289)])\n",
        "print(my_polygon)\n",
        "my_polygon"
      ],
      "metadata": {
        "id": "nVx7NmgkA3Qb",
        "colab": {
          "base_uri": "https://localhost:8080/",
          "height": 139
        },
        "outputId": "8bb1b31d-eccd-4394-dd61-c0a244169f9f"
      },
      "execution_count": null,
      "outputs": [
        {
          "output_type": "stream",
          "name": "stdout",
          "text": [
            "POLYGON ((7.386 -3.289, 4 -1.167, 2 -5, 7.386 -3.289))\n"
          ]
        },
        {
          "output_type": "execute_result",
          "data": {
            "text/plain": [
              "<POLYGON ((7.386 -3.289, 4 -1.167, 2 -5, 7.386 -3.289))>"
            ],
            "image/svg+xml": "<svg xmlns=\"http://www.w3.org/2000/svg\" xmlns:xlink=\"http://www.w3.org/1999/xlink\" width=\"100.0\" height=\"100.0\" viewBox=\"1.78456 -5.21544 5.81688 4.26388\" preserveAspectRatio=\"xMinYMin meet\"><g transform=\"matrix(1,0,0,-1,0,-6.167)\"><path fill-rule=\"evenodd\" fill=\"#66cc99\" stroke=\"#555555\" stroke-width=\"0.1163376\" opacity=\"0.6\" d=\"M 7.386,-3.289 L 4.0,-1.167 L 2.0,-5.0 L 7.386,-3.289 z\" /></g></svg>"
          },
          "metadata": {},
          "execution_count": 7
        }
      ]
    },
    {
      "cell_type": "markdown",
      "source": [
        "## Task\n",
        "\n",
        "Write out the code to specify a Shapely object for a:\n",
        "* **Point** with the coordinates, 8 and 9.\n",
        "* **Linestring** with three coordinates, 8 and 9, 10 and 12, and 12 and 13.\n",
        "* **Polygon** with four coordinates, 8 and 9, 10 and 12, 12 and 13, and 13 and 14.\n"
      ],
      "metadata": {
        "id": "cHXBxkyWGBNa"
      }
    },
    {
      "cell_type": "code",
      "source": [
        "# Enter your attempt here\n"
      ],
      "metadata": {
        "id": "huuT5mrTGI5C"
      },
      "execution_count": null,
      "outputs": []
    },
    {
      "cell_type": "markdown",
      "source": [
        "## Generate geometry attributes\n",
        "\n",
        "There are a set of general geometry attributes which it is important to know.\n",
        "\n",
        "These include:\n",
        "\n",
        "* The `.area` function to return the area of a geometry object.\n",
        "* The `.bounds` function to return the minimum and maximum bounds of a geometry object.\n",
        "* The `.length` function to return the length of a geometry object.\n",
        "* The `.geom_type` function to return the type of a geometry object.\n",
        "* The `.hausdorff_distance` function to return the furthest distance between two possible points in two separate geometry objects.\n",
        "* The `.representative_point` function to return a cheaply computed representative point for a geometry object (representative point != centroid).\n",
        "\n",
        "\n"
      ],
      "metadata": {
        "id": "e7zxHwhGIPPh"
      }
    },
    {
      "cell_type": "markdown",
      "source": [
        "Here is an example of the `.area` function in use:"
      ],
      "metadata": {
        "id": "5zBoPv9gJ6o8"
      }
    },
    {
      "cell_type": "code",
      "source": [
        "# Example: Obtaining the geometry area\n",
        "from shapely.geometry import Polygon\n",
        "my_polygon = Polygon([(1,1),(1,5),(5,5), (5,1)])\n",
        "print(my_polygon.area)\n",
        "my_polygon"
      ],
      "metadata": {
        "colab": {
          "base_uri": "https://localhost:8080/",
          "height": 139
        },
        "id": "HBdo4OjnJ-AM",
        "outputId": "027bf6bf-3887-47c1-c2eb-00fd39f05594"
      },
      "execution_count": null,
      "outputs": [
        {
          "output_type": "stream",
          "name": "stdout",
          "text": [
            "16.0\n"
          ]
        },
        {
          "output_type": "execute_result",
          "data": {
            "text/plain": [
              "<POLYGON ((1 1, 1 5, 5 5, 5 1, 1 1))>"
            ],
            "image/svg+xml": "<svg xmlns=\"http://www.w3.org/2000/svg\" xmlns:xlink=\"http://www.w3.org/1999/xlink\" width=\"100.0\" height=\"100.0\" viewBox=\"0.84 0.84 4.32 4.32\" preserveAspectRatio=\"xMinYMin meet\"><g transform=\"matrix(1,0,0,-1,0,6.0)\"><path fill-rule=\"evenodd\" fill=\"#66cc99\" stroke=\"#555555\" stroke-width=\"0.0864\" opacity=\"0.6\" d=\"M 1.0,1.0 L 1.0,5.0 L 5.0,5.0 L 5.0,1.0 L 1.0,1.0 z\" /></g></svg>"
          },
          "metadata": {},
          "execution_count": 5
        }
      ]
    },
    {
      "cell_type": "markdown",
      "source": [
        "Here is an example of the `.bounds` function in use:"
      ],
      "metadata": {
        "id": "bY3I55GrLmdq"
      }
    },
    {
      "cell_type": "code",
      "source": [
        "# Example: Obtaining object bounds\n",
        "from shapely.geometry import Polygon\n",
        "my_polygon = Polygon([(1,1),(1,5),(5,5), (5,1)])\n",
        "print(my_polygon.bounds)\n",
        "minx, miny, maxx, maxy = my_polygon.bounds\n",
        "print(minx, miny, maxx, maxy)\n",
        "my_polygon"
      ],
      "metadata": {
        "colab": {
          "base_uri": "https://localhost:8080/",
          "height": 157
        },
        "id": "6WJnn7j1LrB4",
        "outputId": "172cd58f-79f8-4741-fea4-35c4539e671d"
      },
      "execution_count": null,
      "outputs": [
        {
          "output_type": "stream",
          "name": "stdout",
          "text": [
            "(1.0, 1.0, 5.0, 5.0)\n",
            "1.0 1.0 5.0 5.0\n"
          ]
        },
        {
          "output_type": "execute_result",
          "data": {
            "text/plain": [
              "<POLYGON ((1 1, 1 5, 5 5, 5 1, 1 1))>"
            ],
            "image/svg+xml": "<svg xmlns=\"http://www.w3.org/2000/svg\" xmlns:xlink=\"http://www.w3.org/1999/xlink\" width=\"100.0\" height=\"100.0\" viewBox=\"0.84 0.84 4.32 4.32\" preserveAspectRatio=\"xMinYMin meet\"><g transform=\"matrix(1,0,0,-1,0,6.0)\"><path fill-rule=\"evenodd\" fill=\"#66cc99\" stroke=\"#555555\" stroke-width=\"0.0864\" opacity=\"0.6\" d=\"M 1.0,1.0 L 1.0,5.0 L 5.0,5.0 L 5.0,1.0 L 1.0,1.0 z\" /></g></svg>"
          },
          "metadata": {},
          "execution_count": 40
        }
      ]
    },
    {
      "cell_type": "markdown",
      "source": [
        "Here is an example of the `.length` function in use:"
      ],
      "metadata": {
        "id": "WV1eesFpLzeb"
      }
    },
    {
      "cell_type": "code",
      "source": [
        "# Example: Defining a shapely polygon geometry\n",
        "from shapely.geometry import LineString\n",
        "my_linestring = LineString([(1,1),(1,5)])\n",
        "print(my_linestring.length)\n",
        "my_linestring"
      ],
      "metadata": {
        "colab": {
          "base_uri": "https://localhost:8080/",
          "height": 139
        },
        "id": "AsZyc8GPL0IE",
        "outputId": "cc45a2cd-e59f-474c-b75f-814f2894bc46"
      },
      "execution_count": null,
      "outputs": [
        {
          "output_type": "stream",
          "name": "stdout",
          "text": [
            "4.0\n"
          ]
        },
        {
          "output_type": "execute_result",
          "data": {
            "text/plain": [
              "<LINESTRING (1 1, 1 5)>"
            ],
            "image/svg+xml": "<svg xmlns=\"http://www.w3.org/2000/svg\" xmlns:xlink=\"http://www.w3.org/1999/xlink\" width=\"100.0\" height=\"100.0\" viewBox=\"0.84 0.84 0.31999999999999995 4.32\" preserveAspectRatio=\"xMinYMin meet\"><g transform=\"matrix(1,0,0,-1,0,6.0)\"><polyline fill=\"none\" stroke=\"#66cc99\" stroke-width=\"0.0864\" points=\"1.0,1.0 1.0,5.0\" opacity=\"0.8\" /></g></svg>"
          },
          "metadata": {},
          "execution_count": 13
        }
      ]
    },
    {
      "cell_type": "markdown",
      "source": [
        "Here is an example of the `.geom_type` function in use:"
      ],
      "metadata": {
        "id": "v6HosVG3MA9j"
      }
    },
    {
      "cell_type": "code",
      "source": [
        "# Example: Obtaining geometry type\n",
        "from shapely.geometry import Polygon, LineString\n",
        "my_polygon = Polygon([(1,1),(1,5),(5,5), (5,1)])\n",
        "print(my_polygon.geom_type)\n",
        "my_polygon"
      ],
      "metadata": {
        "colab": {
          "base_uri": "https://localhost:8080/",
          "height": 139
        },
        "id": "297r5CBkMBSt",
        "outputId": "fb8a76ac-cc1a-49fb-f5c4-c3084c81714f"
      },
      "execution_count": null,
      "outputs": [
        {
          "output_type": "stream",
          "name": "stdout",
          "text": [
            "Polygon\n"
          ]
        },
        {
          "output_type": "execute_result",
          "data": {
            "text/plain": [
              "<POLYGON ((1 1, 1 5, 5 5, 5 1, 1 1))>"
            ],
            "image/svg+xml": "<svg xmlns=\"http://www.w3.org/2000/svg\" xmlns:xlink=\"http://www.w3.org/1999/xlink\" width=\"100.0\" height=\"100.0\" viewBox=\"0.84 0.84 4.32 4.32\" preserveAspectRatio=\"xMinYMin meet\"><g transform=\"matrix(1,0,0,-1,0,6.0)\"><path fill-rule=\"evenodd\" fill=\"#66cc99\" stroke=\"#555555\" stroke-width=\"0.0864\" opacity=\"0.6\" d=\"M 1.0,1.0 L 1.0,5.0 L 5.0,5.0 L 5.0,1.0 L 1.0,1.0 z\" /></g></svg>"
          },
          "metadata": {},
          "execution_count": 16
        }
      ]
    },
    {
      "cell_type": "code",
      "source": [
        "# Example: Obtaining geometry type\n",
        "from shapely.geometry import Polygon, LineString\n",
        "my_linestring = LineString([(1,1),(1,5)])\n",
        "print(my_linestring.geom_type)\n",
        "my_linestring"
      ],
      "metadata": {
        "colab": {
          "base_uri": "https://localhost:8080/",
          "height": 139
        },
        "id": "O_VKoUfnMi1F",
        "outputId": "5fcddc7f-c0df-4edd-f160-ef47df0547ae"
      },
      "execution_count": null,
      "outputs": [
        {
          "output_type": "stream",
          "name": "stdout",
          "text": [
            "LineString\n"
          ]
        },
        {
          "output_type": "execute_result",
          "data": {
            "text/plain": [
              "<LINESTRING (1 1, 1 5)>"
            ],
            "image/svg+xml": "<svg xmlns=\"http://www.w3.org/2000/svg\" xmlns:xlink=\"http://www.w3.org/1999/xlink\" width=\"100.0\" height=\"100.0\" viewBox=\"0.84 0.84 0.31999999999999995 4.32\" preserveAspectRatio=\"xMinYMin meet\"><g transform=\"matrix(1,0,0,-1,0,6.0)\"><polyline fill=\"none\" stroke=\"#66cc99\" stroke-width=\"0.0864\" points=\"1.0,1.0 1.0,5.0\" opacity=\"0.8\" /></g></svg>"
          },
          "metadata": {},
          "execution_count": 17
        }
      ]
    },
    {
      "cell_type": "markdown",
      "source": [
        "Here is an example of the `.hausdorff_distance` function in use:"
      ],
      "metadata": {
        "id": "xHe3nBFzMtSR"
      }
    },
    {
      "cell_type": "code",
      "source": [
        "# Example: Obtaining hausdorff distance\n",
        "from shapely.geometry import LineString, Point\n",
        "my_linestring = LineString([(1,1),(1,5)])\n",
        "my_point = Point((5,5))\n",
        "my_linestring.hausdorff_distance(my_point)"
      ],
      "metadata": {
        "colab": {
          "base_uri": "https://localhost:8080/"
        },
        "id": "8gsT03aEMuDg",
        "outputId": "9cb96519-d487-429a-beb5-3b621b8c566f"
      },
      "execution_count": null,
      "outputs": [
        {
          "output_type": "execute_result",
          "data": {
            "text/plain": [
              "5.656854249492381"
            ]
          },
          "metadata": {},
          "execution_count": 39
        }
      ]
    },
    {
      "cell_type": "markdown",
      "source": [
        "Here is an example of the `.representative_point` function in use:"
      ],
      "metadata": {
        "id": "1DpUZ6gAMZU_"
      }
    },
    {
      "cell_type": "code",
      "source": [
        "# Example: Obtaining a representative point\n",
        "from shapely.geometry import Polygon, LineString\n",
        "my_polygon = Polygon([(1,1),(1,5),(5,5), (5,1)])\n",
        "my_polygon\n",
        "print(my_polygon.representative_point())"
      ],
      "metadata": {
        "colab": {
          "base_uri": "https://localhost:8080/"
        },
        "id": "nfiTxHLlMZyu",
        "outputId": "80e2b6f9-8ba2-48c3-e95c-352a6f2b34ef"
      },
      "execution_count": null,
      "outputs": [
        {
          "output_type": "stream",
          "name": "stdout",
          "text": [
            "POINT (3 3)\n"
          ]
        }
      ]
    },
    {
      "cell_type": "markdown",
      "source": [
        "## Geometric operations\n",
        "\n",
        "Now we have covered the range of `Shapely` geospatial objects able to be specified within the package, we can begin working with spatial operations.\n",
        "\n",
        "Some of the key operations available to us to manipulate and analyze spatial objects, include:\n",
        "\n",
        "* **Union**: Where we may add together two or more spatial objects to represent the total geographic extent of all objects.\n",
        "* **Intersection**: Obtaining the common shared area between two or more spatial objects.\n",
        "* **Difference**: Where the difference between two or more spatial objects is obtained, e.g., the area present in one polygon but not a second partially overlapping polygon.\n",
        "* **Buffer**: Adding a buffer zone to a spatial object by converting to a polygon.\n",
        "* **Distance:** Calculating the distance between spatial objects.\n",
        "* **Validation:** Checking if a spatial object is actually valid (e.g., has a correctly specified geometry).\n"
      ],
      "metadata": {
        "id": "_NFCAVzDoD65"
      }
    },
    {
      "cell_type": "markdown",
      "source": [
        "### Union\n",
        "\n",
        "A union function will combine two different spatial objects (e.g., polygons), into a single spatial object representing the total extent.\n"
      ],
      "metadata": {
        "id": "N22f3w8nyIGT"
      }
    },
    {
      "cell_type": "code",
      "source": [
        "# Example: Specifying the union of two polygons\n",
        "from shapely.geometry import Polygon\n",
        "\n",
        "# First, we specify our two polygons\n",
        "polygon1 = Polygon([(1, 1), (1, 3), (3, 3), (3, 1), (1, 1)])\n",
        "polygon2 = Polygon([(0, 0), (2, 2), (2, 0), (2, 0), (2, 0)])\n",
        "\n",
        "# Then we perform the union operation\n",
        "union_result = polygon1.union(polygon2)\n",
        "\n",
        "print(polygon1)\n",
        "print(polygon2)\n",
        "print(union_result)"
      ],
      "metadata": {
        "colab": {
          "base_uri": "https://localhost:8080/"
        },
        "id": "AIXjVtphqn3K",
        "outputId": "b3cc1261-d361-46c3-9a43-5f346921ffcc"
      },
      "execution_count": null,
      "outputs": [
        {
          "output_type": "stream",
          "name": "stdout",
          "text": [
            "POLYGON ((1 1, 1 3, 3 3, 3 1, 1 1))\n",
            "POLYGON ((0 0, 2 2, 2 0, 2 0, 2 0, 0 0))\n",
            "POLYGON ((1 3, 3 3, 3 1, 2 1, 2 0, 0 0, 1 1, 1 3))\n"
          ]
        }
      ]
    },
    {
      "cell_type": "code",
      "source": [
        "# The code below plots these shapes.\n",
        "# You do not need to understand this code at this stage.\n",
        "import matplotlib.pyplot as plt\n",
        "import geopandas as gpd\n",
        "fig, (ax1, ax2) = plt.subplots(1, 2, figsize=(5,5))\n",
        "a = gpd.GeoSeries(polygon1)\n",
        "b = gpd.GeoSeries(polygon2)\n",
        "c = gpd.GeoSeries(union_result)\n",
        "a.plot(color='red', alpha=.2, ax=ax1)\n",
        "b.plot(color='blue', alpha=.2, ax=ax1)\n",
        "c.plot(color='green', alpha=.2, ax=ax2)\n",
        "plt.show()"
      ],
      "metadata": {
        "colab": {
          "base_uri": "https://localhost:8080/",
          "height": 236
        },
        "id": "Xy1fcNEEFIQk",
        "outputId": "e436082b-c234-46fb-f233-dc469bab9d5d"
      },
      "execution_count": null,
      "outputs": [
        {
          "output_type": "display_data",
          "data": {
            "text/plain": [
              "<Figure size 500x500 with 2 Axes>"
            ],
            "image/png": "[encoded data removed]"
          },
          "metadata": {}
        }
      ]
    },
    {
      "cell_type": "markdown",
      "source": [
        "## Task\n",
        "\n",
        "* Specify two square Shapely polygons which overlap.\n",
        "* Obtain the union of these two polygons."
      ],
      "metadata": {
        "id": "-bSjaeztGPM0"
      }
    },
    {
      "cell_type": "code",
      "source": [
        "# Enter your attempt here\n"
      ],
      "metadata": {
        "id": "l-4Z64cAGPiq"
      },
      "execution_count": null,
      "outputs": []
    },
    {
      "cell_type": "markdown",
      "source": [
        "### Intersection\n",
        "\n",
        "The intersection returns the common shared area between two or more spatial objects (e.g., Polygons).\n"
      ],
      "metadata": {
        "id": "LEfzDc4LzfaB"
      }
    },
    {
      "cell_type": "code",
      "source": [
        "# Example: Specifying the intersection of a linestring and polygon\n",
        "from shapely.geometry import LineString, Polygon\n",
        "\n",
        "# First, we specify our linestring and polygon\n",
        "line = LineString([(0, 0), (4, 4)])\n",
        "polygon = Polygon([(1, 1), (1, 3), (3, 3), (3, 1), (1, 1)])\n",
        "\n",
        "# Then we perform the union operation\n",
        "intersection_result = line.intersection(polygon)\n",
        "\n",
        "# Our result\n",
        "print(\"First linestring: {}\".format(line))\n",
        "print(\"Second polygon: {}\".format(polygon))\n",
        "print(\"Intersection polygon: {}\".format(intersection_result))"
      ],
      "metadata": {
        "colab": {
          "base_uri": "https://localhost:8080/"
        },
        "id": "gxoj81Sfzgo2",
        "outputId": "8f24b558-e976-4c1f-8835-9ce2159cf051"
      },
      "execution_count": null,
      "outputs": [
        {
          "output_type": "stream",
          "name": "stdout",
          "text": [
            "First linestring: LINESTRING (0 0, 4 4)\n",
            "Second polygon: POLYGON ((1 1, 1 3, 3 3, 3 1, 1 1))\n",
            "Intersection polygon: LINESTRING (1 1, 3 3)\n"
          ]
        }
      ]
    },
    {
      "cell_type": "code",
      "source": [
        "# The code below plots these shapes.\n",
        "# You do not need to understand this code at this stage.\n",
        "import matplotlib.pyplot as plt\n",
        "import geopandas as gpd\n",
        "fig, (ax1, ax2) = plt.subplots(1, 2, figsize=(5,5))\n",
        "a = gpd.GeoSeries(line)\n",
        "b = gpd.GeoSeries(polygon)\n",
        "c = gpd.GeoSeries(intersection_result)\n",
        "a.plot(color='red', alpha=.2, ax=ax1)\n",
        "b.plot(color='blue', alpha=.2, ax=ax1)\n",
        "c.plot(color='green', alpha=.2, ax=ax2)\n",
        "ax1.axis((0,5,0,5))\n",
        "ax2.axis((0,5,0,5))\n",
        "plt.show()"
      ],
      "metadata": {
        "colab": {
          "base_uri": "https://localhost:8080/",
          "height": 242
        },
        "id": "7yuynrYE_Egr",
        "outputId": "7ec2a310-bb04-412c-bc9b-5c3fce1082cb"
      },
      "execution_count": null,
      "outputs": [
        {
          "output_type": "display_data",
          "data": {
            "text/plain": [
              "<Figure size 500x500 with 2 Axes>"
            ],
            "image/png": "[encoded data removed]"
          },
          "metadata": {}
        }
      ]
    },
    {
      "cell_type": "markdown",
      "source": [
        "### Difference\n",
        "\n",
        "With the `difference` function, we are returned the non-overlapping area, e.g., present in one polygon but not the second."
      ],
      "metadata": {
        "id": "UPAPy0yC2l7N"
      }
    },
    {
      "cell_type": "code",
      "source": [
        "# Example: Specifying the difference of two polygons\n",
        "from shapely.geometry import Polygon\n",
        "from shapely.plotting import plot_polygon\n",
        "\n",
        "# First, we specify our two polygons\n",
        "polygon1 = Polygon([(4, 4), (4, 5), (5, 5), (5, 4), (4, 4)])\n",
        "polygon2 = Polygon([(4, 4), (5, 5), (6, 5), (7, 4), (4, 4)])\n",
        "\n",
        "# Then we perform the difference operation\n",
        "difference_result = polygon1.difference(polygon2)\n",
        "\n",
        "# Explore the difference between the original polygons and union object\n",
        "print(\"First polygon: {}\".format(polygon1))\n",
        "print(\"Second polygon: {}\".format(polygon2))\n",
        "print(\"Difference polygon: {}\".format(difference_result))"
      ],
      "metadata": {
        "colab": {
          "base_uri": "https://localhost:8080/"
        },
        "id": "fLWDb7FB0BTf",
        "outputId": "fd2ef365-c0b1-48a4-f0d1-e6895d64e383"
      },
      "execution_count": null,
      "outputs": [
        {
          "output_type": "stream",
          "name": "stdout",
          "text": [
            "First polygon: POLYGON ((4 4, 4 5, 5 5, 5 4, 4 4))\n",
            "Second polygon: POLYGON ((4 4, 5 5, 6 5, 7 4, 4 4))\n",
            "Difference polygon: POLYGON ((4 5, 5 5, 4 4, 4 5))\n"
          ]
        }
      ]
    },
    {
      "cell_type": "code",
      "source": [
        "# The code below plots these shapes.\n",
        "# You do not need to understand this code at this stage.\n",
        "import matplotlib.pyplot as plt\n",
        "import geopandas as gpd\n",
        "fig, (ax1, ax2) = plt.subplots(1, 2, figsize=(5,5))\n",
        "a = gpd.GeoSeries(polygon1)\n",
        "b = gpd.GeoSeries(polygon2)\n",
        "c = gpd.GeoSeries(difference_result)\n",
        "a.plot(color='red', alpha=.2, ax=ax1)\n",
        "b.plot(color='blue', alpha=.2, ax=ax1)\n",
        "c.plot(color='green', alpha=.2, ax=ax2)\n",
        "ax1.axis((3,8,3,6))\n",
        "ax2.axis((3,8,3,6))\n",
        "plt.show()"
      ],
      "metadata": {
        "colab": {
          "base_uri": "https://localhost:8080/",
          "height": 171
        },
        "id": "5wOHUOCQBXkL",
        "outputId": "79a771b8-cdab-42ce-beca-938e4c3c0e86"
      },
      "execution_count": null,
      "outputs": [
        {
          "output_type": "display_data",
          "data": {
            "text/plain": [
              "<Figure size 500x500 with 2 Axes>"
            ],
            "image/png": "[encoded data removed]"
          },
          "metadata": {}
        }
      ]
    },
    {
      "cell_type": "markdown",
      "source": [
        "## Task\n",
        "\n",
        "* Specify a triangle Shapely polygon object.\n",
        "* Specify a line which runs through the triangle.\n",
        "* Obtain the intersection of these two spatial objects.\n",
        "* Obtain the difference of these two spatial objects."
      ],
      "metadata": {
        "id": "FdwqqGa0GdTs"
      }
    },
    {
      "cell_type": "code",
      "source": [
        "# Enter your attempt here\n"
      ],
      "metadata": {
        "id": "n7dhuuhiGdmb"
      },
      "execution_count": null,
      "outputs": []
    },
    {
      "cell_type": "markdown",
      "source": [
        "### Buffer\n",
        "\n",
        "The `buffer` function allows us to add a border of a user-defined width to any object. For example, passing a linestring, would return a polygon based on the defined buffer width."
      ],
      "metadata": {
        "id": "QezGNOsf3SUR"
      }
    },
    {
      "cell_type": "code",
      "source": [
        "# Example: Buffering a spatial object\n",
        "from shapely.geometry import LineString\n",
        "\n",
        "# Create our line\n",
        "line = LineString([(1,2), (3,4)])\n",
        "\n",
        "# Add the buffer (e.g. 5 meters)\n",
        "buffered_line = line.buffer(.2)\n",
        "\n",
        "# Print the results\n",
        "print(\"Our original line: {}\".format(line))\n",
        "print(\"Our buffered line: {}\".format(buffered_line))"
      ],
      "metadata": {
        "colab": {
          "base_uri": "https://localhost:8080/"
        },
        "id": "t4K2hoK4zh_3",
        "outputId": "eb8e326b-ca1e-419e-8b18-6fbc5d63c041"
      },
      "execution_count": null,
      "outputs": [
        {
          "output_type": "stream",
          "name": "stdout",
          "text": [
            "Our original line: LINESTRING (1 2, 3 4)\n",
            "Our buffered line: POLYGON ((2.8585786437626903 4.141421356237309, 2.873121343167271 4.154602090672547, 2.8888859533960796 4.166293922460509, 2.9057206526348005 4.176384252869671, 2.923463313526982 4.184775906502257, 2.9419430645491076 4.191388067146442, 2.9609819355967746 4.196157056080646, 2.980396571934088 4.19903694533444, 3 4.2, 3.019603428065912 4.19903694533444, 3.039018064403226 4.196157056080646, 3.0580569354508924 4.191388067146442, 3.076536686473018 4.184775906502257, 3.0942793473651995 4.176384252869671, 3.1111140466039204 4.166293922460509, 3.126878656832729 4.154602090672547, 3.1414213562373097 4.141421356237309, 3.1546020906725474 4.126878656832729, 3.166293922460509 4.11111404660392, 3.176384252869671 4.0942793473652, 3.1847759065022574 4.076536686473018, 3.1913880671464416 4.058056935450892, 3.1961570560806463 4.039018064403225, 3.1990369453344396 4.0196034280659125, 3.2 4, 3.1990369453344396 3.980396571934088, 3.1961570560806463 3.960981935596774, 3.1913880671464416 3.9419430645491076, 3.1847759065022574 3.923463313526982, 3.176384252869671 3.9057206526348005, 3.166293922460509 3.8888859533960796, 3.1546020906725474 3.873121343167271, 3.1414213562373097 3.8585786437626903, 1.1414213562373094 1.8585786437626906, 1.1268786568327291 1.8453979093274526, 1.1111140466039204 1.8337060775394909, 1.0942793473651995 1.823615747130329, 1.076536686473018 1.8152240934977426, 1.0580569354508924 1.8086119328535581, 1.0390180644032256 1.803842943919354, 1.019603428065912 1.8009630546655606, 1 1.8, 0.9803965719340879 1.8009630546655606, 0.9609819355967744 1.803842943919354, 0.9419430645491076 1.8086119328535581, 0.9234633135269821 1.8152240934977426, 0.9057206526348005 1.823615747130329, 0.8888859533960796 1.8337060775394909, 0.8731213431672709 1.8453979093274526, 0.8585786437626906 1.8585786437626906, 0.8453979093274526 1.8731213431672709, 0.8337060775394909 1.8888859533960796, 0.823615747130329 1.9057206526348005, 0.8152240934977426 1.923463313526982, 0.8086119328535583 1.9419430645491076, 0.803842943919354 1.9609819355967744, 0.8009630546655606 1.980396571934088, 0.8 2, 0.8009630546655606 2.019603428065912, 0.803842943919354 2.039018064403226, 0.8086119328535581 2.0580569354508924, 0.8152240934977426 2.076536686473018, 0.8236157471303289 2.0942793473651995, 0.8337060775394909 2.1111140466039204, 0.8453979093274526 2.126878656832729, 0.8585786437626906 2.1414213562373097, 2.8585786437626903 4.141421356237309))\n"
          ]
        }
      ]
    },
    {
      "cell_type": "code",
      "source": [
        "# The code below plots these shapes.\n",
        "# You do not need to understand this code at this stage.\n",
        "import matplotlib.pyplot as plt\n",
        "import geopandas as gpd\n",
        "fig, (ax1, ax2) = plt.subplots(1, 2, figsize=(5,5))\n",
        "a = gpd.GeoSeries(line)\n",
        "b = gpd.GeoSeries(buffered_line)\n",
        "a.plot(color='red', alpha=.2, ax=ax1)\n",
        "b.plot(color='blue', alpha=.2, ax=ax2)\n",
        "ax1.axis((0,5,0,5))\n",
        "ax2.axis((0,5,0,5))\n",
        "plt.show()"
      ],
      "metadata": {
        "colab": {
          "base_uri": "https://localhost:8080/",
          "height": 242
        },
        "id": "aDoRDAy4CB6g",
        "outputId": "7b54f79a-4349-46e8-b688-988cf81e53fe"
      },
      "execution_count": null,
      "outputs": [
        {
          "output_type": "display_data",
          "data": {
            "text/plain": [
              "<Figure size 500x500 with 2 Axes>"
            ],
            "image/png": "[encoded data removed]"
          },
          "metadata": {}
        }
      ]
    },
    {
      "cell_type": "markdown",
      "source": [
        "## Task\n",
        "\n",
        "* Specify a Shapely point with coordinates 9 and 9. Add a 2 meter buffer.\n",
        "* Specify a Shapely line with the coordinates 9 and 9, and 2 and 2. Add a 4 meter buffer."
      ],
      "metadata": {
        "id": "u_Fs3i3FGrfe"
      }
    },
    {
      "cell_type": "code",
      "source": [
        "# Enter your attempt here\n"
      ],
      "metadata": {
        "id": "fl_seGzbGs0N"
      },
      "execution_count": null,
      "outputs": []
    },
    {
      "cell_type": "markdown",
      "source": [
        "### Distance\n",
        "\n",
        "A very commonly used function is measuring the distance between two point.\n"
      ],
      "metadata": {
        "id": "e96gx0jSziI2"
      }
    },
    {
      "cell_type": "code",
      "source": [
        "# Example: Measuring distance between spatial objects\n",
        "from shapely.geometry import Point\n",
        "\n",
        "# Define our two points\n",
        "point1 = Point(0, 0)\n",
        "point2 = Point(3, 4)\n",
        "\n",
        "# Estimate the (Euclidean) distance between points\n",
        "distance = point1.distance(point2)\n",
        "\n",
        "# Explore output\n",
        "print(\"Point 1: {}\".format(point1))\n",
        "print(\"Point 2: {}\".format(point2))\n",
        "print(\"Distance between points is: {}\".format(distance))\n"
      ],
      "metadata": {
        "colab": {
          "base_uri": "https://localhost:8080/"
        },
        "id": "WX_c1oktziI3",
        "outputId": "4eae4cd4-206d-4c1d-def4-ea9a303935e9"
      },
      "execution_count": null,
      "outputs": [
        {
          "output_type": "stream",
          "name": "stdout",
          "text": [
            "Point 1: POINT (0 0)\n",
            "Point 2: POINT (3 4)\n",
            "Distance between points is: 5.0\n"
          ]
        }
      ]
    },
    {
      "cell_type": "markdown",
      "source": [
        "## Task\n",
        "\n",
        "* Calculate the distance between the coordinates 2 and 2, and 9 and 9.\n",
        "* For the triangle you created in a previous task, calculate the distance between each point."
      ],
      "metadata": {
        "id": "tOPFBtZMGyw8"
      }
    },
    {
      "cell_type": "code",
      "source": [
        "# Enter your attempt here\n"
      ],
      "metadata": {
        "id": "wdcCNKEDGyiE"
      },
      "execution_count": null,
      "outputs": []
    },
    {
      "cell_type": "markdown",
      "source": [
        "### Validation"
      ],
      "metadata": {
        "id": "yhQQG3s1ziRW"
      }
    },
    {
      "cell_type": "markdown",
      "source": [
        "Often we may need to check if a geometry has been correctly defined."
      ],
      "metadata": {
        "id": "oqama0-Q63bn"
      }
    },
    {
      "cell_type": "code",
      "source": [
        "# Example: Checking if a geometry is valid\n",
        "from shapely.geometry import Polygon\n",
        "\n",
        "valid_polygon = Polygon([(5, 4), (5, 5), (6, 5), (7, 4), (5, 4)])\n",
        "\n",
        "is_valid = valid_polygon.is_valid\n",
        "print(\"Is this geometry valid? {}\".format(is_valid))\n"
      ],
      "metadata": {
        "colab": {
          "base_uri": "https://localhost:8080/"
        },
        "id": "4sgfS6oOziRX",
        "outputId": "31af0b4a-c83a-4365-fa86-e23d2422b536"
      },
      "execution_count": null,
      "outputs": [
        {
          "output_type": "stream",
          "name": "stdout",
          "text": [
            "Is this geometry valid? True\n"
          ]
        }
      ]
    },
    {
      "cell_type": "markdown",
      "source": [
        "## Collections\n",
        "\n",
        "A geometry collection is a single aggregated structure which contains lots of geometry objects (e.g., some combination of points, lines, polygons etc.).\n",
        "\n",
        "Use cases for collections can be when:\n",
        "\n",
        "* You have very complex spatial data with multiple geomtry types.\n",
        "* You want to aggregate lots of data into a single easy-to-use structure.\n",
        "\n",
        "Just be aware that highly nested data structures will become less computationally efficient to process. Moreover, because you may be mixing geometries you lose a certain degree of flexibility, requiring you to break out specific geometry types for processing, e.g., area vs length when using mixed polygons and linestrings etc.  "
      ],
      "metadata": {
        "id": "fNHmnGOqRXxr"
      }
    },
    {
      "cell_type": "code",
      "source": [
        "# Example: Heterogenous geometry collection\n",
        "from shapely.geometry import Point, LineString, Polygon, GeometryCollection\n",
        "\n",
        "# Define geometry objects\n",
        "my_point = Point(1, 5)\n",
        "my_line = LineString([(1, 1), (1, 5), (5, 5)])\n",
        "my_polygon = Polygon([(1, 1), (1, 5), (5, 5), (1, 5)])\n",
        "\n",
        "# Create a GeometryCollection\n",
        "geom_collection = GeometryCollection([my_point, my_line, my_polygon])\n",
        "\n",
        "# Accessing the data: Print whole collection\n",
        "print(geom_collection)\n",
        "\n",
        "# Accessing the data: Print collection items individually\n",
        "print(geom_collection.geoms[0])\n",
        "print(geom_collection.geoms[1])\n",
        "print(geom_collection.geoms[2])\n",
        "\n",
        "# Accessing the data: Loop over geometry items\n",
        "for geom in geom_collection.geoms:\n",
        "  print(geom)\n",
        "\n",
        "# Accessing the data: List comprehension\n",
        "print([geom for geom in geom_collection.geoms])"
      ],
      "metadata": {
        "colab": {
          "base_uri": "https://localhost:8080/"
        },
        "id": "5l9Grb8pR58g",
        "outputId": "7cbd2252-0d70-43a8-d52e-4c27f46f89e2"
      },
      "execution_count": null,
      "outputs": [
        {
          "output_type": "stream",
          "name": "stdout",
          "text": [
            "GEOMETRYCOLLECTION (POINT (1 5), LINESTRING (1 1, 1 5, 5 5), POLYGON ((1 1, 1 5, 5 5, 1 5, 1 1)))\n",
            "POINT (1 5)\n",
            "LINESTRING (1 1, 1 5, 5 5)\n",
            "POLYGON ((1 1, 1 5, 5 5, 1 5, 1 1))\n",
            "POINT (1 5)\n",
            "LINESTRING (1 1, 1 5, 5 5)\n",
            "POLYGON ((1 1, 1 5, 5 5, 1 5, 1 1))\n",
            "[<POINT (1 5)>, <LINESTRING (1 1, 1 5, 5 5)>, <POLYGON ((1 1, 1 5, 5 5, 1 5, 1 1))>]\n"
          ]
        }
      ]
    },
    {
      "cell_type": "markdown",
      "source": [
        "It is possible to store single geometry object types in a single referencable structure, for example, such as a `MultiPoint`, `MultiLineString`, `Multipolygon`, etc.\n",
        "\n",
        "Examples are shown as follows:"
      ],
      "metadata": {
        "id": "SwfcYBi7UDDM"
      }
    },
    {
      "cell_type": "code",
      "source": [
        "# Example: MultiPoint\n",
        "from shapely import MultiPoint\n",
        "points = MultiPoint([(0.0, 0.0), (1.0, 1.0)])\n",
        "points"
      ],
      "metadata": {
        "colab": {
          "base_uri": "https://localhost:8080/",
          "height": 121
        },
        "id": "Puq_iCkJUTJN",
        "outputId": "e848e378-2f23-460c-f104-064540d970d2"
      },
      "execution_count": null,
      "outputs": [
        {
          "output_type": "execute_result",
          "data": {
            "text/plain": [
              "<MULTIPOINT (0 0, 1 1)>"
            ],
            "image/svg+xml": "<svg xmlns=\"http://www.w3.org/2000/svg\" xmlns:xlink=\"http://www.w3.org/1999/xlink\" width=\"100.0\" height=\"100.0\" viewBox=\"-0.04 -0.04 1.08 1.08\" preserveAspectRatio=\"xMinYMin meet\"><g transform=\"matrix(1,0,0,-1,0,1.0)\"><g><circle cx=\"0.0\" cy=\"0.0\" r=\"0.0324\" stroke=\"#555555\" stroke-width=\"0.0108\" fill=\"#66cc99\" opacity=\"0.6\" /><circle cx=\"1.0\" cy=\"1.0\" r=\"0.0324\" stroke=\"#555555\" stroke-width=\"0.0108\" fill=\"#66cc99\" opacity=\"0.6\" /></g></g></svg>"
          },
          "metadata": {},
          "execution_count": 50
        }
      ]
    },
    {
      "cell_type": "code",
      "source": [
        "# Example: MultiLineString\n",
        "from shapely import MultiLineString\n",
        "coords = [((0, 0), (1, 1)), ((-1, 0), (1, 0))]\n",
        "lines = MultiLineString(coords)\n",
        "lines"
      ],
      "metadata": {
        "colab": {
          "base_uri": "https://localhost:8080/",
          "height": 121
        },
        "id": "4ezLjhAzUso4",
        "outputId": "ad5bca69-fe05-4151-840d-7f9aae599aca"
      },
      "execution_count": null,
      "outputs": [
        {
          "output_type": "execute_result",
          "data": {
            "text/plain": [
              "<MULTILINESTRING ((0 0, 1 1), (-1 0, 1 0))>"
            ],
            "image/svg+xml": "<svg xmlns=\"http://www.w3.org/2000/svg\" xmlns:xlink=\"http://www.w3.org/1999/xlink\" width=\"100.0\" height=\"100.0\" viewBox=\"-1.08 -0.08 2.16 1.1600000000000001\" preserveAspectRatio=\"xMinYMin meet\"><g transform=\"matrix(1,0,0,-1,0,1.0)\"><g><polyline fill=\"none\" stroke=\"#66cc99\" stroke-width=\"0.0432\" points=\"0.0,0.0 1.0,1.0\" opacity=\"0.8\" /><polyline fill=\"none\" stroke=\"#66cc99\" stroke-width=\"0.0432\" points=\"-1.0,0.0 1.0,0.0\" opacity=\"0.8\" /></g></g></svg>"
          },
          "metadata": {},
          "execution_count": 52
        }
      ]
    },
    {
      "cell_type": "code",
      "source": [
        "# Example: MultiPolygon\n",
        "from shapely import MultiPolygon\n",
        "my_polygon1 = Polygon([(1, 1), (1, 5), (5, 5), (1, 1)])\n",
        "my_polygon2 = Polygon([(6, 6), (6,10), (10, 10), (6, 6)])\n",
        "polygons = MultiPolygon([my_polygon1, my_polygon2])\n",
        "polygons"
      ],
      "metadata": {
        "colab": {
          "base_uri": "https://localhost:8080/",
          "height": 121
        },
        "id": "UkZybHG4U0KF",
        "outputId": "b14664f6-ea84-4456-bd25-7bef24a21220"
      },
      "execution_count": null,
      "outputs": [
        {
          "output_type": "execute_result",
          "data": {
            "text/plain": [
              "<MULTIPOLYGON (((1 1, 1 5, 5 5, 1 1)), ((6 6, 6 10, 10 10, 6 6)))>"
            ],
            "image/svg+xml": "<svg xmlns=\"http://www.w3.org/2000/svg\" xmlns:xlink=\"http://www.w3.org/1999/xlink\" width=\"100.0\" height=\"100.0\" viewBox=\"0.64 0.64 9.719999999999999 9.719999999999999\" preserveAspectRatio=\"xMinYMin meet\"><g transform=\"matrix(1,0,0,-1,0,11.0)\"><g><path fill-rule=\"evenodd\" fill=\"#66cc99\" stroke=\"#555555\" stroke-width=\"0.1944\" opacity=\"0.6\" d=\"M 1.0,1.0 L 1.0,5.0 L 5.0,5.0 L 1.0,1.0 z\" /><path fill-rule=\"evenodd\" fill=\"#66cc99\" stroke=\"#555555\" stroke-width=\"0.1944\" opacity=\"0.6\" d=\"M 6.0,6.0 L 6.0,10.0 L 10.0,10.0 L 6.0,6.0 z\" /></g></g></svg>"
          },
          "metadata": {},
          "execution_count": 63
        }
      ]
    },
    {
      "cell_type": "code",
      "source": [
        "# Example: MultiPolygon\n",
        "print(polygons.bounds)\n",
        "print(polygons.area)\n",
        "print(polygons.geoms)"
      ],
      "metadata": {
        "colab": {
          "base_uri": "https://localhost:8080/"
        },
        "id": "crO2msZvVttd",
        "outputId": "4d8352c2-7b12-48bb-f3ad-56df37a23626"
      },
      "execution_count": null,
      "outputs": [
        {
          "output_type": "stream",
          "name": "stdout",
          "text": [
            "(1.0, 1.0, 10.0, 10.0)\n",
            "16.0\n",
            "<shapely.geometry.base.GeometrySequence object at 0x7c6070387d90>\n"
          ]
        }
      ]
    }
  ]
}